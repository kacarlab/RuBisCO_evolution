{
 "cells": [
  {
   "cell_type": "code",
   "execution_count": null,
   "metadata": {
    "tags": [
     "parameters"
    ]
   },
   "outputs": [],
   "source": [
    "product = None\n",
    "upstream = None\n",
    "md_reference_data = None"
   ]
  },
  {
   "attachments": {},
   "cell_type": "markdown",
   "metadata": {},
   "source": [
    "# Contact analysis for Rubisco Extant protein complexes"
   ]
  },
  {
   "cell_type": "code",
   "execution_count": 1,
   "metadata": {},
   "outputs": [
    {
     "name": "stderr",
     "output_type": "stream",
     "text": [
      "/home/kaustubh/miniconda3/envs/md-analysis/lib/python3.10/site-packages/Bio/pairwise2.py:278: BiopythonDeprecationWarning: Bio.pairwise2 has been deprecated, and we intend to remove it in a future release of Biopython. As an alternative, please consider using Bio.Align.PairwiseAligner as a replacement, and contact the Biopython developers if you still need the Bio.pairwise2 module.\n",
      "  warnings.warn(\n"
     ]
    }
   ],
   "source": [
    "import MDAnalysis as mda\n",
    "#from MDAnalysis.tests.datafiles import TPR, XTC\n",
    "from MDAnalysis.analysis import density\n",
    "from MDAnalysis.analysis import rdf\n",
    "from MDAnalysis.analysis import contacts\n",
    "import prody as pdy\n",
    "import numpy as np\n",
    "import pandas as pd\n",
    "import matplotlib.pyplot as plt\n",
    "import json\n",
    "import seaborn as sns\n",
    "import math"
   ]
  },
  {
   "cell_type": "code",
   "execution_count": 2,
   "metadata": {},
   "outputs": [],
   "source": [
    "def contacts_within_cutoff(u, group_a, group_b, radius=6.0):\n",
    "    timeseries = []\n",
    "    for ts in u.trajectory:\n",
    "        dist = contacts.distance_array(group_a.positions, group_b.positions)\n",
    "        n_contacts = contacts.contact_matrix(dist, radius).sum()\n",
    "        timeseries.append([ts.frame, n_contacts])\n",
    "    return np.array(timeseries)"
   ]
  },
  {
   "cell_type": "code",
   "execution_count": 3,
   "metadata": {},
   "outputs": [],
   "source": [
    "lsu_chains = ['A','E','I','M','C','G','K','O']\n",
    "ssu_chains = ['B','F','J','N','D','H','L','P']"
   ]
  },
  {
   "cell_type": "code",
   "execution_count": 4,
   "metadata": {},
   "outputs": [],
   "source": [
    "def average_gas_per_subunit(pdb_file, dcd_file, gas, atom, conc):\n",
    "    env = mda.Universe(pdb_file, dcd_file, frames=\"all\")\n",
    "    prot_lsu_atoms = env.select_atoms('protein').select_atoms('name CA and (segid A or segid E or segid I or segid M or segid C or segid G or segid K or segid O)')     # This is the annotation for 8RUC reference structure we have\n",
    "    prot_ssu_atoms = env.select_atoms('protein').select_atoms('name CA and (segid B or segid F or segid J or segid N or segid D or segid H or segid L or segid P)')\n",
    "    gas_atoms = env.select_atoms('resname ' + gas).select_atoms('name ' + atom)\n",
    "\n",
    "    ca_lsu = contacts_within_cutoff(env, gas_atoms, prot_lsu_atoms, radius=6.0)\n",
    "    ca_lsu_df = pd.DataFrame(ca_lsu, columns=['Frame', '# Contacts'])\n",
    "\n",
    "    ca_ssu = contacts_within_cutoff(env, gas_atoms, prot_ssu_atoms, radius=6.0)\n",
    "    ca_ssu_df = pd.DataFrame(ca_ssu, columns=['Frame', '# Contacts'])\n",
    "\n",
    "    avg_val_lsu = sum(ca_lsu_df['# Contacts'][249:749])/len(prot_lsu_atoms)\n",
    "    avg_val_ssu = sum(ca_ssu_df['# Contacts'][249:749])/len(prot_ssu_atoms)\n",
    "\n",
    "    return(avg_val_lsu, avg_val_ssu)"
   ]
  },
  {
   "cell_type": "code",
   "execution_count": 5,
   "metadata": {},
   "outputs": [],
   "source": [
    "def average_gas_per_individual_subunit(pdb_file, dcd_file, gas, atom, conc):\n",
    "    \n",
    "    env = mda.Universe(pdb_file, dcd_file, frames=\"all\")\n",
    "    gas_atoms = env.select_atoms('resname ' + gas).select_atoms('name ' + atom)\n",
    "\n",
    "    li_ca_lsu = []\n",
    "    for id in lsu_chains:\n",
    "        prot_lsu_atoms = env.select_atoms('protein').select_atoms('name CA and segid ' + id)\n",
    "        ca_lsu = contacts_within_cutoff(env, gas_atoms, prot_lsu_atoms, radius=6.0)\n",
    "        ca_lsu_df = pd.DataFrame(ca_lsu, columns=['Frame', '# Contacts'])\n",
    "        avg_val_lsu = sum(ca_lsu_df['# Contacts'][249:749])/len(prot_lsu_atoms)\n",
    "        li_ca_lsu.append(avg_val_lsu)\n",
    "        \n",
    "    li_ca_ssu = []\n",
    "    for id in ssu_chains:\n",
    "        prot_ssu_atoms = env.select_atoms('protein').select_atoms('name CA and segid ' + id)\n",
    "        ca_ssu = contacts_within_cutoff(env, gas_atoms, prot_ssu_atoms, radius=6.0)\n",
    "        ca_ssu_df = pd.DataFrame(ca_ssu, columns=['Frame', '# Contacts'])\n",
    "        try:\n",
    "            avg_val_ssu = sum(ca_ssu_df['# Contacts'][249:749])/len(prot_ssu_atoms)\n",
    "        except ZeroDivisionError:\n",
    "            avg_val_ssu = 0\n",
    "        li_ca_ssu.append(avg_val_ssu)\n",
    "\n",
    "    return(li_ca_lsu, li_ca_ssu)"
   ]
  },
  {
   "cell_type": "code",
   "execution_count": 8,
   "metadata": {},
   "outputs": [
    {
     "name": "stderr",
     "output_type": "stream",
     "text": [
      "/home/kaustubh/miniconda3/envs/md-analysis/lib/python3.10/site-packages/MDAnalysis/topology/PDBParser.py:328: UserWarning: Element information is missing, elements attribute will not be populated. If needed these can be guessed using MDAnalysis.topology.guessers.\n",
      "  warnings.warn(\"Element information is missing, elements attribute \"\n",
      "/home/kaustubh/miniconda3/envs/md-analysis/lib/python3.10/site-packages/MDAnalysis/topology/PDBParser.py:328: UserWarning: Element information is missing, elements attribute will not be populated. If needed these can be guessed using MDAnalysis.topology.guessers.\n",
      "  warnings.warn(\"Element information is missing, elements attribute \"\n",
      "/home/kaustubh/miniconda3/envs/md-analysis/lib/python3.10/site-packages/MDAnalysis/topology/PDBParser.py:328: UserWarning: Element information is missing, elements attribute will not be populated. If needed these can be guessed using MDAnalysis.topology.guessers.\n",
      "  warnings.warn(\"Element information is missing, elements attribute \"\n",
      "/home/kaustubh/miniconda3/envs/md-analysis/lib/python3.10/site-packages/MDAnalysis/topology/PDBParser.py:328: UserWarning: Element information is missing, elements attribute will not be populated. If needed these can be guessed using MDAnalysis.topology.guessers.\n",
      "  warnings.warn(\"Element information is missing, elements attribute \"\n",
      "/home/kaustubh/miniconda3/envs/md-analysis/lib/python3.10/site-packages/MDAnalysis/topology/PDBParser.py:328: UserWarning: Element information is missing, elements attribute will not be populated. If needed these can be guessed using MDAnalysis.topology.guessers.\n",
      "  warnings.warn(\"Element information is missing, elements attribute \"\n",
      "/home/kaustubh/miniconda3/envs/md-analysis/lib/python3.10/site-packages/MDAnalysis/topology/PDBParser.py:328: UserWarning: Element information is missing, elements attribute will not be populated. If needed these can be guessed using MDAnalysis.topology.guessers.\n",
      "  warnings.warn(\"Element information is missing, elements attribute \"\n",
      "/home/kaustubh/miniconda3/envs/md-analysis/lib/python3.10/site-packages/MDAnalysis/topology/PDBParser.py:328: UserWarning: Element information is missing, elements attribute will not be populated. If needed these can be guessed using MDAnalysis.topology.guessers.\n",
      "  warnings.warn(\"Element information is missing, elements attribute \"\n",
      "/home/kaustubh/miniconda3/envs/md-analysis/lib/python3.10/site-packages/MDAnalysis/topology/PDBParser.py:328: UserWarning: Element information is missing, elements attribute will not be populated. If needed these can be guessed using MDAnalysis.topology.guessers.\n",
      "  warnings.warn(\"Element information is missing, elements attribute \"\n",
      "/home/kaustubh/miniconda3/envs/md-analysis/lib/python3.10/site-packages/MDAnalysis/topology/PDBParser.py:328: UserWarning: Element information is missing, elements attribute will not be populated. If needed these can be guessed using MDAnalysis.topology.guessers.\n",
      "  warnings.warn(\"Element information is missing, elements attribute \"\n",
      "/home/kaustubh/miniconda3/envs/md-analysis/lib/python3.10/site-packages/MDAnalysis/topology/PDBParser.py:328: UserWarning: Element information is missing, elements attribute will not be populated. If needed these can be guessed using MDAnalysis.topology.guessers.\n",
      "  warnings.warn(\"Element information is missing, elements attribute \"\n",
      "/home/kaustubh/miniconda3/envs/md-analysis/lib/python3.10/site-packages/MDAnalysis/topology/PDBParser.py:328: UserWarning: Element information is missing, elements attribute will not be populated. If needed these can be guessed using MDAnalysis.topology.guessers.\n",
      "  warnings.warn(\"Element information is missing, elements attribute \"\n",
      "/home/kaustubh/miniconda3/envs/md-analysis/lib/python3.10/site-packages/MDAnalysis/topology/PDBParser.py:328: UserWarning: Element information is missing, elements attribute will not be populated. If needed these can be guessed using MDAnalysis.topology.guessers.\n",
      "  warnings.warn(\"Element information is missing, elements attribute \"\n",
      "/home/kaustubh/miniconda3/envs/md-analysis/lib/python3.10/site-packages/MDAnalysis/topology/PDBParser.py:328: UserWarning: Element information is missing, elements attribute will not be populated. If needed these can be guessed using MDAnalysis.topology.guessers.\n",
      "  warnings.warn(\"Element information is missing, elements attribute \"\n",
      "/home/kaustubh/miniconda3/envs/md-analysis/lib/python3.10/site-packages/MDAnalysis/topology/PDBParser.py:328: UserWarning: Element information is missing, elements attribute will not be populated. If needed these can be guessed using MDAnalysis.topology.guessers.\n",
      "  warnings.warn(\"Element information is missing, elements attribute \"\n",
      "/home/kaustubh/miniconda3/envs/md-analysis/lib/python3.10/site-packages/MDAnalysis/topology/PDBParser.py:328: UserWarning: Element information is missing, elements attribute will not be populated. If needed these can be guessed using MDAnalysis.topology.guessers.\n",
      "  warnings.warn(\"Element information is missing, elements attribute \"\n",
      "/home/kaustubh/miniconda3/envs/md-analysis/lib/python3.10/site-packages/MDAnalysis/topology/PDBParser.py:328: UserWarning: Element information is missing, elements attribute will not be populated. If needed these can be guessed using MDAnalysis.topology.guessers.\n",
      "  warnings.warn(\"Element information is missing, elements attribute \"\n",
      "/home/kaustubh/miniconda3/envs/md-analysis/lib/python3.10/site-packages/MDAnalysis/topology/PDBParser.py:328: UserWarning: Element information is missing, elements attribute will not be populated. If needed these can be guessed using MDAnalysis.topology.guessers.\n",
      "  warnings.warn(\"Element information is missing, elements attribute \"\n",
      "/home/kaustubh/miniconda3/envs/md-analysis/lib/python3.10/site-packages/MDAnalysis/topology/PDBParser.py:328: UserWarning: Element information is missing, elements attribute will not be populated. If needed these can be guessed using MDAnalysis.topology.guessers.\n",
      "  warnings.warn(\"Element information is missing, elements attribute \"\n",
      "/home/kaustubh/miniconda3/envs/md-analysis/lib/python3.10/site-packages/MDAnalysis/topology/PDBParser.py:328: UserWarning: Element information is missing, elements attribute will not be populated. If needed these can be guessed using MDAnalysis.topology.guessers.\n",
      "  warnings.warn(\"Element information is missing, elements attribute \"\n",
      "/home/kaustubh/miniconda3/envs/md-analysis/lib/python3.10/site-packages/MDAnalysis/topology/PDBParser.py:328: UserWarning: Element information is missing, elements attribute will not be populated. If needed these can be guessed using MDAnalysis.topology.guessers.\n",
      "  warnings.warn(\"Element information is missing, elements attribute \"\n",
      "/home/kaustubh/miniconda3/envs/md-analysis/lib/python3.10/site-packages/MDAnalysis/topology/PDBParser.py:328: UserWarning: Element information is missing, elements attribute will not be populated. If needed these can be guessed using MDAnalysis.topology.guessers.\n",
      "  warnings.warn(\"Element information is missing, elements attribute \"\n",
      "/home/kaustubh/miniconda3/envs/md-analysis/lib/python3.10/site-packages/MDAnalysis/topology/PDBParser.py:328: UserWarning: Element information is missing, elements attribute will not be populated. If needed these can be guessed using MDAnalysis.topology.guessers.\n",
      "  warnings.warn(\"Element information is missing, elements attribute \"\n"
     ]
    }
   ],
   "source": [
    "avergage_gas_per_indvidual_subunit_contacts = []\n",
    "path = '../../../simulations/'\n",
    "\n",
    "def central_atom(gas):\n",
    "    if gas == 'CO2':\n",
    "        return 'C1'\n",
    "    elif gas == 'MO2':\n",
    "        return 'O1'\n",
    "\n",
    "for entry in md_reference_data:\n",
    "    print(entry['code'])\n",
    "\n",
    "    contacts_lsu, contacts_ssu = average_gas_per_individual_subunit(\n",
    "        path + entry['dry_pdb'], \n",
    "        path + entry['dry_dcd'], \n",
    "        entry['gas'], \n",
    "        central_atom(entry['gas']), \n",
    "        entry['concentration']\n",
    "    )\n",
    "    for x in contacts_lsu:\n",
    "    \n",
    "        avergage_gas_per_indvidual_subunit_contacts.append(\n",
    "            dict(\n",
    "                code=entry['code'], gas=entry['gas'],\n",
    "                concentration=entry['concentration'],\n",
    "                contacts=x, subunit='lsu'\n",
    "            )\n",
    "        )\n",
    "    \n",
    "    for x in contacts_ssu:\n",
    "    \n",
    "        avergage_gas_per_indvidual_subunit_contacts.append(\n",
    "            dict(\n",
    "                code=entry['code'], gas=entry['gas'],\n",
    "                concentration=entry['concentration'],\n",
    "                contacts=x, subunit='ssu'\n",
    "            )\n",
    "        )\n",
    "\n",
    "avergage_gas_per_indvidual_subunit_contacts = pd.DataFrame.from_records(\n",
    "    avergage_gas_per_indvidual_subunit_contacts\n",
    ")"
   ]
  },
  {
   "cell_type": "code",
   "execution_count": null,
   "metadata": {},
   "outputs": [],
   "source": [
    "col_set = {\"CO2\" : \"#ff5a5f\",  \"MO2\" : \"#86bbd8\"}\n",
    "g = sns.catplot(\n",
    "    data=avergage_gas_per_indvidual_subunit_contacts, \n",
    "    x='code', y='contacts', hue='gas', col='subunit',\n",
    "    palette=col_set, kind='bar'\n",
    ")\n",
    "g.set_ylabels('Gas contact per residue', fontname='Arial')\n",
    "g.axes[0, 0].set_ylim(0,250)\n",
    "g.axes[0, 1].set_ylim(0,250)"
   ]
  },
  {
   "cell_type": "code",
   "execution_count": 16,
   "metadata": {},
   "outputs": [],
   "source": [
    "avergage_gas_per_indvidual_subunit_contacts.to_csv(\n",
    "    product['contacts_per_subunit'], index=None\n",
    ")"
   ]
  },
  {
   "attachments": {},
   "cell_type": "markdown",
   "metadata": {},
   "source": [
    "# Calclulating Statiscs for comparing the gas contacts\n",
    "## Student t-test"
   ]
  },
  {
   "cell_type": "code",
   "execution_count": 11,
   "metadata": {},
   "outputs": [],
   "source": [
    "from scipy.stats import ttest_ind"
   ]
  },
  {
   "cell_type": "code",
   "execution_count": 4,
   "metadata": {},
   "outputs": [],
   "source": [
    "u = avergage_gas_per_indvidual_subunit_contacts.groupby(['code', 'subunit', 'gas']).apply(lambda x: list(x['contacts'])).reset_index().rename(columns={0:'contacts'}).pivot(\n",
    "    index=['code', 'subunit'], columns='gas', values='contacts'\n",
    ")\n",
    "# t_stat = ttest_ind(cc[cc.code.isin([var])]['value']\n",
    "u['t_test_pvalue'] = u.apply(\n",
    "    lambda x: ttest_ind(x['CO2'], x['MO2']).pvalue, axis=1\n",
    ")\n",
    "u\n",
    "u['t_test_statistic'] = u.apply(\n",
    "    lambda x: ttest_ind(x['CO2'], x['MO2']).statistic, axis=1\n",
    ")\n",
    "\n",
    "u['CO2_mean'] = u['CO2'].apply(np.mean)\n",
    "u['MO2_mean'] = u['MO2'].apply(np.mean)\n",
    "u['CO2_std'] = u['CO2'].apply(np.std)\n",
    "u['MO2_std'] = u['MO2'].apply(np.std)\n",
    "\n",
    "u.reset_index()[['code', 'subunit', 't_test_pvalue', 't_test_statistic', 'CO2_mean', 'MO2_mean', 'CO2_std', 'MO2_std']]"
   ]
  }
 ],
 "metadata": {
  "interpreter": {
   "hash": "31308ec8134b1b7699017ca6d9032a2147384e07e46424fffb4eaac307ef9720"
  },
  "kernelspec": {
   "display_name": "Python 3.10.4 ('md-analysis')",
   "language": "python",
   "name": "python3"
  },
  "language_info": {
   "codemirror_mode": {
    "name": "ipython",
    "version": 3
   },
   "file_extension": ".py",
   "mimetype": "text/x-python",
   "name": "python",
   "nbconvert_exporter": "python",
   "pygments_lexer": "ipython3",
   "version": "3.10.6"
  }
 },
 "nbformat": 4,
 "nbformat_minor": 2
}
