{
 "cells": [
  {
   "cell_type": "code",
   "execution_count": null,
   "metadata": {
    "tags": [
     "parameters"
    ]
   },
   "outputs": [],
   "source": [
    "md_reference_data = None\n",
    "upstream = None\n",
    "product = None"
   ]
  },
  {
   "attachments": {},
   "cell_type": "markdown",
   "metadata": {},
   "source": [
    "# R23 - MD alignment and RMSD extraction \n",
    "\n",
    "## Contents\n",
    "\n",
    "1. Alignment\n",
    "2. RMSD\n",
    "3. RMSD against average structure\n",
    "4. RMSD over subunit\n",
    "5. RMSF"
   ]
  },
  {
   "cell_type": "markdown",
   "metadata": {},
   "source": [
    "## Alignment and preparation"
   ]
  },
  {
   "cell_type": "code",
   "execution_count": null,
   "metadata": {},
   "outputs": [],
   "source": [
    "from mdtools.mapping import map_alignment_to_structure, align_structure_sequences\n",
    "import MDAnalysis as mda\n",
    "from MDAnalysis.analysis import rms, align\n",
    "from pyfamsa import Aligner, Sequence\n",
    "import json\n",
    "import pandas as pd\n",
    "import prody as pdy\n",
    "#matplotlib.rcParams['fontname'] = \"Arial\""
   ]
  },
  {
   "cell_type": "code",
   "execution_count": null,
   "metadata": {},
   "outputs": [],
   "source": [
    "def load_trajectory(code, data, path):\n",
    "    \n",
    "    \"\"\"\n",
    "    loads the following files\n",
    "    - an MDAnalysis trajectory with the dried (water-removed) dcd\n",
    "    - an MDAnalysis Universe with the starting PDB (jic)\n",
    "    - an prody with the starting PDB (pretty useful when MDAnalysis fails)\n",
    "    \"\"\"\n",
    "    return dict(\n",
    "        code=code,\n",
    "        trajectory_dry = mda.Universe(\n",
    "            path + data['dry_pdb'], \n",
    "            path + data['dry_dcd'], \n",
    "            frames='all', in_memory=True\n",
    "        ),\n",
    "        reference_pdy=pdy.parsePDB(path + data['dry_pdb']),\n",
    "        reference=mda.Universe(\n",
    "            path + data['dry_pdb']\n",
    "        ),\n",
    "        time=data['time']\n",
    "    )\n"
   ]
  },
  {
   "cell_type": "markdown",
   "metadata": {},
   "source": [
    "Loading all the simulations."
   ]
  },
  {
   "cell_type": "code",
   "execution_count": null,
   "metadata": {},
   "outputs": [],
   "source": [
    "path = '../../../simulations/'\n",
    "exp01_md = []\n",
    "for key, items in md_reference_data.items():\n",
    "    print(f\"-- code {key}\", end='')\n",
    "    exp01_md.append(load_trajectory(\n",
    "        code=key, data=items, path=path\n",
    "    ))\n",
    "    print(f\" loaded\")\n",
    "exp01_md = pd.DataFrame.from_records(exp01_md).set_index('code')"
   ]
  },
  {
   "attachments": {},
   "cell_type": "markdown",
   "metadata": {},
   "source": [
    "# Analysis of the RMSF\n",
    "\n",
    "This part is a little bit convolved because it required mapping the residues to a common alignment (otherwise, the comparison doesn't have much sense)."
   ]
  },
  {
   "cell_type": "code",
   "execution_count": null,
   "metadata": {},
   "outputs": [],
   "source": [
    "def alignment_to_fasta(alignment):\n",
    "    return \"\\n\".join([f\"> {item['id']}\\n{item['sequence']}\" for item in alignment])"
   ]
  },
  {
   "cell_type": "code",
   "execution_count": null,
   "metadata": {},
   "outputs": [],
   "source": [
    "large_subunits_alignment = align_structure_sequences(exp01_md['reference_pdy'].to_list(), exp01_md.index.to_list(), chain='A')\n",
    "# LITTLE HACK FOR 6URA\n",
    "small_subunit_index = exp01_md.index.isin(['6ura', 'anciip', 'ancip'])\n",
    "small_subunits_alignment = align_structure_sequences(\n",
    "    exp01_md['reference_pdy'][~small_subunit_index].to_list(), \n",
    "    exp01_md[~small_subunit_index].index.to_list(), chain='B')\n",
    "\n",
    "with open(product['rbcl_alignment'], 'w') as f:\n",
    "    f.write(alignment_to_fasta(large_subunits_alignment))\n",
    "with open(product['rbcs_alignment'], 'w') as f:\n",
    "    f.write(alignment_to_fasta(small_subunits_alignment))"
   ]
  },
  {
   "cell_type": "code",
   "execution_count": null,
   "metadata": {},
   "outputs": [],
   "source": [
    "large_subunits_alignment = pd.DataFrame(\n",
    "    large_subunits_alignment\n",
    ").set_index('id').T\n",
    "\n",
    "\n",
    "upper_lsu = 'name CA and (segid A or segid E or segid I or segid M)'\n",
    "lower_lsu = 'name CA and (segid C or segid G or segid K or segid O)'\n",
    "lsu = 'name CA and (segid A or segid E or segid I or segid M or segid C or segid G or segid K or segid O)'\n",
    "\n",
    "exp01_rbcl_rmsf = []\n",
    "\n",
    "for key, item in exp01_md.iterrows():\n",
    "    print(f\"-- {key} \", end=\"\")\n",
    "    u = item['trajectory_dry'].select_atoms(lsu)\n",
    "    R = rms.RMSF(u)\n",
    "    results = R.run()\n",
    "    rmsf_values = results.results.rmsf\n",
    "    forward_residue_map, backward_residue_map = map_alignment_to_structure(\n",
    "        structure=item['reference_pdy'], \n",
    "        aligned_sequence=large_subunits_alignment[key].to_list()[0],\n",
    "        on_chain='A'\n",
    "    )\n",
    "    try:\n",
    "        reference_pdy = item['reference_pdy'].select('(chain A or chain C or chain E or chain G or chain I or chain K or chain M or chain O) and name CA')\n",
    "    except TypeError:\n",
    "        reference_pdy = item['reference_pdy'].select('(chain A or chain C or chain E or chain G or chain I or chain K or chain M or chain O) and name CA')\n",
    "    for i, (res, res_pdy) in enumerate(zip(u.residues, reference_pdy.getHierView().iterResidues())):\n",
    "        try:\n",
    "            resnum = backward_residue_map.index(res.resnum)\n",
    "        \n",
    "\n",
    "            exp01_rbcl_rmsf.append(\n",
    "                dict(\n",
    "                    rmsf=rmsf_values[i], resnum=resnum, chain=res_pdy.getChid(), code=key\n",
    "\n",
    "                )\n",
    "            )    \n",
    "        except:\n",
    "            continue\n",
    "    print(\" done\")\n",
    "\n",
    "            \n",
    "exp01_rbcl_rmsf = pd.DataFrame.from_records(exp01_rbcl_rmsf)"
   ]
  },
  {
   "cell_type": "code",
   "execution_count": null,
   "metadata": {},
   "outputs": [],
   "source": [
    "small_subunits_alignment = pd.DataFrame(\n",
    "    small_subunits_alignment\n",
    ").set_index('id').T\n",
    "\n",
    "upper_ssu = 'name CA and (segid B or segid F or segid J or segid N)'\n",
    "lower_ssu = 'name CA and (segid D or segid H or segid L or segid P)'\n",
    "ssu = 'name CA and (segid B or segid F or segid J or segid N or segid D or segid H or segid L or segid P)'\n",
    "\n",
    "\n",
    "exp01_rbcs_rmsf = []\n",
    "\n",
    "for key, item in exp01_md.iterrows():\n",
    "    print(f\"-- {key} \", end=\"\")\n",
    "    if key in ['6ura', 'anciip', 'ancip']: \n",
    "        print(\" skipped\")\n",
    "        continue\n",
    "    u = item['trajectory_dry'].select_atoms('(chainID B or chainID D or chainID F or chainID H or chainID J or chainID L or chainID N or chainID P) and name CA')\n",
    "    R = rms.RMSF(u)\n",
    "    results = R.run()\n",
    "    rmsf_values = results.results.rmsf\n",
    "    forward_residue_map, backward_residue_map = map_alignment_to_structure(\n",
    "        structure=item['reference_pdy'], \n",
    "        aligned_sequence=small_subunits_alignment[key].to_list()[0],\n",
    "        on_chain='B'\n",
    "    )\n",
    "    try:\n",
    "        reference_pdy = item['reference_pdy'].select('(chain B or chain D or chain F or chain H or chain J or chain L or chain N or chain P) and name CA')\n",
    "    except KeyError:\n",
    "        reference_pdy = item['reference_pdy'].select('(chain B or chain D or chain F or chain H or chain J or chain L or chain N or chain P) and name CA')\n",
    "\n",
    "    for i, (res, res_pdy) in enumerate(zip(u.residues, reference_pdy.getHierView().iterResidues())):\n",
    "        try:\n",
    "            resnum = backward_residue_map.index(res.resnum)\n",
    "        \n",
    "\n",
    "            exp01_rbcs_rmsf.append(\n",
    "                dict(\n",
    "                    rmsf=rmsf_values[i], resnum=resnum, chain=res_pdy.getChid(), code=key,\n",
    "                    time=item['time']\n",
    "\n",
    "                )\n",
    "            )    \n",
    "        except:\n",
    "            print(f\"error with {res.resnum}\")\n",
    "            continue\n",
    "    print(f\" done\")\n",
    "\n",
    "exp01_rbcs_rmsf = pd.DataFrame.from_records(exp01_rbcs_rmsf)\n"
   ]
  },
  {
   "cell_type": "markdown",
   "metadata": {},
   "source": [
    "We finally map the RMSFs into a protein structure to visualize the RMSF spacially."
   ]
  },
  {
   "cell_type": "code",
   "execution_count": null,
   "metadata": {},
   "outputs": [],
   "source": [
    "exp01_rbcs_rmsf.to_csv(product['rbcs_rmsf'])\n",
    "exp01_rbcl_rmsf.to_csv(product['rbcl_rmsf'])"
   ]
  },
  {
   "cell_type": "code",
   "execution_count": null,
   "metadata": {},
   "outputs": [],
   "source": [
    "for residue, rmsf in zip(\n",
    "    exp01_md['reference_pdy'].loc['1bwv'].select('chain B').getHierView().iterResidues(), \n",
    "    exp01_rbcs_rmsf.query('code == \"1bwv\"').groupby('resnum')['rmsf'].mean().tolist()\n",
    "):\n",
    "    residue.setBetas(rmsf)\n",
    "pdy.writePDB(product['pdb_bfactor_map'], exp01_md['reference_pdy'].loc['1bwv'].select('chain B'))"
   ]
  }
 ],
 "metadata": {
  "kernelspec": {
   "display_name": "bst",
   "language": "python",
   "name": "python3"
  },
  "language_info": {
   "codemirror_mode": {
    "name": "ipython",
    "version": 3
   },
   "file_extension": ".py",
   "mimetype": "text/x-python",
   "name": "python",
   "nbconvert_exporter": "python",
   "pygments_lexer": "ipython3",
   "version": "3.10.14"
  },
  "orig_nbformat": 4,
  "vscode": {
   "interpreter": {
    "hash": "ed49d9dc8263e20f82ef1c732e49d95838d00d7e343ec27a75bb1597d6166618"
   }
  }
 },
 "nbformat": 4,
 "nbformat_minor": 2
}
