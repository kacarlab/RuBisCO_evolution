{
 "cells": [
  {
   "cell_type": "code",
   "execution_count": null,
   "metadata": {
    "tags": [
     "parameters"
    ]
   },
   "outputs": [],
   "source": [
    "upstream = [\n",
    "    '01-R23-RMSD', '02-R23-RMSF'\n",
    "]\n",
    "products = None\n",
    "code_palette = None"
   ]
  },
  {
   "cell_type": "code",
   "execution_count": null,
   "metadata": {},
   "outputs": [],
   "source": [
    "import pandas\n",
    "import seaborn as sns\n",
    "import numpy as np\n",
    "import pandas as pd\n",
    "import matplotlib.pyplot as plt"
   ]
  },
  {
   "cell_type": "markdown",
   "metadata": {},
   "source": [
    "# RMSD\n",
    "\n",
    "The following plots are obtained from the RMSD against the **initial structure**. "
   ]
  },
  {
   "cell_type": "markdown",
   "metadata": {},
   "source": [
    "Reading the data from the `01-R23-RMSD` notebook."
   ]
  },
  {
   "cell_type": "code",
   "execution_count": null,
   "metadata": {},
   "outputs": [],
   "source": [
    "exp01_rmsd = pd.read_csv(upstream['01-R23-RMSD']['rmsd'])"
   ]
  },
  {
   "cell_type": "markdown",
   "metadata": {},
   "source": [
    "RMSD plot against time"
   ]
  },
  {
   "cell_type": "code",
   "execution_count": null,
   "metadata": {},
   "outputs": [],
   "source": [
    "fig, ax = plt.subplots(1)\n",
    "fig.set_size_inches(8, 4)\n",
    "sns.lineplot(x='time_ns', y='CA', data=exp01_rmsd.query('time_ns < 75 and time_ns > 25'),  hue='code', ax=ax, legend=True)\n",
    "sns.move_legend(ax, \"upper left\", bbox_to_anchor=(1, 1))\n",
    "fig.tight_layout()"
   ]
  },
  {
   "cell_type": "markdown",
   "metadata": {},
   "source": [
    "Box plots by protein and subunit."
   ]
  },
  {
   "cell_type": "code",
   "execution_count": null,
   "metadata": {},
   "outputs": [],
   "source": [
    "fig, ax = plt.subplots(1, 2, sharex=True, sharey=True)\n",
    "fig.set_size_inches(8, 3.5)\n",
    "sns.boxplot(data=exp01_rmsd.query('time_ns < 75 and time_ns > 25'), x='lsu', y='code', ax=ax[0], palette=code_palette)\n",
    "sns.boxplot(data=exp01_rmsd.query('time_ns < 75 and time_ns > 25'), x='ssu', y='code', ax=ax[1], palette=code_palette)\n",
    "ax[0].set_xlabel('RbcL RMSD ($\\AA$)', fontname='Arial')\n",
    "ax[1].set_xlabel('RbcS RMSD ($\\AA$)', fontname='Arial')\n",
    "plt.tight_layout()"
   ]
  },
  {
   "cell_type": "markdown",
   "metadata": {},
   "source": [
    "## Average RMSD\n",
    "\n",
    "The following RMSDs were computed against an structure representing the simulation average position of every atom."
   ]
  },
  {
   "cell_type": "markdown",
   "metadata": {},
   "source": [
    "Reading the data"
   ]
  },
  {
   "cell_type": "code",
   "execution_count": null,
   "metadata": {},
   "outputs": [],
   "source": [
    "exp01_rmsd_avg = pd.read_csv(upstream['01-R23-RMSD']['avg_rmsd'])\n",
    "lsu_cols = ['lsu_A', 'lsu_E', 'lsu_I', 'lsu_M', 'lsu_C', 'lsu_G', 'lsu_K', 'lsu_O']\n",
    "ssu_cols = ['ssu_B', 'ssu_F', 'ssu_J', 'ssu_N', 'ssu_D', 'ssu_H', 'ssu_L', 'ssu_P']"
   ]
  },
  {
   "cell_type": "markdown",
   "metadata": {},
   "source": [
    "RMSD against time, by code and subunits."
   ]
  },
  {
   "cell_type": "code",
   "execution_count": null,
   "metadata": {},
   "outputs": [],
   "source": [
    "sns.relplot(x='time_ns', y='CA', data=exp01_rmsd_avg.query('time_ns < 75 and time_ns > 25'), hue='code', ax=ax)\n",
    "fig.legend(loc='center right')"
   ]
  },
  {
   "cell_type": "markdown",
   "metadata": {},
   "source": [
    "We define the following custom palette."
   ]
  },
  {
   "cell_type": "code",
   "execution_count": null,
   "metadata": {},
   "outputs": [],
   "source": [
    "set12 = sns.color_palette(sns.color_palette('Set2', 5) + sns.color_palette('Set1', 6))\n",
    "code_palette = {\n",
    "    \"6ftl\": \"#C6E1AB\",\n",
    "    \"3zxw\": \"#C6E1AB\",\n",
    "    \"8ruc\": \"#C6E1AB\",\n",
    "    \"1bwv\": \"#C6E1AB\",\n",
    "    \"6ura\": \"#C6E1AB\",\n",
    "    \"anciip\": \"#D1BADA\",\n",
    "    \"ancip\": \"#D1BADA\",\n",
    "    \"anci\": \"#D1BADA\",\n",
    "    \"anciab\": \"#D1BADA\",\n",
    "    \"ancicd\": \"#D1BADA\",\n",
    "    \"ancia\": \"#D1BADA\",\n",
    "    \"ancib\": \"#D1BADA\"\n",
    "}\n",
    "\n",
    "code_palette_cap = {\n",
    "    \"6FTL\": \"#C6E1AB\",\n",
    "    \"3ZXW\": \"#C6E1AB\",\n",
    "    \"8RUC\": \"#C6E1AB\",\n",
    "    \"1BWV\": \"#C6E1AB\",\n",
    "    \"6URA\": \"#C6E1AB\",\n",
    "    \"Anc-I/I'\": \"#D1BADA\",\n",
    "    \"Anc-I'\": \"#D1BADA\",\n",
    "    \"Anc-I\": \"#D1BADA\",\n",
    "    \"Anc-IAB\": \"#D1BADA\",\n",
    "    \"Anc-ICD\": \"#D1BADA\",\n",
    "    \"Anc-IA\": \"#D1BADA\",\n",
    "    \"Anc-IB\": \"#D1BADA\",\n",
    "}"
   ]
  },
  {
   "cell_type": "markdown",
   "metadata": {},
   "source": [
    "Now we plot the RMSDs by code and subunit. Notice that the boxplots represent all the frames of the simulation."
   ]
  },
  {
   "cell_type": "code",
   "execution_count": null,
   "metadata": {},
   "outputs": [],
   "source": [
    "sns.set_style('darkgrid')\n",
    "fig, ax = plt.subplots(1, 2, sharex=True, sharey=True)\n",
    "fig.set_size_inches(10, 4)\n",
    "sns.boxplot(data=exp01_rmsd_avg.query('frame < 750 & frame > 250'), x='code', y='lsu', ax=ax[0], palette=code_palette, linewidth=0.5)\n",
    "sns.boxplot(data=exp01_rmsd_avg.query('frame < 750 & frame > 250'), x='code', y='ssu', ax=ax[1], palette=code_palette, linewidth=0.5)\n",
    "ax[0].tick_params(axis='x', labelrotation=30)\n",
    "ax[1].tick_params(axis='x', labelrotation=30)\n",
    "ax[0].set_xlabel('RbcL RMSD ($\\AA$)', fontname='Arial')\n",
    "ax[1].set_xlabel('RbcS RMSD ($\\AA$)', fontname='Arial')\n",
    "plt.tight_layout()"
   ]
  },
  {
   "cell_type": "markdown",
   "metadata": {},
   "source": [
    "We will repeat this plot, by considering only the subunit time-averages. This means that\n",
    "we need to melt the dataset to place subunit RMSDs (now in columns) as rows,\n",
    "and then groupby code + subunit. We will add a subunit variable (LSU/SSU) to\n",
    "separate them in the plot."
   ]
  },
  {
   "cell_type": "code",
   "execution_count": null,
   "metadata": {},
   "outputs": [],
   "source": [
    "exp01_rmsd_avg_melt = pd.melt(\n",
    "    exp01_rmsd_avg,\n",
    "    id_vars=['time', 'frame', 'code'], value_vars=[\n",
    "        'lsu_A', 'lsu_C', 'lsu_E', 'lsu_G', 'lsu_I', 'lsu_K', 'lsu_M', 'lsu_O', \n",
    "        'ssu_B', 'ssu_D', 'ssu_F', 'ssu_H', 'ssu_J', 'ssu_L', 'ssu_N', 'ssu_P'\n",
    "    ]\n",
    ").dropna()\n",
    "\n",
    "exp01_rmsd_avg_melt['subunit'] = exp01_rmsd_avg_melt['variable'].apply(lambda x: x.split('_')[0])\n",
    "exp01_rmsd_avg_melt\n",
    "exp01_rmsd_avg_melt_bysubunit = exp01_rmsd_avg_melt.groupby(['variable', 'subunit', 'code'], as_index=False).mean()"
   ]
  },
  {
   "cell_type": "markdown",
   "metadata": {},
   "source": [
    "Box plot by code and subunit of the time-average RMSD."
   ]
  },
  {
   "cell_type": "code",
   "execution_count": null,
   "metadata": {},
   "outputs": [],
   "source": [
    "sns.set_style('darkgrid')\n",
    "fig, ax = plt.subplots(1, 2, sharex=True, sharey=True)\n",
    "fig.set_size_inches(10, 4)\n",
    "sns.boxplot(data=exp01_rmsd_avg_melt_bysubunit.query('subunit == \"lsu\"'), x='code', y='value', ax=ax[0], palette=code_palette, linewidth=0.5)\n",
    "sns.boxplot(data=exp01_rmsd_avg_melt_bysubunit.query('subunit == \"ssu\"'), x='code', y='value', ax=ax[1], palette=code_palette, linewidth=0.5)\n",
    "ax[0].tick_params(axis='x', labelrotation=30)\n",
    "ax[1].tick_params(axis='x', labelrotation=30)\n",
    "ax[0].set_xlabel('RbcL RMSD ($\\AA$)', fontname='Arial')\n",
    "ax[1].set_xlabel('RbcS RMSD ($\\AA$)', fontname='Arial')\n",
    "plt.tight_layout()"
   ]
  },
  {
   "cell_type": "markdown",
   "metadata": {},
   "source": [
    "Same plot, but showing the specific values of each point."
   ]
  },
  {
   "cell_type": "code",
   "execution_count": null,
   "metadata": {},
   "outputs": [],
   "source": [
    "g = sns.catplot(\n",
    "    data=exp01_rmsd_avg_melt_bysubunit, \n",
    "    x='code', y='value', col='subunit', hue='code',\n",
    "    palette=code_palette, linewidth=0.5\n",
    ")\n",
    "g.axes[0, 0].tick_params(axis='x', labelrotation=30)\n",
    "g.axes[0, 1].tick_params(axis='x', labelrotation=30)\n",
    "g.axes[0, 0].set_xlabel('RbcL RMSD ($\\AA$)', fontname='Arial')\n",
    "g.axes[0, 1].set_xlabel('RbcS RMSD ($\\AA$)', fontname='Arial')\n",
    "plt.tight_layout()"
   ]
  },
  {
   "cell_type": "markdown",
   "metadata": {},
   "source": [
    "### Statistical analysis"
   ]
  },
  {
   "cell_type": "markdown",
   "metadata": {},
   "source": [
    "We are conducting a one-way ANOVA test. \\\n",
    "This will help us determine if there is any statistical difference between the means of RMSD values across different RuBisCOs"
   ]
  },
  {
   "cell_type": "markdown",
   "metadata": {},
   "source": [
    "The F-statistic shows the ratio of the variance between the group means to the variance within the group.   \\\n",
    "The p-value (<<< 0.05) suggests that there is significant difference in group means. \\\n",
    "Following is to identify which RuBisCO-pairs show the significant difference in mean RMSD."
   ]
  },
  {
   "cell_type": "code",
   "execution_count": null,
   "metadata": {},
   "outputs": [],
   "source": [
    "from scipy.stats import f_oneway\n",
    "import statsmodels.stats.multicomp as mc"
   ]
  },
  {
   "cell_type": "code",
   "execution_count": null,
   "metadata": {},
   "outputs": [],
   "source": [
    "exp01_lsu_only_avg_vals = exp01_rmsd_avg_melt_bysubunit.query('subunit == \"lsu\"')\n",
    "exp01_ssu_only_avg_vals = exp01_rmsd_avg_melt_bysubunit.query('subunit == \"ssu\"')"
   ]
  },
  {
   "cell_type": "code",
   "execution_count": null,
   "metadata": {},
   "outputs": [],
   "source": [
    "f_oneway(*[group['value'] for name, group in exp01_lsu_only_avg_vals.groupby('code')])"
   ]
  },
  {
   "cell_type": "code",
   "execution_count": null,
   "metadata": {},
   "outputs": [],
   "source": [
    "lsu_anova = f_oneway(*[group['value'] for name, group in exp01_lsu_only_avg_vals.groupby('code')])\n",
    "lsu_mc_model = mc.MultiComparison(exp01_lsu_only_avg_vals['value'], exp01_lsu_only_avg_vals['code'])\n",
    "lsu_tukey = lsu_mc_model.tukeyhsd()\n",
    "# lsu_tukey.summary()\n",
    "lsu_tukey_df = pd.DataFrame(data= lsu_tukey._results_table.data[1:], columns=lsu_tukey._results_table.data[0])\n",
    "lsu_tukey_df[lsu_tukey_df.reject.isin([True])]\n",
    "# lsu_tukey_df"
   ]
  },
  {
   "cell_type": "markdown",
   "metadata": {},
   "source": [
    "Above about are the RbcL-pairs with significant difference in mean RMSD"
   ]
  },
  {
   "cell_type": "code",
   "execution_count": null,
   "metadata": {},
   "outputs": [],
   "source": [
    "f_oneway(*[group['value'] for name, group in exp01_ssu_only_avg_vals.groupby('code')])"
   ]
  },
  {
   "cell_type": "code",
   "execution_count": null,
   "metadata": {},
   "outputs": [],
   "source": [
    "ssu_anova = f_oneway(*[group['value'] for name, group in exp01_ssu_only_avg_vals.groupby('code')])\n",
    "ssu_mc_model = mc.MultiComparison(exp01_ssu_only_avg_vals['value'], exp01_ssu_only_avg_vals['code'])\n",
    "ssu_tukey = ssu_mc_model.tukeyhsd()\n",
    "# ssu_tukey.summary()\n",
    "ssu_tukey_df = pd.DataFrame(data= ssu_tukey._results_table.data[1:], columns=ssu_tukey._results_table.data[0])\n",
    "ssu_tukey_df[ssu_tukey_df.reject.isin([True])]"
   ]
  },
  {
   "cell_type": "code",
   "execution_count": null,
   "metadata": {},
   "outputs": [],
   "source": [
    "lsu_tukey_df = pd.DataFrame(data= lsu_tukey._results_table.data[1:], columns=lsu_tukey._results_table.data[0])\n",
    "lsu_tukey_df[lsu_tukey_df.reject.isin([True])]"
   ]
  },
  {
   "cell_type": "markdown",
   "metadata": {},
   "source": [
    "## Miscellaneous"
   ]
  },
  {
   "cell_type": "markdown",
   "metadata": {},
   "source": [
    "### RMSD, ancestor versus extant\n",
    "\n",
    "We wonder whether ancestral subunits have higher or lower RMSDs than extant ones."
   ]
  },
  {
   "cell_type": "markdown",
   "metadata": {},
   "source": [
    "We create groups. "
   ]
  },
  {
   "cell_type": "code",
   "execution_count": null,
   "metadata": {},
   "outputs": [],
   "source": [
    "ext_exp01_rmsd_avg = exp01_rmsd_avg[exp01_rmsd_avg.code.isin(['1bwv', '3zxw', '6ura', '6ftl' '8ruc'])]\n",
    "anc_exp01_rmsd_avg = exp01_rmsd_avg[exp01_rmsd_avg.code.isin(['anci', 'ancia', 'anciab', 'ancib' 'ancicd', 'anciip'])]\n",
    "ext_exp01_rmsd_avg['age'] = 'Extant'\n",
    "anc_exp01_rmsd_avg['age'] = 'Ancestor'\n",
    "pd.concat([ext_exp01_rmsd_avg, anc_exp01_rmsd_avg])"
   ]
  },
  {
   "cell_type": "markdown",
   "metadata": {},
   "source": [
    "We plot them.in box plots"
   ]
  },
  {
   "cell_type": "code",
   "execution_count": null,
   "metadata": {},
   "outputs": [],
   "source": [
    "fig, ax = plt.subplots(1, 3, sharex=True, sharey=True)\n",
    "fig.set_size_inches(12, 3.5)\n",
    "sns.boxplot(data=pd.concat([ext_exp01_rmsd_avg, anc_exp01_rmsd_avg]).query('frame < 750 & frame > 250'), x='CA', y='age', ax=ax[0], palette=set12)\n",
    "sns.boxplot(data=pd.concat([ext_exp01_rmsd_avg, anc_exp01_rmsd_avg]).query('frame < 750 & frame > 250'), x='lsu', y='age', ax=ax[1], palette=set12)\n",
    "sns.boxplot(data=pd.concat([ext_exp01_rmsd_avg, anc_exp01_rmsd_avg]).query('frame < 750 & frame > 250'), x='ssu', y='age', ax=ax[2], palette=set12)\n",
    "ax[0].set_xlabel('Overall RMSD ($\\AA$)', fontname='Arial')\n",
    "ax[1].set_xlabel('RbcL RMSD ($\\AA$)', fontname='Arial')\n",
    "ax[2].set_xlabel('RbcS RMSD ($\\AA$)', fontname='Arial')\n",
    "plt.tight_layout()"
   ]
  },
  {
   "cell_type": "code",
   "execution_count": null,
   "metadata": {},
   "outputs": [],
   "source": [
    "fig.set_size_inches(4, 3.5)\n",
    "sns.boxplot(data=pd.concat([ext_exp01_rmsd_avg, anc_exp01_rmsd_avg]).query('frame < 750 & frame > 250'), x='CA', y='age', palette=set12)\n",
    "plt.xlabel(\"Overall ($\\AA$)\", fontname='Arial')\n",
    "plt.tight_layout()"
   ]
  },
  {
   "cell_type": "markdown",
   "metadata": {},
   "source": [
    "### RMSD, With RbcS versus Without RbcS\n",
    "\n",
    "We wonder whether Rubisco lacking RbcS has a higher or lower RMSD than Rubisco having the subunit."
   ]
  },
  {
   "cell_type": "code",
   "execution_count": null,
   "metadata": {},
   "outputs": [],
   "source": [
    "wssu_exp01_rmsd_avg = exp01_rmsd_avg[exp01_rmsd_avg.code.isin(['1bwv', '3zxw', '6ftl' '8ruc', 'anci', 'ancia', 'anciab', 'ancib' 'ancicd'])]\n",
    "wossu_exp01_rmsd_avg = exp01_rmsd_avg[exp01_rmsd_avg.code.isin(['6ura', 'anciip'])]\n",
    "wssu_exp01_rmsd_avg['RbcS_status'] = 'with RbcS'\n",
    "wossu_exp01_rmsd_avg['RbcS_status'] = 'Without RbcS'\n",
    "pd.concat([wssu_exp01_rmsd_avg, wossu_exp01_rmsd_avg])"
   ]
  },
  {
   "cell_type": "code",
   "execution_count": null,
   "metadata": {},
   "outputs": [],
   "source": [
    "fig.set_size_inches(8, 3.5)\n",
    "sns.boxplot(data=pd.concat([wssu_exp01_rmsd_avg, wossu_exp01_rmsd_avg]).query('frame < 750 & frame > 250'), x='CA', y='RbcS_status')\n",
    "plt.xlabel(\"Overall ($\\AA$)\")\n",
    "plt.tight_layout()"
   ]
  },
  {
   "cell_type": "code",
   "execution_count": null,
   "metadata": {},
   "outputs": [],
   "source": [
    "fig.set_size_inches(8, 3.5)\n",
    "sns.boxplot(data=pd.concat([wssu_exp01_rmsd_avg, wossu_exp01_rmsd_avg]).query('frame < 750 & frame > 250'), x='lsu', y='RbcS_status')\n",
    "plt.xlabel(\"RbcL_RMSD ($\\AA$)\")\n",
    "plt.tight_layout()"
   ]
  },
  {
   "cell_type": "markdown",
   "metadata": {},
   "source": [
    "## RMSF\n",
    "\n",
    "RMSF stands for Root Mean Square Factor, and it represents the average devitation over time of the different residues. We use it to compare the different regions of the proteins. We have previously mapped the RMSFs to the alignments to enable RMSF comparisons."
   ]
  },
  {
   "cell_type": "markdown",
   "metadata": {},
   "source": [
    "We load the datasets."
   ]
  },
  {
   "cell_type": "code",
   "execution_count": null,
   "metadata": {},
   "outputs": [],
   "source": [
    "exp01_rbcl_rmsf = pd.read_csv(\n",
    "    upstream['02-R23-RMSF']['rbcl_rmsf']\n",
    ")\n",
    "exp01_rbcs_rmsf = pd.read_csv(\n",
    "    upstream['02-R23-RMSF']['rbcs_rmsf']\n",
    ")"
   ]
  },
  {
   "cell_type": "markdown",
   "metadata": {},
   "source": [
    "RbcL RMSF lineplots over alignment sequence numbers, by protein"
   ]
  },
  {
   "cell_type": "code",
   "execution_count": null,
   "metadata": {},
   "outputs": [],
   "source": [
    "fig, ax = plt.subplots(1)\n",
    "fig.set_size_inches(9, 3.0)\n",
    "sns.lineplot(\n",
    "    x='resnum', y='rmsf', data=exp01_rbcl_rmsf.groupby(['code', 'resnum'], as_index=False)['rmsf'].mean(), hue='code'\n",
    ")\n",
    "# ax.set_ylim(0.25, 3)\n",
    "fig.tight_layout()"
   ]
  },
  {
   "cell_type": "markdown",
   "metadata": {},
   "source": [
    "RbcS RMSF lineplots over alignment sequence numbers, by protein"
   ]
  },
  {
   "cell_type": "code",
   "execution_count": null,
   "metadata": {},
   "outputs": [],
   "source": [
    "fig, ax = plt.subplots(1)\n",
    "fig.set_size_inches(9, 3.0)\n",
    "sns.lineplot(\n",
    "    x='resnum', y='rmsf', data=exp01_rbcl_rmsf.groupby(['code', 'resnum'], as_index=False)['rmsf'].mean(), hue='code'\n",
    ")\n",
    "# ax.set_ylim(0.25, 3)\n",
    "fig.tight_layout()"
   ]
  },
  {
   "cell_type": "markdown",
   "metadata": {},
   "source": [
    "### Comparison of RMSF of RbcL for the RuBisCOs at the dawn of RbcS"
   ]
  },
  {
   "cell_type": "code",
   "execution_count": null,
   "metadata": {},
   "outputs": [],
   "source": [
    "def calculate_RMSF_mean(sys_1, sys_2, df_in):   ## For calculating the difference in RMSf at each residue\n",
    "    df = df_in[df_in['code'].isin([sys_1, sys_2])].groupby(['code', 'resnum'], as_index=False).mean()\n",
    "\n",
    "    li_resnum = []\n",
    "    li_diff = []\n",
    "\n",
    "    for i in df['resnum'].unique():\n",
    "        df_temp = df.loc[df['resnum'] == i]\n",
    "        if df_temp.loc[df_temp['code'] == sys_1].empty == False and df_temp.loc[df_temp['code'] == sys_2].empty == False:\n",
    "            diff = float(df_temp.loc[df_temp['code'] == sys_1]['rmsf']) - float(df_temp.loc[df_temp['code'] == sys_2]['rmsf'])\n",
    "\n",
    "        li_resnum.append(i)\n",
    "        li_diff.append(diff)\n",
    "\n",
    "    df_out = {'resnum':li_resnum, 'diff':li_diff}\n",
    "    df_out = pd.DataFrame(data=df_out).sort_values('resnum')\n",
    "    return(df_out)"
   ]
  },
  {
   "cell_type": "markdown",
   "metadata": {},
   "source": [
    "#### Anc-I/I' vs Anc-I'"
   ]
  },
  {
   "cell_type": "code",
   "execution_count": null,
   "metadata": {},
   "outputs": [],
   "source": [
    "fig, ax = plt.subplots(1)\n",
    "fig.set_size_inches(9, 3.0)\n",
    "sns.lineplot(\n",
    "    x='resnum', y='rmsf', data=exp01_rbcl_rmsf[exp01_rbcl_rmsf['code'].isin(['ancip', 'anciip'])].groupby(['code', 'resnum'], as_index=False)['rmsf'].mean(), hue='code'\n",
    ")\n",
    "ax.set_ylim(0.25, 2)\n",
    "fig.tight_layout()"
   ]
  },
  {
   "cell_type": "code",
   "execution_count": null,
   "metadata": {},
   "outputs": [],
   "source": [
    "ancip_anciip_rmsf_diff = calculate_RMSF_mean('anciip', 'ancip', exp01_rbcl_rmsf)\n",
    "\n",
    "fig, ax = plt.subplots(1)\n",
    "fig.set_size_inches(9, 3.0)\n",
    "sns.lineplot(\n",
    "    x='resnum', y='diff', data=ancip_anciip_rmsf_diff\n",
    ")\n",
    "ax.axhline(0, c='black')\n",
    "ax.axhline(0.30, ls='--', c='red')\n",
    "ax.axhline(-0.30, ls='--', c='red')\n",
    "ax.set_ylabel('RMSF difference')\n",
    "ax.set_ylim(-0.5,1)\n",
    "fig.tight_layout()"
   ]
  },
  {
   "cell_type": "markdown",
   "metadata": {},
   "source": [
    "#### Anc-I/I' vs Anc-I"
   ]
  },
  {
   "cell_type": "code",
   "execution_count": null,
   "metadata": {},
   "outputs": [],
   "source": [
    "fig, ax = plt.subplots(1)\n",
    "fig.set_size_inches(9, 3.0)\n",
    "sns.lineplot(\n",
    "    x='resnum', y='rmsf', data=exp01_rbcl_rmsf[exp01_rbcl_rmsf['code'].isin(['anci', 'anciip'])].groupby(['code', 'resnum'], as_index=False)['rmsf'].mean(), hue='code'\n",
    ")\n",
    "ax.set_ylim(0.25, 2)\n",
    "fig.tight_layout()"
   ]
  },
  {
   "cell_type": "code",
   "execution_count": null,
   "metadata": {},
   "outputs": [],
   "source": [
    "ancip_anciip_rmsf_diff = calculate_RMSF_mean('anciip', 'anci', exp01_rbcl_rmsf)\n",
    "\n",
    "fig, ax = plt.subplots(1)\n",
    "fig.set_size_inches(9, 3.0)\n",
    "sns.lineplot(\n",
    "    x='resnum', y='diff', data=ancip_anciip_rmsf_diff\n",
    ")\n",
    "ax.axhline(0, c='black')\n",
    "ax.axhline(0.30, ls='--', c='red')\n",
    "ax.set_ylabel('RMSF difference')\n",
    "ax.set_ylim(-0.2,1)\n",
    "fig.tight_layout()"
   ]
  },
  {
   "cell_type": "markdown",
   "metadata": {},
   "source": [
    "#### Anc-I' vs 6URA"
   ]
  },
  {
   "cell_type": "code",
   "execution_count": null,
   "metadata": {},
   "outputs": [],
   "source": [
    "fig, ax = plt.subplots(1)\n",
    "fig.set_size_inches(9, 3.0)\n",
    "sns.lineplot(\n",
    "    x='resnum', y='rmsf', data=exp01_rbcl_rmsf[exp01_rbcl_rmsf['code'].isin(['6ura', 'ancip'])].groupby(['code', 'resnum'], as_index=False)['rmsf'].mean(), hue='code'\n",
    ")\n",
    "ax.set_ylim(0.25, 2)\n",
    "fig.tight_layout()"
   ]
  },
  {
   "cell_type": "code",
   "execution_count": null,
   "metadata": {},
   "outputs": [],
   "source": [
    "ancip_anciip_rmsf_diff = calculate_RMSF_mean('ancip', '6ura', exp01_rbcl_rmsf)\n",
    "\n",
    "fig, ax = plt.subplots(1)\n",
    "fig.set_size_inches(9, 3.0)\n",
    "sns.lineplot(\n",
    "    x='resnum', y='diff', data=ancip_anciip_rmsf_diff\n",
    ")\n",
    "ax.axhline(0, c='black')\n",
    "ax.axhline(0.30, ls='--', c='red')\n",
    "ax.set_ylabel('RMSF difference')\n",
    "ax.set_ylim(-0.2,1)\n",
    "fig.tight_layout()"
   ]
  },
  {
   "cell_type": "markdown",
   "metadata": {},
   "source": [
    "#### Anc-I/I' vs 6URA"
   ]
  },
  {
   "cell_type": "code",
   "execution_count": null,
   "metadata": {},
   "outputs": [],
   "source": [
    "fig, ax = plt.subplots(1)\n",
    "fig.set_size_inches(9, 3.0)\n",
    "sns.lineplot(\n",
    "    x='resnum', y='rmsf', data=exp01_rbcl_rmsf[exp01_rbcl_rmsf['code'].isin(['6ura', 'anciip'])].groupby(['code', 'resnum'], as_index=False)['rmsf'].mean(), hue='code'\n",
    ")\n",
    "ax.set_ylim(0.25, 2)\n",
    "fig.tight_layout()"
   ]
  },
  {
   "cell_type": "code",
   "execution_count": null,
   "metadata": {},
   "outputs": [],
   "source": [
    "ancip_anciip_rmsf_diff = calculate_RMSF_mean('anciip', '6ura', exp01_rbcl_rmsf)\n",
    "\n",
    "fig, ax = plt.subplots(1)\n",
    "fig.set_size_inches(9, 3.0)\n",
    "sns.lineplot(\n",
    "    x='resnum', y='diff', data=ancip_anciip_rmsf_diff\n",
    ")\n",
    "ax.axhline(0, c='black')\n",
    "ax.axhline(0.30, ls='--', c='red')\n",
    "ax.set_ylabel('RMSF difference')\n",
    "ax.set_ylim(-0.2,1)\n",
    "fig.tight_layout()"
   ]
  },
  {
   "cell_type": "markdown",
   "metadata": {},
   "source": [
    "## Ancient versus extant RbcS RMSF by time"
   ]
  },
  {
   "cell_type": "code",
   "execution_count": null,
   "metadata": {},
   "outputs": [],
   "source": [
    "fig, ax = plt.subplots(2, 1, sharex=True, sharey=True)\n",
    "fig.set_size_inches(8, 3.5)\n",
    "sns.lineplot(x='resnum', y='rmsf', marker='.', data=exp01_rbcs_rmsf.query('time == \"extant\"'), hue='code', ax=ax[0], palette='Set2')\n",
    "sns.lineplot(x='resnum', y='rmsf', marker='.', data=exp01_rbcs_rmsf.query('time == \"ancient\"'), hue='code', ax=ax[1], palette='Set1')\n",
    "\n",
    "# sns.move_legend(ax[0], \"upper right\", bbox_to_anchor=(1.2, 1))\n",
    "# sns.move_legend(ax[1], \"upper right\", bbox_to_anchor=(1.2, 1))\n",
    "ax[0].set_ylim(0, 2.0)\n",
    "fig.legend(bbox_to_anchor=(1.05, 0.5), borderaxespad=0., loc='center left')\n",
    "ax[0].legend('')\n",
    "ax[1].legend('')\n",
    "plt.tight_layout()\n",
    "plt.show()"
   ]
  }
 ],
 "metadata": {
  "kernelspec": {
   "display_name": "r23",
   "language": "python",
   "name": "python3"
  },
  "language_info": {
   "name": "python",
   "version": "3.10.14"
  }
 },
 "nbformat": 4,
 "nbformat_minor": 2
}
