{
 "cells": [
  {
   "cell_type": "code",
   "execution_count": 4,
   "id": "a182a49a",
   "metadata": {
    "execution": {
     "iopub.execute_input": "2024-10-19T05:58:57.094509Z",
     "iopub.status.busy": "2024-10-19T05:58:57.094111Z",
     "iopub.status.idle": "2024-10-19T05:58:57.100935Z",
     "shell.execute_reply": "2024-10-19T05:58:57.099460Z"
    },
    "papermill": {
     "duration": 0.041836,
     "end_time": "2024-10-19T05:58:57.104527",
     "exception": false,
     "start_time": "2024-10-19T05:58:57.062691",
     "status": "completed"
    },
    "tags": []
   },
   "outputs": [],
   "source": [
    "md_reference_data = None\n",
    "upstream = None\n",
    "product = None"
   ]
  },
  {
   "cell_type": "code",
   "execution_count": 5,
   "id": "f64e0200",
   "metadata": {
    "execution": {
     "iopub.execute_input": "2024-10-19T05:58:56.954636Z",
     "iopub.status.busy": "2024-10-19T05:58:56.954134Z",
     "iopub.status.idle": "2024-10-19T05:58:56.970117Z",
     "shell.execute_reply": "2024-10-19T05:58:56.968379Z"
    },
    "papermill": {
     "duration": 0.04865,
     "end_time": "2024-10-19T05:58:56.973727",
     "exception": false,
     "start_time": "2024-10-19T05:58:56.925077",
     "status": "completed"
    },
    "tags": [
     "parameters"
    ]
   },
   "outputs": [],
   "source": [
    "# declare a list tasks whose products you want to use as inputs\n",
    "upstream = None\n"
   ]
  },
  {
   "attachments": {},
   "cell_type": "markdown",
   "id": "4d5e2bcd",
   "metadata": {
    "papermill": {
     "duration": 0.028796,
     "end_time": "2024-10-19T05:58:57.151884",
     "exception": false,
     "start_time": "2024-10-19T05:58:57.123088",
     "status": "completed"
    },
    "tags": []
   },
   "source": [
    "# R23 - MD alignment and RMSD extraction \n",
    "\n",
    "## Contents\n",
    "\n",
    "1. Alignment\n",
    "2. RMSD\n",
    "3. RMSD against average structure\n",
    "4. RMSD over subunit\n",
    "5. RMSF"
   ]
  },
  {
   "cell_type": "markdown",
   "id": "ee3ffa01",
   "metadata": {
    "papermill": {
     "duration": 0.029274,
     "end_time": "2024-10-19T05:58:57.203965",
     "exception": false,
     "start_time": "2024-10-19T05:58:57.174691",
     "status": "completed"
    },
    "tags": []
   },
   "source": [
    "## Alignment and preparation"
   ]
  },
  {
   "cell_type": "code",
   "execution_count": 1,
   "id": "7f00e136",
   "metadata": {
    "execution": {
     "iopub.execute_input": "2024-10-19T05:58:57.250421Z",
     "iopub.status.busy": "2024-10-19T05:58:57.250021Z",
     "iopub.status.idle": "2024-10-19T05:58:57.705448Z",
     "shell.execute_reply": "2024-10-19T05:58:57.705024Z"
    },
    "papermill": {
     "duration": 0.482304,
     "end_time": "2024-10-19T05:58:57.706445",
     "exception": false,
     "start_time": "2024-10-19T05:58:57.224141",
     "status": "completed"
    },
    "tags": []
   },
   "outputs": [
    {
     "name": "stderr",
     "output_type": "stream",
     "text": [
      "/home/kaustubh/miniconda3/envs/md-analysis/lib/python3.10/site-packages/Bio/pairwise2.py:278: BiopythonDeprecationWarning: Bio.pairwise2 has been deprecated, and we intend to remove it in a future release of Biopython. As an alternative, please consider using Bio.Align.PairwiseAligner as a replacement, and contact the Biopython developers if you still need the Bio.pairwise2 module.\n",
      "  warnings.warn(\n"
     ]
    }
   ],
   "source": [
    "from mdtools.mapping import map_alignment_to_structure, align_structure_sequences\n",
    "import MDAnalysis as mda\n",
    "from MDAnalysis.analysis import rms, align\n",
    "from pyfamsa import Aligner, Sequence\n",
    "import json\n",
    "import pandas as pd\n",
    "import prody as pdy\n",
    "import seaborn as sns\n",
    "import matplotlib.pyplot as plt\n",
    "import plotly.express as px\n",
    "import numpy as np\n",
    "import numpy as np\n",
    "import matplotlib.pyplot as plt\n",
    "import prody as pdy\n",
    "import MDAnalysis as mda\n",
    "# from pyfamsa import Aligner, Sequence\n",
    "from yaml import load, Loader\n",
    "from Bio import AlignIO\n",
    "from Bio.SeqUtils import seq1\n",
    "from Bio.SeqIO import SeqRecord\n",
    "from Bio import SeqIO\n",
    "from Bio.Seq import Seq\n",
    "from sklearn.preprocessing import StandardScaler\n",
    "from sklearn.decomposition import PCA as sk_pca\n",
    "from MDAnalysis.analysis import align\n",
    "import pickle\n",
    "import tqdm\n",
    "plt.rcParams['svg.fonttype'] = 'none'\n",
    "#matplotlib.rcParams['fontname'] = \"Arial\""
   ]
  },
  {
   "cell_type": "code",
   "execution_count": 2,
   "id": "8fd7dacd",
   "metadata": {},
   "outputs": [],
   "source": [
    "md_reference_data = load(open(\"../env_rep2.yaml\"), Loader)['experiment_01']"
   ]
  },
  {
   "cell_type": "code",
   "execution_count": 3,
   "id": "477cb84d",
   "metadata": {
    "execution": {
     "iopub.execute_input": "2024-10-19T05:58:57.737382Z",
     "iopub.status.busy": "2024-10-19T05:58:57.737099Z",
     "iopub.status.idle": "2024-10-19T05:58:57.744157Z",
     "shell.execute_reply": "2024-10-19T05:58:57.743426Z"
    },
    "papermill": {
     "duration": 0.025486,
     "end_time": "2024-10-19T05:58:57.746132",
     "exception": false,
     "start_time": "2024-10-19T05:58:57.720646",
     "status": "completed"
    },
    "tags": []
   },
   "outputs": [],
   "source": [
    "def load_trajectory(code, data, path):\n",
    "    \n",
    "    \"\"\"\n",
    "    loads the following files\n",
    "    - an MDAnalysis trajectory with the dried (water-removed) dcd\n",
    "    - an MDAnalysis Universe with the starting PDB (jic)\n",
    "    - an prody with the starting PDB (pretty useful when MDAnalysis fails)\n",
    "    \"\"\"\n",
    "    return dict(\n",
    "        code=code,\n",
    "        trajectory_dry = mda.Universe(\n",
    "            path + data['dry_pdb'], \n",
    "            path + data['dry_dcd'], \n",
    "            frames='all', in_memory=True\n",
    "        ),\n",
    "        reference_pdy=pdy.parsePDB(path + data['dry_pdb']),\n",
    "        reference=mda.Universe(\n",
    "            path + data['dry_pdb']\n",
    "        ),\n",
    "        time=data['time']\n",
    "    )\n"
   ]
  },
  {
   "cell_type": "markdown",
   "id": "446aeee4",
   "metadata": {
    "papermill": {
     "duration": 0.017557,
     "end_time": "2024-10-19T05:58:57.781721",
     "exception": false,
     "start_time": "2024-10-19T05:58:57.764164",
     "status": "completed"
    },
    "tags": []
   },
   "source": [
    "Loading all the simulations."
   ]
  },
  {
   "cell_type": "code",
   "execution_count": 4,
   "id": "a6d392e3",
   "metadata": {
    "execution": {
     "iopub.execute_input": "2024-10-19T05:58:57.828218Z",
     "iopub.status.busy": "2024-10-19T05:58:57.827253Z",
     "iopub.status.idle": "2024-10-19T05:58:58.075629Z",
     "shell.execute_reply": "2024-10-19T05:58:58.074987Z"
    },
    "papermill": {
     "duration": 0.270944,
     "end_time": "2024-10-19T05:58:58.076224",
     "exception": true,
     "start_time": "2024-10-19T05:58:57.805280",
     "status": "failed"
    },
    "tags": []
   },
   "outputs": [
    {
     "name": "stdout",
     "output_type": "stream",
     "text": [
      "-- code 1bwv"
     ]
    },
    {
     "name": "stderr",
     "output_type": "stream",
     "text": [
      "@> 77672 atoms and 1 coordinate set(s) were parsed in 0.37s.\n"
     ]
    },
    {
     "name": "stdout",
     "output_type": "stream",
     "text": [
      " loaded\n",
      "-- code 3zxw"
     ]
    },
    {
     "name": "stderr",
     "output_type": "stream",
     "text": [
      "@> 69984 atoms and 1 coordinate set(s) were parsed in 0.34s.\n"
     ]
    },
    {
     "name": "stdout",
     "output_type": "stream",
     "text": [
      " loaded\n",
      "-- code 6ftl"
     ]
    },
    {
     "name": "stderr",
     "output_type": "stream",
     "text": [
      "@> 77416 atoms and 1 coordinate set(s) were parsed in 0.37s.\n"
     ]
    },
    {
     "name": "stdout",
     "output_type": "stream",
     "text": [
      " loaded\n",
      "-- code 6ura"
     ]
    },
    {
     "name": "stderr",
     "output_type": "stream",
     "text": [
      "@> 54648 atoms and 1 coordinate set(s) were parsed in 0.26s.\n"
     ]
    },
    {
     "name": "stdout",
     "output_type": "stream",
     "text": [
      " loaded\n",
      "-- code 7snv"
     ]
    },
    {
     "name": "stderr",
     "output_type": "stream",
     "text": [
      "@> 70240 atoms and 1 coordinate set(s) were parsed in 0.34s.\n"
     ]
    },
    {
     "name": "stdout",
     "output_type": "stream",
     "text": [
      " loaded\n",
      "-- code 8ruc"
     ]
    },
    {
     "name": "stderr",
     "output_type": "stream",
     "text": [
      "@> 74224 atoms and 1 coordinate set(s) were parsed in 0.36s.\n"
     ]
    },
    {
     "name": "stdout",
     "output_type": "stream",
     "text": [
      " loaded\n",
      "-- code 9rub"
     ]
    },
    {
     "name": "stderr",
     "output_type": "stream",
     "text": [
      "@> 13838 atoms and 1 coordinate set(s) were parsed in 0.07s.\n"
     ]
    },
    {
     "name": "stdout",
     "output_type": "stream",
     "text": [
      " loaded\n",
      "-- code anci"
     ]
    },
    {
     "name": "stderr",
     "output_type": "stream",
     "text": [
      "@> 72128 atoms and 1 coordinate set(s) were parsed in 0.34s.\n"
     ]
    },
    {
     "name": "stdout",
     "output_type": "stream",
     "text": [
      " loaded\n",
      "-- code anciab"
     ]
    },
    {
     "name": "stderr",
     "output_type": "stream",
     "text": [
      "@> 72640 atoms and 1 coordinate set(s) were parsed in 0.35s.\n"
     ]
    },
    {
     "name": "stdout",
     "output_type": "stream",
     "text": [
      " loaded\n",
      "-- code ancicd"
     ]
    },
    {
     "name": "stderr",
     "output_type": "stream",
     "text": [
      "@> 76208 atoms and 1 coordinate set(s) were parsed in 0.36s.\n"
     ]
    },
    {
     "name": "stdout",
     "output_type": "stream",
     "text": [
      " loaded\n",
      "-- code ancia"
     ]
    },
    {
     "name": "stderr",
     "output_type": "stream",
     "text": [
      "@> 73536 atoms and 1 coordinate set(s) were parsed in 0.35s.\n"
     ]
    },
    {
     "name": "stdout",
     "output_type": "stream",
     "text": [
      " loaded\n",
      "-- code ancib"
     ]
    },
    {
     "name": "stderr",
     "output_type": "stream",
     "text": [
      "@> 72352 atoms and 1 coordinate set(s) were parsed in 0.35s.\n"
     ]
    },
    {
     "name": "stdout",
     "output_type": "stream",
     "text": [
      " loaded\n",
      "-- code anciip"
     ]
    },
    {
     "name": "stderr",
     "output_type": "stream",
     "text": [
      "@> 55120 atoms and 1 coordinate set(s) were parsed in 0.26s.\n"
     ]
    },
    {
     "name": "stdout",
     "output_type": "stream",
     "text": [
      " loaded\n",
      "-- code ancip"
     ]
    },
    {
     "name": "stderr",
     "output_type": "stream",
     "text": [
      "@> 54768 atoms and 1 coordinate set(s) were parsed in 0.26s.\n"
     ]
    },
    {
     "name": "stdout",
     "output_type": "stream",
     "text": [
      " loaded\n",
      "-- code anci-wo-ssu"
     ]
    },
    {
     "name": "stderr",
     "output_type": "stream",
     "text": [
      "@> 58584 atoms and 1 coordinate set(s) were parsed in 0.28s.\n"
     ]
    },
    {
     "name": "stdout",
     "output_type": "stream",
     "text": [
      " loaded\n"
     ]
    }
   ],
   "source": [
    "path = '/home/kaustubh/MD_Simulations/simulations_data/'\n",
    "exp01_md = []\n",
    "for key, items in md_reference_data.items():\n",
    "    print(f\"-- code {key}\", end='')\n",
    "    exp01_md.append(load_trajectory(\n",
    "        code=key, data=items, path=path\n",
    "    ))\n",
    "    print(f\" loaded\")\n",
    "exp01_md = pd.DataFrame.from_records(exp01_md).set_index('code')"
   ]
  },
  {
   "attachments": {},
   "cell_type": "markdown",
   "id": "ae6b6b80",
   "metadata": {
    "papermill": {
     "duration": null,
     "end_time": null,
     "exception": null,
     "start_time": null,
     "status": "pending"
    },
    "tags": []
   },
   "source": [
    "## RMSD calculations\n",
    "\n",
    "We compute the RMSD of:\n",
    "- All the alpha carbons.\n",
    "- Large subunit alpha carbons\n",
    "- Small subunit alpha carbons\n",
    "- Upper and lower large subunit alpha carbons\n",
    "- Upper and lower small subunit alpha carbons"
   ]
  },
  {
   "cell_type": "code",
   "execution_count": 5,
   "id": "0d72f811",
   "metadata": {
    "papermill": {
     "duration": null,
     "end_time": null,
     "exception": null,
     "start_time": null,
     "status": "pending"
    },
    "tags": []
   },
   "outputs": [
    {
     "name": "stdout",
     "output_type": "stream",
     "text": [
      "-- code 1bwv"
     ]
    },
    {
     "name": "stderr",
     "output_type": "stream",
     "text": [
      "/home/kaustubh/miniconda3/envs/md-analysis/lib/python3.10/site-packages/MDAnalysis/analysis/rms.py:718: DeprecationWarning: The `rmsd` attribute was deprecated in MDAnalysis 2.0.0 and will be removed in MDAnalysis 3.0.0. Please use `results.rmsd` instead.\n",
      "  warnings.warn(wmsg, DeprecationWarning)\n"
     ]
    },
    {
     "name": "stdout",
     "output_type": "stream",
     "text": [
      " aligned\n",
      "-- code 3zxw"
     ]
    },
    {
     "name": "stderr",
     "output_type": "stream",
     "text": [
      "/home/kaustubh/miniconda3/envs/md-analysis/lib/python3.10/site-packages/MDAnalysis/analysis/rms.py:718: DeprecationWarning: The `rmsd` attribute was deprecated in MDAnalysis 2.0.0 and will be removed in MDAnalysis 3.0.0. Please use `results.rmsd` instead.\n",
      "  warnings.warn(wmsg, DeprecationWarning)\n"
     ]
    },
    {
     "name": "stdout",
     "output_type": "stream",
     "text": [
      " aligned\n",
      "-- code 6ftl"
     ]
    },
    {
     "name": "stderr",
     "output_type": "stream",
     "text": [
      "/home/kaustubh/miniconda3/envs/md-analysis/lib/python3.10/site-packages/MDAnalysis/analysis/rms.py:718: DeprecationWarning: The `rmsd` attribute was deprecated in MDAnalysis 2.0.0 and will be removed in MDAnalysis 3.0.0. Please use `results.rmsd` instead.\n",
      "  warnings.warn(wmsg, DeprecationWarning)\n",
      "/home/kaustubh/miniconda3/envs/md-analysis/lib/python3.10/site-packages/MDAnalysis/analysis/rms.py:279: RuntimeWarning: invalid value encountered in double_scalars\n",
      "  return np.sqrt(np.sum((a - b) ** 2) / N)\n"
     ]
    },
    {
     "name": "stdout",
     "output_type": "stream",
     "text": [
      " aligned\n",
      "-- code 6ura"
     ]
    },
    {
     "name": "stderr",
     "output_type": "stream",
     "text": [
      "/home/kaustubh/miniconda3/envs/md-analysis/lib/python3.10/site-packages/MDAnalysis/analysis/rms.py:718: DeprecationWarning: The `rmsd` attribute was deprecated in MDAnalysis 2.0.0 and will be removed in MDAnalysis 3.0.0. Please use `results.rmsd` instead.\n",
      "  warnings.warn(wmsg, DeprecationWarning)\n"
     ]
    },
    {
     "name": "stdout",
     "output_type": "stream",
     "text": [
      " aligned\n",
      "-- code 7snv"
     ]
    },
    {
     "name": "stderr",
     "output_type": "stream",
     "text": [
      "/home/kaustubh/miniconda3/envs/md-analysis/lib/python3.10/site-packages/MDAnalysis/analysis/rms.py:718: DeprecationWarning: The `rmsd` attribute was deprecated in MDAnalysis 2.0.0 and will be removed in MDAnalysis 3.0.0. Please use `results.rmsd` instead.\n",
      "  warnings.warn(wmsg, DeprecationWarning)\n"
     ]
    },
    {
     "name": "stdout",
     "output_type": "stream",
     "text": [
      " aligned\n",
      "-- code 8ruc"
     ]
    },
    {
     "name": "stderr",
     "output_type": "stream",
     "text": [
      "/home/kaustubh/miniconda3/envs/md-analysis/lib/python3.10/site-packages/MDAnalysis/analysis/rms.py:718: DeprecationWarning: The `rmsd` attribute was deprecated in MDAnalysis 2.0.0 and will be removed in MDAnalysis 3.0.0. Please use `results.rmsd` instead.\n",
      "  warnings.warn(wmsg, DeprecationWarning)\n",
      "/home/kaustubh/miniconda3/envs/md-analysis/lib/python3.10/site-packages/MDAnalysis/analysis/rms.py:279: RuntimeWarning: invalid value encountered in double_scalars\n",
      "  return np.sqrt(np.sum((a - b) ** 2) / N)\n"
     ]
    },
    {
     "name": "stdout",
     "output_type": "stream",
     "text": [
      " aligned\n",
      "-- code 9rub"
     ]
    },
    {
     "name": "stderr",
     "output_type": "stream",
     "text": [
      "/home/kaustubh/miniconda3/envs/md-analysis/lib/python3.10/site-packages/MDAnalysis/analysis/rms.py:718: DeprecationWarning: The `rmsd` attribute was deprecated in MDAnalysis 2.0.0 and will be removed in MDAnalysis 3.0.0. Please use `results.rmsd` instead.\n",
      "  warnings.warn(wmsg, DeprecationWarning)\n"
     ]
    },
    {
     "name": "stdout",
     "output_type": "stream",
     "text": [
      " aligned\n",
      "-- code anci"
     ]
    },
    {
     "name": "stderr",
     "output_type": "stream",
     "text": [
      "/home/kaustubh/miniconda3/envs/md-analysis/lib/python3.10/site-packages/MDAnalysis/analysis/rms.py:718: DeprecationWarning: The `rmsd` attribute was deprecated in MDAnalysis 2.0.0 and will be removed in MDAnalysis 3.0.0. Please use `results.rmsd` instead.\n",
      "  warnings.warn(wmsg, DeprecationWarning)\n"
     ]
    },
    {
     "name": "stdout",
     "output_type": "stream",
     "text": [
      " aligned\n",
      "-- code anciab"
     ]
    },
    {
     "name": "stderr",
     "output_type": "stream",
     "text": [
      "/home/kaustubh/miniconda3/envs/md-analysis/lib/python3.10/site-packages/MDAnalysis/analysis/rms.py:718: DeprecationWarning: The `rmsd` attribute was deprecated in MDAnalysis 2.0.0 and will be removed in MDAnalysis 3.0.0. Please use `results.rmsd` instead.\n",
      "  warnings.warn(wmsg, DeprecationWarning)\n"
     ]
    },
    {
     "name": "stdout",
     "output_type": "stream",
     "text": [
      " aligned\n",
      "-- code ancicd"
     ]
    },
    {
     "name": "stderr",
     "output_type": "stream",
     "text": [
      "/home/kaustubh/miniconda3/envs/md-analysis/lib/python3.10/site-packages/MDAnalysis/analysis/rms.py:718: DeprecationWarning: The `rmsd` attribute was deprecated in MDAnalysis 2.0.0 and will be removed in MDAnalysis 3.0.0. Please use `results.rmsd` instead.\n",
      "  warnings.warn(wmsg, DeprecationWarning)\n"
     ]
    },
    {
     "name": "stdout",
     "output_type": "stream",
     "text": [
      " aligned\n",
      "-- code ancia"
     ]
    },
    {
     "name": "stderr",
     "output_type": "stream",
     "text": [
      "/home/kaustubh/miniconda3/envs/md-analysis/lib/python3.10/site-packages/MDAnalysis/analysis/rms.py:718: DeprecationWarning: The `rmsd` attribute was deprecated in MDAnalysis 2.0.0 and will be removed in MDAnalysis 3.0.0. Please use `results.rmsd` instead.\n",
      "  warnings.warn(wmsg, DeprecationWarning)\n"
     ]
    },
    {
     "name": "stdout",
     "output_type": "stream",
     "text": [
      " aligned\n",
      "-- code ancib"
     ]
    },
    {
     "name": "stderr",
     "output_type": "stream",
     "text": [
      "/home/kaustubh/miniconda3/envs/md-analysis/lib/python3.10/site-packages/MDAnalysis/analysis/rms.py:718: DeprecationWarning: The `rmsd` attribute was deprecated in MDAnalysis 2.0.0 and will be removed in MDAnalysis 3.0.0. Please use `results.rmsd` instead.\n",
      "  warnings.warn(wmsg, DeprecationWarning)\n",
      "/home/kaustubh/miniconda3/envs/md-analysis/lib/python3.10/site-packages/MDAnalysis/analysis/rms.py:279: RuntimeWarning: invalid value encountered in double_scalars\n",
      "  return np.sqrt(np.sum((a - b) ** 2) / N)\n"
     ]
    },
    {
     "name": "stdout",
     "output_type": "stream",
     "text": [
      " aligned\n",
      "-- code anciip"
     ]
    },
    {
     "name": "stderr",
     "output_type": "stream",
     "text": [
      "/home/kaustubh/miniconda3/envs/md-analysis/lib/python3.10/site-packages/MDAnalysis/analysis/rms.py:718: DeprecationWarning: The `rmsd` attribute was deprecated in MDAnalysis 2.0.0 and will be removed in MDAnalysis 3.0.0. Please use `results.rmsd` instead.\n",
      "  warnings.warn(wmsg, DeprecationWarning)\n",
      "/home/kaustubh/miniconda3/envs/md-analysis/lib/python3.10/site-packages/MDAnalysis/analysis/rms.py:279: RuntimeWarning: invalid value encountered in double_scalars\n",
      "  return np.sqrt(np.sum((a - b) ** 2) / N)\n"
     ]
    },
    {
     "name": "stdout",
     "output_type": "stream",
     "text": [
      " aligned\n",
      "-- code ancip"
     ]
    },
    {
     "name": "stderr",
     "output_type": "stream",
     "text": [
      "/home/kaustubh/miniconda3/envs/md-analysis/lib/python3.10/site-packages/MDAnalysis/analysis/rms.py:718: DeprecationWarning: The `rmsd` attribute was deprecated in MDAnalysis 2.0.0 and will be removed in MDAnalysis 3.0.0. Please use `results.rmsd` instead.\n",
      "  warnings.warn(wmsg, DeprecationWarning)\n"
     ]
    },
    {
     "name": "stdout",
     "output_type": "stream",
     "text": [
      " aligned\n",
      "-- code anci-wo-ssu"
     ]
    },
    {
     "name": "stderr",
     "output_type": "stream",
     "text": [
      "/home/kaustubh/miniconda3/envs/md-analysis/lib/python3.10/site-packages/MDAnalysis/analysis/rms.py:279: RuntimeWarning: invalid value encountered in double_scalars\n",
      "  return np.sqrt(np.sum((a - b) ** 2) / N)\n"
     ]
    },
    {
     "name": "stdout",
     "output_type": "stream",
     "text": [
      " aligned\n"
     ]
    },
    {
     "name": "stderr",
     "output_type": "stream",
     "text": [
      "/home/kaustubh/miniconda3/envs/md-analysis/lib/python3.10/site-packages/MDAnalysis/analysis/rms.py:718: DeprecationWarning: The `rmsd` attribute was deprecated in MDAnalysis 2.0.0 and will be removed in MDAnalysis 3.0.0. Please use `results.rmsd` instead.\n",
      "  warnings.warn(wmsg, DeprecationWarning)\n"
     ]
    }
   ],
   "source": [
    "exp01_rmsd = []\n",
    "\n",
    "complex_all = 'name CA'\n",
    "upper_ssu = 'name CA and (segid B or segid F or segid J or segid N)'\n",
    "lower_ssu = 'name CA and (segid D or segid H or segid L or segid P)'\n",
    "ssu = 'name CA and (segid B or segid F or segid J or segid N or segid D or segid H or segid L or segid P)'\n",
    "upper_lsu = 'name CA and (segid A or segid E or segid I or segid M)'\n",
    "lower_lsu = 'name CA and (segid C or segid G or segid K or segid O)'\n",
    "lsu = 'name CA and (segid A or segid E or segid I or segid M or segid C or segid G or segid K or segid O)'\n",
    "\n",
    "\n",
    "for key, item in exp01_md.iterrows():\n",
    "    print(f\"-- code {key}\", end='')\n",
    "    R = rms.RMSD(item['trajectory_dry'], item['reference'], select='name CA', groupselections=[upper_ssu, lower_ssu, ssu, upper_lsu, lower_lsu, lsu], superposition=False)\n",
    "    results = R.run()\n",
    "    tmp = pd.DataFrame(results.rmsd, columns=['frame', 'time', 'CA', 'upperSSU', 'lowerSSU', 'ssu', 'upperLSU', 'lowerLSU', 'lsu'])\n",
    "    tmp['code'] = key\n",
    "    exp01_rmsd.append(tmp)\n",
    "    print(f\" aligned\")\n",
    "    \n",
    "exp01_rmsd = pd.concat(exp01_rmsd)\n",
    "exp01_rmsd.index = pd.MultiIndex.from_arrays([exp01_rmsd['code'], exp01_rmsd['frame']])\n",
    "exp01_rmsd['frame'] = exp01_rmsd['frame'].astype(int)\n",
    "exp01_rmsd['time'] = exp01_rmsd['time'].astype(float)\n",
    "exp01_rmsd['time_ns'] = exp01_rmsd['frame'] / 2.5"
   ]
  },
  {
   "cell_type": "code",
   "execution_count": 6,
   "id": "09b49bae",
   "metadata": {},
   "outputs": [],
   "source": [
    "exp01_rmsd.to_pickle(\"./exp01_rmsd_rep_2.pkl\")"
   ]
  }
 ],
 "metadata": {
  "kernelspec": {
   "display_name": "md-analysis",
   "language": "python",
   "name": "python3"
  },
  "language_info": {
   "codemirror_mode": {
    "name": "ipython",
    "version": 3
   },
   "file_extension": ".py",
   "mimetype": "text/x-python",
   "name": "python",
   "nbconvert_exporter": "python",
   "pygments_lexer": "ipython3",
   "version": "3.10.6"
  },
  "papermill": {
   "duration": 2.046537,
   "end_time": "2024-10-19T05:58:58.416830",
   "exception": true,
   "input_path": "/tmp/tmp6ophn066.ipynb",
   "output_path": "/mnt/researchdrive/bCuevas/r23/analysis-250ns/output/out-01-R23-RMSD.ipynb",
   "parameters": {
    "md_reference_data": {
     "1bwv": {
      "dry_dcd": "1bwv.250ns.md00.stride_4.dry.dcd",
      "dry_pdb": "1bwv.250ns.md00.dry.pdb",
      "time": "extant"
     },
     "3zxw": {
      "dry_dcd": "3zxw.250ns.md00.stride_4.dry.dcd",
      "dry_pdb": "3zxw.250ns.md00.dry.pdb",
      "time": "extant"
     },
     "6ftl": {
      "dry_dcd": "6ftl.250ns.md00.stride_4.dry.dcd",
      "dry_pdb": "6ftl.250ns.md00.dry.pdb",
      "time": "extant"
     },
     "6ura": {
      "dry_dcd": "6ura.250ns.md00.stride_4.dry.dcd",
      "dry_pdb": "6ura.250ns.md00.dry.pdb",
      "time": "extant"
     },
     "7snv": {
      "dry_dcd": "7snv.250ns.md00.stride_4.dry.dcd",
      "dry_pdb": "7snv.250ns.md00.dry.pdb",
      "time": "extant"
     },
     "8ruc": {
      "dry_dcd": "8ruc.250ns.md00.stride_4.dry.dcd",
      "dry_pdb": "8ruc.250ns.md00.dry.pdb",
      "time": "extant"
     },
     "anci": {
      "dry_dcd": "anci.250ns.md00.dry.dcd",
      "dry_pdb": "anci.250ns.md00.dry.pdb",
      "time": "ancient"
     },
     "ancia": {
      "dry_dcd": "ancia.250ns.md00.dry.dcd",
      "dry_pdb": "ancia.250ns.md00.dry.pdb",
      "time": "ancient"
     },
     "anciab": {
      "dry_dcd": "anciab.250ns.md00.dry.dcd",
      "dry_pdb": "anciab.250ns.md00.dry.pdb",
      "time": "ancient"
     },
     "ancib": {
      "dry_dcd": "ancib.250ns.md00.dry.dcd",
      "dry_pdb": "ancib.250ns.md00.dry.pdb",
      "time": "ancient"
     },
     "ancicd": {
      "dry_dcd": "ancicd.250ns.md00.dry.dcd",
      "dry_pdb": "ancicd.250ns.md00.dry.pdb",
      "time": "ancient"
     },
     "anciip": {
      "dry_dcd": "anciip.250ns.md00.dry.dcd",
      "dry_pdb": "anciip.250ns.md00.dry.pdb",
      "time": "ancient"
     },
     "ancip": {
      "dry_dcd": "ancip.250ns.md00.dry.dcd",
      "dry_pdb": "ancip.250ns.md00.dry.pdb",
      "time": "ancient"
     }
    },
    "product": {
     "avg_rmsd": "/mnt/researchdrive/bCuevas/r23/analysis-250ns/output/exp01-avg-rmsd.csv",
     "nb": "/mnt/researchdrive/bCuevas/r23/analysis-250ns/output/out-01-R23-RMSD.ipynb",
     "rmsd": "/mnt/researchdrive/bCuevas/r23/analysis-250ns/output/exp01-rmsd.csv"
    }
   },
   "start_time": "2024-10-19T05:58:56.370293"
  }
 },
 "nbformat": 4,
 "nbformat_minor": 5
}
