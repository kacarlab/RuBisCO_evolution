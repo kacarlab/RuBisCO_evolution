{
 "cells": [
  {
   "cell_type": "code",
   "execution_count": 1,
   "id": "1bc8b315",
   "metadata": {
    "execution": {
     "iopub.execute_input": "2024-07-07T21:30:02.274980Z",
     "iopub.status.busy": "2024-07-07T21:30:02.274466Z",
     "iopub.status.idle": "2024-07-07T21:30:02.283352Z",
     "shell.execute_reply": "2024-07-07T21:30:02.281746Z"
    },
    "papermill": {
     "duration": 0.047423,
     "end_time": "2024-07-07T21:30:02.286859",
     "exception": false,
     "start_time": "2024-07-07T21:30:02.239436",
     "status": "completed"
    },
    "tags": [
     "parameters"
    ]
   },
   "outputs": [],
   "source": [
    "product = None\n",
    "upstream = None\n",
    "md_reference_data = None"
   ]
  },
  {
   "cell_type": "code",
   "execution_count": 2,
   "id": "df72ed81",
   "metadata": {
    "execution": {
     "iopub.execute_input": "2024-07-07T21:30:02.342865Z",
     "iopub.status.busy": "2024-07-07T21:30:02.342438Z",
     "iopub.status.idle": "2024-07-07T21:30:02.353183Z",
     "shell.execute_reply": "2024-07-07T21:30:02.352149Z"
    },
    "papermill": {
     "duration": 0.043439,
     "end_time": "2024-07-07T21:30:02.355318",
     "exception": false,
     "start_time": "2024-07-07T21:30:02.311879",
     "status": "completed"
    },
    "tags": [
     "injected-parameters"
    ]
   },
   "outputs": [],
   "source": [
    "# Parameters\n",
    "code_palette = {\n",
    "    \"6ftl\": \"#5e93f5\",\n",
    "    \"3zxw\": \"#976cd2\",\n",
    "    \"8ruc\": \"#976cd2\",\n",
    "    \"1bwv\": \"#75eda7\",\n",
    "    \"6ura\": \"#91da48\",\n",
    "    \"anciip\": \"gray\",\n",
    "    \"anci\": \"gray\",\n",
    "    \"anciab\": \"gray\",\n",
    "    \"ancicd\": \"gray\",\n",
    "    \"ancia\": \"gray\",\n",
    "    \"ancib\": \"gray\",\n",
    "    \"ancip\": \"gray\",\n",
    "}\n",
    "md_reference_data = [\n",
    "    {\n",
    "        \"code\": \"1bwv\",\n",
    "        \"dry_dcd\": \"1bwv.exp02.md01.dry.dcd\",\n",
    "        \"dry_pdb\": \"1bwv.exp02.md01.dry.pdb\",\n",
    "        \"time\": \"extant\",\n",
    "        \"gas\": \"CO2\",\n",
    "        \"concentration\": \"400mM\",\n",
    "    },\n",
    "    {\n",
    "        \"code\": \"1bwv\",\n",
    "        \"dry_dcd\": \"1bwv.exp04.md01.dry.dcd\",\n",
    "        \"dry_pdb\": \"1bwv.exp04.md01.dry.pdb\",\n",
    "        \"time\": \"extant\",\n",
    "        \"gas\": \"MO2\",\n",
    "        \"concentration\": \"400mM\",\n",
    "    },\n",
    "    {\n",
    "        \"code\": \"3zxw\",\n",
    "        \"dry_dcd\": \"3zxw.exp02.md01.dry.dcd\",\n",
    "        \"dry_pdb\": \"3zxw.exp02.md01.dry.pdb\",\n",
    "        \"time\": \"extant\",\n",
    "        \"gas\": \"CO2\",\n",
    "        \"concentration\": \"400mM\",\n",
    "    },\n",
    "    {\n",
    "        \"code\": \"3zxw\",\n",
    "        \"dry_dcd\": \"3zxw.exp04.md01.dry.dcd\",\n",
    "        \"dry_pdb\": \"3zxw.exp04.md01.dry.pdb\",\n",
    "        \"time\": \"extant\",\n",
    "        \"gas\": \"MO2\",\n",
    "        \"concentration\": \"400mM\",\n",
    "    },\n",
    "    {\n",
    "        \"code\": \"6ftl\",\n",
    "        \"dry_dcd\": \"6ftl.exp02.md01.dry.dcd\",\n",
    "        \"dry_pdb\": \"6ftl.exp02.md01.dry.pdb\",\n",
    "        \"time\": \"extant\",\n",
    "        \"gas\": \"CO2\",\n",
    "        \"concentration\": \"400mM\",\n",
    "    },\n",
    "    {\n",
    "        \"code\": \"6ftl\",\n",
    "        \"dry_dcd\": \"6ftl.exp04.md01.dry.dcd\",\n",
    "        \"dry_pdb\": \"6ftl.exp04.md01.dry.pdb\",\n",
    "        \"time\": \"extant\",\n",
    "        \"gas\": \"MO2\",\n",
    "        \"concentration\": \"400mM\",\n",
    "    },\n",
    "    {\n",
    "        \"code\": \"8ruc\",\n",
    "        \"dry_dcd\": \"8ruc.exp02.md01.dry.dcd\",\n",
    "        \"dry_pdb\": \"8ruc.exp02.md01.dry.pdb\",\n",
    "        \"time\": \"extant\",\n",
    "        \"gas\": \"CO2\",\n",
    "        \"concentration\": \"400mM\",\n",
    "    },\n",
    "    {\n",
    "        \"code\": \"8ruc\",\n",
    "        \"dry_dcd\": \"8ruc.exp04.md01.dry.dcd\",\n",
    "        \"dry_pdb\": \"8ruc.exp04.md01.dry.pdb\",\n",
    "        \"time\": \"extant\",\n",
    "        \"gas\": \"MO2\",\n",
    "        \"concentration\": \"400mM\",\n",
    "    },\n",
    "    {\n",
    "        \"code\": \"anci\",\n",
    "        \"dry_dcd\": \"anci.exp02.md01.dry.dcd\",\n",
    "        \"dry_pdb\": \"anci.exp02.md01.dry.pdb\",\n",
    "        \"time\": \"ancient\",\n",
    "        \"gas\": \"CO2\",\n",
    "        \"concentration\": \"400mM\",\n",
    "    },\n",
    "    {\n",
    "        \"code\": \"anci\",\n",
    "        \"dry_dcd\": \"anci.exp04.md01.dry.dcd\",\n",
    "        \"dry_pdb\": \"anci.exp04.md01.dry.pdb\",\n",
    "        \"time\": \"ancient\",\n",
    "        \"gas\": \"MO2\",\n",
    "        \"concentration\": \"400mM\",\n",
    "    },\n",
    "    {\n",
    "        \"code\": \"ancia\",\n",
    "        \"dry_dcd\": \"ancia.exp02.md01.dry.dcd\",\n",
    "        \"dry_pdb\": \"ancia.exp02.md01.dry.pdb\",\n",
    "        \"time\": \"ancient\",\n",
    "        \"gas\": \"CO2\",\n",
    "        \"concentration\": \"400mM\",\n",
    "    },\n",
    "    {\n",
    "        \"code\": \"ancia\",\n",
    "        \"dry_dcd\": \"ancia.exp04.md01.dry.dcd\",\n",
    "        \"dry_pdb\": \"ancia.exp04.md01.dry.pdb\",\n",
    "        \"time\": \"ancient\",\n",
    "        \"gas\": \"MO2\",\n",
    "        \"concentration\": \"400mM\",\n",
    "    },\n",
    "    {\n",
    "        \"code\": \"ancib\",\n",
    "        \"dry_dcd\": \"ancib.exp02.md01.dry.dcd\",\n",
    "        \"dry_pdb\": \"ancib.exp02.md01.dry.pdb\",\n",
    "        \"time\": \"ancient\",\n",
    "        \"gas\": \"CO2\",\n",
    "        \"concentration\": \"400mM\",\n",
    "    },\n",
    "    {\n",
    "        \"code\": \"ancib\",\n",
    "        \"dry_dcd\": \"ancib.exp04.md01.dry.dcd\",\n",
    "        \"dry_pdb\": \"ancib.exp04.md01.dry.pdb\",\n",
    "        \"time\": \"ancient\",\n",
    "        \"gas\": \"MO2\",\n",
    "        \"concentration\": \"400mM\",\n",
    "    },\n",
    "    {\n",
    "        \"code\": \"ancicd\",\n",
    "        \"dry_dcd\": \"ancicd.exp02.md01.dry.dcd\",\n",
    "        \"dry_pdb\": \"ancicd.exp02.md01.dry.pdb\",\n",
    "        \"time\": \"ancient\",\n",
    "        \"gas\": \"CO2\",\n",
    "        \"concentration\": \"400mM\",\n",
    "    },\n",
    "    {\n",
    "        \"code\": \"ancicd\",\n",
    "        \"dry_dcd\": \"ancicd.exp04.md01.dry.dcd\",\n",
    "        \"dry_pdb\": \"ancicd.exp04.md01.dry.pdb\",\n",
    "        \"time\": \"ancient\",\n",
    "        \"gas\": \"MO2\",\n",
    "        \"concentration\": \"400mM\",\n",
    "    },\n",
    "    {\n",
    "        \"code\": \"anciab\",\n",
    "        \"dry_dcd\": \"anciab.exp02.md01.dry.dcd\",\n",
    "        \"dry_pdb\": \"anciab.exp02.md01.dry.pdb\",\n",
    "        \"time\": \"ancient\",\n",
    "        \"gas\": \"CO2\",\n",
    "        \"concentration\": \"400mM\",\n",
    "    },\n",
    "    {\n",
    "        \"code\": \"anciab\",\n",
    "        \"dry_dcd\": \"anciab.exp04.md01.dry.dcd\",\n",
    "        \"dry_pdb\": \"anciab.exp04.md01.dry.pdb\",\n",
    "        \"time\": \"ancient\",\n",
    "        \"gas\": \"MO2\",\n",
    "        \"concentration\": \"400mM\",\n",
    "    },\n",
    "]\n",
    "product = {\n",
    "    \"nb\": \"/mnt/researchdrive/bCuevas/r23/github_repo/RuBisCO_evolution/analysis/output/out-05-R23-gas-contacts.ipynb\",\n",
    "    \"contacts_per_subunit\": \"/mnt/researchdrive/bCuevas/r23/github_repo/RuBisCO_evolution/analysis/output/contacts.csv\",\n",
    "}\n"
   ]
  },
  {
   "attachments": {},
   "cell_type": "markdown",
   "id": "b6bbf1b4",
   "metadata": {
    "papermill": {
     "duration": 0.015702,
     "end_time": "2024-07-07T21:30:02.385192",
     "exception": false,
     "start_time": "2024-07-07T21:30:02.369490",
     "status": "completed"
    },
    "tags": []
   },
   "source": [
    "# Contact analysis for Rubisco Extant protein complexes"
   ]
  },
  {
   "cell_type": "code",
   "execution_count": 3,
   "id": "2a896fc5",
   "metadata": {
    "execution": {
     "iopub.execute_input": "2024-07-07T21:30:02.426215Z",
     "iopub.status.busy": "2024-07-07T21:30:02.425840Z",
     "iopub.status.idle": "2024-07-07T21:30:03.223934Z",
     "shell.execute_reply": "2024-07-07T21:30:03.223461Z"
    },
    "papermill": {
     "duration": 0.824439,
     "end_time": "2024-07-07T21:30:03.224951",
     "exception": false,
     "start_time": "2024-07-07T21:30:02.400512",
     "status": "completed"
    },
    "tags": []
   },
   "outputs": [
    {
     "name": "stderr",
     "output_type": "stream",
     "text": [
      "/home/kaustubh/miniconda3/envs/md-analysis/lib/python3.10/site-packages/Bio/pairwise2.py:278: BiopythonDeprecationWarning: Bio.pairwise2 has been deprecated, and we intend to remove it in a future release of Biopython. As an alternative, please consider using Bio.Align.PairwiseAligner as a replacement, and contact the Biopython developers if you still need the Bio.pairwise2 module.\n",
      "  warnings.warn(\n"
     ]
    }
   ],
   "source": [
    "import MDAnalysis as mda\n",
    "#from MDAnalysis.tests.datafiles import TPR, XTC\n",
    "from MDAnalysis.analysis import density\n",
    "from MDAnalysis.analysis import rdf\n",
    "from MDAnalysis.analysis import contacts\n",
    "import prody as pdy\n",
    "import numpy as np\n",
    "import pandas as pd\n",
    "import matplotlib.pyplot as plt\n",
    "import json\n",
    "import seaborn as sns\n",
    "import math"
   ]
  },
  {
   "cell_type": "code",
   "execution_count": 4,
   "id": "0708d676",
   "metadata": {
    "execution": {
     "iopub.execute_input": "2024-07-07T21:30:03.271822Z",
     "iopub.status.busy": "2024-07-07T21:30:03.270901Z",
     "iopub.status.idle": "2024-07-07T21:30:03.279847Z",
     "shell.execute_reply": "2024-07-07T21:30:03.278389Z"
    },
    "papermill": {
     "duration": 0.034782,
     "end_time": "2024-07-07T21:30:03.283176",
     "exception": false,
     "start_time": "2024-07-07T21:30:03.248394",
     "status": "completed"
    },
    "tags": []
   },
   "outputs": [],
   "source": [
    "def contacts_within_cutoff(u, group_a, group_b, radius=6.0):\n",
    "    timeseries = []\n",
    "    for ts in u.trajectory:\n",
    "        dist = contacts.distance_array(group_a.positions, group_b.positions)\n",
    "        n_contacts = contacts.contact_matrix(dist, radius).sum()\n",
    "        timeseries.append([ts.frame, n_contacts])\n",
    "    return np.array(timeseries)"
   ]
  },
  {
   "cell_type": "code",
   "execution_count": 5,
   "id": "9c0d141e",
   "metadata": {
    "execution": {
     "iopub.execute_input": "2024-07-07T21:30:03.342353Z",
     "iopub.status.busy": "2024-07-07T21:30:03.341929Z",
     "iopub.status.idle": "2024-07-07T21:30:03.349566Z",
     "shell.execute_reply": "2024-07-07T21:30:03.347975Z"
    },
    "papermill": {
     "duration": 0.037543,
     "end_time": "2024-07-07T21:30:03.353027",
     "exception": false,
     "start_time": "2024-07-07T21:30:03.315484",
     "status": "completed"
    },
    "tags": []
   },
   "outputs": [],
   "source": [
    "lsu_chains = ['A','E','I','M','C','G','K','O']\n",
    "ssu_chains = ['B','F','J','N','D','H','L','P']"
   ]
  },
  {
   "cell_type": "code",
   "execution_count": 6,
   "id": "9b32f70f",
   "metadata": {
    "execution": {
     "iopub.execute_input": "2024-07-07T21:30:03.406466Z",
     "iopub.status.busy": "2024-07-07T21:30:03.406041Z",
     "iopub.status.idle": "2024-07-07T21:30:03.418300Z",
     "shell.execute_reply": "2024-07-07T21:30:03.416857Z"
    },
    "papermill": {
     "duration": 0.046828,
     "end_time": "2024-07-07T21:30:03.421511",
     "exception": false,
     "start_time": "2024-07-07T21:30:03.374683",
     "status": "completed"
    },
    "tags": []
   },
   "outputs": [],
   "source": [
    "def average_gas_per_subunit(pdb_file, dcd_file, gas, atom, conc):\n",
    "    env = mda.Universe(pdb_file, dcd_file, frames=\"all\")\n",
    "    prot_lsu_atoms = env.select_atoms('protein').select_atoms('name CA and (segid A or segid E or segid I or segid M or segid C or segid G or segid K or segid O)')     # This is the annotation for 8RUC reference structure we have\n",
    "    prot_ssu_atoms = env.select_atoms('protein').select_atoms('name CA and (segid B or segid F or segid J or segid N or segid D or segid H or segid L or segid P)')\n",
    "    gas_atoms = env.select_atoms('resname ' + gas).select_atoms('name ' + atom)\n",
    "\n",
    "    ca_lsu = contacts_within_cutoff(env, gas_atoms, prot_lsu_atoms, radius=6.0)\n",
    "    ca_lsu_df = pd.DataFrame(ca_lsu, columns=['Frame', '# Contacts'])\n",
    "\n",
    "    ca_ssu = contacts_within_cutoff(env, gas_atoms, prot_ssu_atoms, radius=6.0)\n",
    "    ca_ssu_df = pd.DataFrame(ca_ssu, columns=['Frame', '# Contacts'])\n",
    "\n",
    "    avg_val_lsu = sum(ca_lsu_df['# Contacts'][249:749])/len(prot_lsu_atoms)\n",
    "    avg_val_ssu = sum(ca_ssu_df['# Contacts'][249:749])/len(prot_ssu_atoms)\n",
    "\n",
    "    return(avg_val_lsu, avg_val_ssu)"
   ]
  },
  {
   "cell_type": "code",
   "execution_count": 7,
   "id": "218aec72",
   "metadata": {
    "execution": {
     "iopub.execute_input": "2024-07-07T21:30:03.478361Z",
     "iopub.status.busy": "2024-07-07T21:30:03.477934Z",
     "iopub.status.idle": "2024-07-07T21:30:03.492256Z",
     "shell.execute_reply": "2024-07-07T21:30:03.490870Z"
    },
    "papermill": {
     "duration": 0.051484,
     "end_time": "2024-07-07T21:30:03.495080",
     "exception": false,
     "start_time": "2024-07-07T21:30:03.443596",
     "status": "completed"
    },
    "tags": []
   },
   "outputs": [],
   "source": [
    "def average_gas_per_individual_subunit(pdb_file, dcd_file, gas, atom, conc):\n",
    "    \n",
    "    env = mda.Universe(pdb_file, dcd_file, frames=\"all\")\n",
    "    gas_atoms = env.select_atoms('resname ' + gas).select_atoms('name ' + atom)\n",
    "\n",
    "    li_ca_lsu = []\n",
    "    for id in lsu_chains:\n",
    "        prot_lsu_atoms = env.select_atoms('protein').select_atoms('name CA and segid ' + id)\n",
    "        ca_lsu = contacts_within_cutoff(env, gas_atoms, prot_lsu_atoms, radius=6.0)\n",
    "        ca_lsu_df = pd.DataFrame(ca_lsu, columns=['Frame', '# Contacts'])\n",
    "        avg_val_lsu = sum(ca_lsu_df['# Contacts'][249:749])/len(prot_lsu_atoms)\n",
    "        li_ca_lsu.append(avg_val_lsu)\n",
    "        \n",
    "    li_ca_ssu = []\n",
    "    for id in ssu_chains:\n",
    "        prot_ssu_atoms = env.select_atoms('protein').select_atoms('name CA and segid ' + id)\n",
    "        ca_ssu = contacts_within_cutoff(env, gas_atoms, prot_ssu_atoms, radius=6.0)\n",
    "        ca_ssu_df = pd.DataFrame(ca_ssu, columns=['Frame', '# Contacts'])\n",
    "        try:\n",
    "            avg_val_ssu = sum(ca_ssu_df['# Contacts'][249:749])/len(prot_ssu_atoms)\n",
    "        except ZeroDivisionError:\n",
    "            avg_val_ssu = 0\n",
    "        li_ca_ssu.append(avg_val_ssu)\n",
    "\n",
    "    return(li_ca_lsu, li_ca_ssu)"
   ]
  },
  {
   "cell_type": "code",
   "execution_count": 8,
   "id": "44219af1",
   "metadata": {
    "execution": {
     "iopub.execute_input": "2024-07-07T21:30:03.555063Z",
     "iopub.status.busy": "2024-07-07T21:30:03.554638Z",
     "iopub.status.idle": "2024-07-07T22:46:21.892235Z",
     "shell.execute_reply": "2024-07-07T22:46:21.891739Z"
    },
    "papermill": {
     "duration": 4578.363554,
     "end_time": "2024-07-07T22:46:21.893357",
     "exception": false,
     "start_time": "2024-07-07T21:30:03.529803",
     "status": "completed"
    },
    "tags": []
   },
   "outputs": [
    {
     "name": "stdout",
     "output_type": "stream",
     "text": [
      "1bwv\n"
     ]
    },
    {
     "name": "stderr",
     "output_type": "stream",
     "text": [
      "/home/kaustubh/miniconda3/envs/md-analysis/lib/python3.10/site-packages/MDAnalysis/topology/PDBParser.py:328: UserWarning: Element information is missing, elements attribute will not be populated. If needed these can be guessed using MDAnalysis.topology.guessers.\n",
      "  warnings.warn(\"Element information is missing, elements attribute \"\n"
     ]
    },
    {
     "name": "stdout",
     "output_type": "stream",
     "text": [
      "1bwv\n"
     ]
    },
    {
     "name": "stderr",
     "output_type": "stream",
     "text": [
      "/home/kaustubh/miniconda3/envs/md-analysis/lib/python3.10/site-packages/MDAnalysis/topology/PDBParser.py:328: UserWarning: Element information is missing, elements attribute will not be populated. If needed these can be guessed using MDAnalysis.topology.guessers.\n",
      "  warnings.warn(\"Element information is missing, elements attribute \"\n"
     ]
    },
    {
     "name": "stdout",
     "output_type": "stream",
     "text": [
      "3zxw\n"
     ]
    },
    {
     "name": "stderr",
     "output_type": "stream",
     "text": [
      "/home/kaustubh/miniconda3/envs/md-analysis/lib/python3.10/site-packages/MDAnalysis/topology/PDBParser.py:328: UserWarning: Element information is missing, elements attribute will not be populated. If needed these can be guessed using MDAnalysis.topology.guessers.\n",
      "  warnings.warn(\"Element information is missing, elements attribute \"\n"
     ]
    },
    {
     "name": "stdout",
     "output_type": "stream",
     "text": [
      "3zxw\n"
     ]
    },
    {
     "name": "stderr",
     "output_type": "stream",
     "text": [
      "/home/kaustubh/miniconda3/envs/md-analysis/lib/python3.10/site-packages/MDAnalysis/topology/PDBParser.py:328: UserWarning: Element information is missing, elements attribute will not be populated. If needed these can be guessed using MDAnalysis.topology.guessers.\n",
      "  warnings.warn(\"Element information is missing, elements attribute \"\n"
     ]
    },
    {
     "name": "stdout",
     "output_type": "stream",
     "text": [
      "6ftl\n"
     ]
    },
    {
     "name": "stderr",
     "output_type": "stream",
     "text": [
      "/home/kaustubh/miniconda3/envs/md-analysis/lib/python3.10/site-packages/MDAnalysis/topology/PDBParser.py:328: UserWarning: Element information is missing, elements attribute will not be populated. If needed these can be guessed using MDAnalysis.topology.guessers.\n",
      "  warnings.warn(\"Element information is missing, elements attribute \"\n"
     ]
    },
    {
     "name": "stdout",
     "output_type": "stream",
     "text": [
      "6ftl\n"
     ]
    },
    {
     "name": "stderr",
     "output_type": "stream",
     "text": [
      "/home/kaustubh/miniconda3/envs/md-analysis/lib/python3.10/site-packages/MDAnalysis/topology/PDBParser.py:328: UserWarning: Element information is missing, elements attribute will not be populated. If needed these can be guessed using MDAnalysis.topology.guessers.\n",
      "  warnings.warn(\"Element information is missing, elements attribute \"\n"
     ]
    },
    {
     "name": "stdout",
     "output_type": "stream",
     "text": [
      "8ruc\n"
     ]
    },
    {
     "name": "stderr",
     "output_type": "stream",
     "text": [
      "/home/kaustubh/miniconda3/envs/md-analysis/lib/python3.10/site-packages/MDAnalysis/topology/PDBParser.py:328: UserWarning: Element information is missing, elements attribute will not be populated. If needed these can be guessed using MDAnalysis.topology.guessers.\n",
      "  warnings.warn(\"Element information is missing, elements attribute \"\n"
     ]
    },
    {
     "name": "stdout",
     "output_type": "stream",
     "text": [
      "8ruc\n"
     ]
    },
    {
     "name": "stderr",
     "output_type": "stream",
     "text": [
      "/home/kaustubh/miniconda3/envs/md-analysis/lib/python3.10/site-packages/MDAnalysis/topology/PDBParser.py:328: UserWarning: Element information is missing, elements attribute will not be populated. If needed these can be guessed using MDAnalysis.topology.guessers.\n",
      "  warnings.warn(\"Element information is missing, elements attribute \"\n"
     ]
    },
    {
     "name": "stdout",
     "output_type": "stream",
     "text": [
      "anci\n"
     ]
    },
    {
     "name": "stderr",
     "output_type": "stream",
     "text": [
      "/home/kaustubh/miniconda3/envs/md-analysis/lib/python3.10/site-packages/MDAnalysis/topology/PDBParser.py:328: UserWarning: Element information is missing, elements attribute will not be populated. If needed these can be guessed using MDAnalysis.topology.guessers.\n",
      "  warnings.warn(\"Element information is missing, elements attribute \"\n"
     ]
    },
    {
     "name": "stdout",
     "output_type": "stream",
     "text": [
      "anci\n"
     ]
    },
    {
     "name": "stderr",
     "output_type": "stream",
     "text": [
      "/home/kaustubh/miniconda3/envs/md-analysis/lib/python3.10/site-packages/MDAnalysis/topology/PDBParser.py:328: UserWarning: Element information is missing, elements attribute will not be populated. If needed these can be guessed using MDAnalysis.topology.guessers.\n",
      "  warnings.warn(\"Element information is missing, elements attribute \"\n"
     ]
    },
    {
     "name": "stdout",
     "output_type": "stream",
     "text": [
      "ancia\n"
     ]
    },
    {
     "name": "stderr",
     "output_type": "stream",
     "text": [
      "/home/kaustubh/miniconda3/envs/md-analysis/lib/python3.10/site-packages/MDAnalysis/topology/PDBParser.py:328: UserWarning: Element information is missing, elements attribute will not be populated. If needed these can be guessed using MDAnalysis.topology.guessers.\n",
      "  warnings.warn(\"Element information is missing, elements attribute \"\n"
     ]
    },
    {
     "name": "stdout",
     "output_type": "stream",
     "text": [
      "ancia\n"
     ]
    },
    {
     "name": "stderr",
     "output_type": "stream",
     "text": [
      "/home/kaustubh/miniconda3/envs/md-analysis/lib/python3.10/site-packages/MDAnalysis/topology/PDBParser.py:328: UserWarning: Element information is missing, elements attribute will not be populated. If needed these can be guessed using MDAnalysis.topology.guessers.\n",
      "  warnings.warn(\"Element information is missing, elements attribute \"\n"
     ]
    },
    {
     "name": "stdout",
     "output_type": "stream",
     "text": [
      "ancib\n"
     ]
    },
    {
     "name": "stderr",
     "output_type": "stream",
     "text": [
      "/home/kaustubh/miniconda3/envs/md-analysis/lib/python3.10/site-packages/MDAnalysis/topology/PDBParser.py:328: UserWarning: Element information is missing, elements attribute will not be populated. If needed these can be guessed using MDAnalysis.topology.guessers.\n",
      "  warnings.warn(\"Element information is missing, elements attribute \"\n"
     ]
    },
    {
     "name": "stdout",
     "output_type": "stream",
     "text": [
      "ancib\n"
     ]
    },
    {
     "name": "stderr",
     "output_type": "stream",
     "text": [
      "/home/kaustubh/miniconda3/envs/md-analysis/lib/python3.10/site-packages/MDAnalysis/topology/PDBParser.py:328: UserWarning: Element information is missing, elements attribute will not be populated. If needed these can be guessed using MDAnalysis.topology.guessers.\n",
      "  warnings.warn(\"Element information is missing, elements attribute \"\n"
     ]
    },
    {
     "name": "stdout",
     "output_type": "stream",
     "text": [
      "ancicd\n"
     ]
    },
    {
     "name": "stderr",
     "output_type": "stream",
     "text": [
      "/home/kaustubh/miniconda3/envs/md-analysis/lib/python3.10/site-packages/MDAnalysis/topology/PDBParser.py:328: UserWarning: Element information is missing, elements attribute will not be populated. If needed these can be guessed using MDAnalysis.topology.guessers.\n",
      "  warnings.warn(\"Element information is missing, elements attribute \"\n"
     ]
    },
    {
     "name": "stdout",
     "output_type": "stream",
     "text": [
      "ancicd\n"
     ]
    },
    {
     "name": "stderr",
     "output_type": "stream",
     "text": [
      "/home/kaustubh/miniconda3/envs/md-analysis/lib/python3.10/site-packages/MDAnalysis/topology/PDBParser.py:328: UserWarning: Element information is missing, elements attribute will not be populated. If needed these can be guessed using MDAnalysis.topology.guessers.\n",
      "  warnings.warn(\"Element information is missing, elements attribute \"\n"
     ]
    },
    {
     "name": "stdout",
     "output_type": "stream",
     "text": [
      "anciab\n"
     ]
    },
    {
     "name": "stderr",
     "output_type": "stream",
     "text": [
      "/home/kaustubh/miniconda3/envs/md-analysis/lib/python3.10/site-packages/MDAnalysis/topology/PDBParser.py:328: UserWarning: Element information is missing, elements attribute will not be populated. If needed these can be guessed using MDAnalysis.topology.guessers.\n",
      "  warnings.warn(\"Element information is missing, elements attribute \"\n"
     ]
    },
    {
     "name": "stdout",
     "output_type": "stream",
     "text": [
      "anciab\n"
     ]
    },
    {
     "name": "stderr",
     "output_type": "stream",
     "text": [
      "/home/kaustubh/miniconda3/envs/md-analysis/lib/python3.10/site-packages/MDAnalysis/topology/PDBParser.py:328: UserWarning: Element information is missing, elements attribute will not be populated. If needed these can be guessed using MDAnalysis.topology.guessers.\n",
      "  warnings.warn(\"Element information is missing, elements attribute \"\n"
     ]
    }
   ],
   "source": [
    "avergage_gas_per_indvidual_subunit_contacts = []\n",
    "path = '../../../simulations/'\n",
    "\n",
    "def central_atom(gas):\n",
    "    if gas == 'CO2':\n",
    "        return 'C1'\n",
    "    elif gas == 'MO2':\n",
    "        return 'O1'\n",
    "\n",
    "for entry in md_reference_data:\n",
    "    print(entry['code'])\n",
    "\n",
    "    contacts_lsu, contacts_ssu = average_gas_per_individual_subunit(\n",
    "        path + entry['dry_pdb'], \n",
    "        path + entry['dry_dcd'], \n",
    "        entry['gas'], \n",
    "        central_atom(entry['gas']), \n",
    "        entry['concentration']\n",
    "    )\n",
    "    for x in contacts_lsu:\n",
    "    \n",
    "        avergage_gas_per_indvidual_subunit_contacts.append(\n",
    "            dict(\n",
    "                code=entry['code'], gas=entry['gas'],\n",
    "                concentration=entry['concentration'],\n",
    "                contacts=x, subunit='lsu'\n",
    "            )\n",
    "        )\n",
    "    \n",
    "    for x in contacts_ssu:\n",
    "    \n",
    "        avergage_gas_per_indvidual_subunit_contacts.append(\n",
    "            dict(\n",
    "                code=entry['code'], gas=entry['gas'],\n",
    "                concentration=entry['concentration'],\n",
    "                contacts=x, subunit='ssu'\n",
    "            )\n",
    "        )\n",
    "\n",
    "avergage_gas_per_indvidual_subunit_contacts = pd.DataFrame.from_records(\n",
    "    avergage_gas_per_indvidual_subunit_contacts\n",
    ")"
   ]
  },
  {
   "cell_type": "code",
   "execution_count": 9,
   "id": "340fcd17",
   "metadata": {
    "execution": {
     "iopub.execute_input": "2024-07-07T22:46:21.954481Z",
     "iopub.status.busy": "2024-07-07T22:46:21.954103Z",
     "iopub.status.idle": "2024-07-07T22:46:22.609522Z",
     "shell.execute_reply": "2024-07-07T22:46:22.609116Z"
    },
    "papermill": {
     "duration": 0.684711,
     "end_time": "2024-07-07T22:46:22.610311",
     "exception": false,
     "start_time": "2024-07-07T22:46:21.925600",
     "status": "completed"
    },
    "tags": []
   },
   "outputs": [
    {
     "data": {
      "text/plain": [
       "(0.0, 250.0)"
      ]
     },
     "execution_count": 9,
     "metadata": {},
     "output_type": "execute_result"
    },
    {
     "name": "stderr",
     "output_type": "stream",
     "text": [
      "findfont: Font family ['Arial'] not found. Falling back to DejaVu Sans.\n"
     ]
    },
    {
     "data": {
      "image/png": "[encoded data removed]",
      "text/plain": [
       "<Figure size 1081.75x500 with 2 Axes>"
      ]
     },
     "metadata": {},
     "output_type": "display_data"
    }
   ],
   "source": [
    "col_set = {\"CO2\" : \"#ff5a5f\",  \"MO2\" : \"#86bbd8\"}\n",
    "g = sns.catplot(\n",
    "    data=avergage_gas_per_indvidual_subunit_contacts, \n",
    "    x='code', y='contacts', hue='gas', col='subunit',\n",
    "    palette=col_set, kind='bar'\n",
    ")\n",
    "g.set_ylabels('Gas contact per residue', fontname='Arial')\n",
    "g.axes[0, 0].set_ylim(0,250)\n",
    "g.axes[0, 1].set_ylim(0,250)"
   ]
  },
  {
   "cell_type": "code",
   "execution_count": 10,
   "id": "c2c0c6e2",
   "metadata": {
    "execution": {
     "iopub.execute_input": "2024-07-07T22:46:22.644364Z",
     "iopub.status.busy": "2024-07-07T22:46:22.644004Z",
     "iopub.status.idle": "2024-07-07T22:46:22.663704Z",
     "shell.execute_reply": "2024-07-07T22:46:22.662638Z"
    },
    "papermill": {
     "duration": 0.039979,
     "end_time": "2024-07-07T22:46:22.666733",
     "exception": false,
     "start_time": "2024-07-07T22:46:22.626754",
     "status": "completed"
    },
    "tags": []
   },
   "outputs": [],
   "source": [
    "avergage_gas_per_indvidual_subunit_contacts.to_csv(\n",
    "    product['contacts_per_subunit'], index=None\n",
    ")"
   ]
  },
  {
   "attachments": {},
   "cell_type": "markdown",
   "id": "c741151c",
   "metadata": {
    "papermill": {
     "duration": 0.021291,
     "end_time": "2024-07-07T22:46:22.713889",
     "exception": false,
     "start_time": "2024-07-07T22:46:22.692598",
     "status": "completed"
    },
    "tags": []
   },
   "source": [
    "# Calclulating Statiscs for comparing the gas contacts\n",
    "## Student t-test"
   ]
  },
  {
   "cell_type": "code",
   "execution_count": 11,
   "id": "8f58d7de",
   "metadata": {
    "execution": {
     "iopub.execute_input": "2024-07-07T22:46:22.757493Z",
     "iopub.status.busy": "2024-07-07T22:46:22.756978Z",
     "iopub.status.idle": "2024-07-07T22:46:22.764232Z",
     "shell.execute_reply": "2024-07-07T22:46:22.762682Z"
    },
    "papermill": {
     "duration": 0.032029,
     "end_time": "2024-07-07T22:46:22.767175",
     "exception": false,
     "start_time": "2024-07-07T22:46:22.735146",
     "status": "completed"
    },
    "tags": []
   },
   "outputs": [],
   "source": [
    "from scipy.stats import ttest_ind"
   ]
  },
  {
   "cell_type": "code",
   "execution_count": 12,
   "id": "9a034f45",
   "metadata": {
    "execution": {
     "iopub.execute_input": "2024-07-07T22:46:22.850741Z",
     "iopub.status.busy": "2024-07-07T22:46:22.850351Z",
     "iopub.status.idle": "2024-07-07T22:46:22.888556Z",
     "shell.execute_reply": "2024-07-07T22:46:22.888186Z"
    },
    "papermill": {
     "duration": 0.081342,
     "end_time": "2024-07-07T22:46:22.889354",
     "exception": false,
     "start_time": "2024-07-07T22:46:22.808012",
     "status": "completed"
    },
    "tags": []
   },
   "outputs": [
    {
     "data": {
      "text/html": [
       "<div>\n",
       "<style scoped>\n",
       "    .dataframe tbody tr th:only-of-type {\n",
       "        vertical-align: middle;\n",
       "    }\n",
       "\n",
       "    .dataframe tbody tr th {\n",
       "        vertical-align: top;\n",
       "    }\n",
       "\n",
       "    .dataframe thead th {\n",
       "        text-align: right;\n",
       "    }\n",
       "</style>\n",
       "<table border=\"1\" class=\"dataframe\">\n",
       "  <thead>\n",
       "    <tr style=\"text-align: right;\">\n",
       "      <th>gas</th>\n",
       "      <th>code</th>\n",
       "      <th>subunit</th>\n",
       "      <th>t_test_pvalue</th>\n",
       "      <th>t_test_statistic</th>\n",
       "      <th>CO2_mean</th>\n",
       "      <th>MO2_mean</th>\n",
       "      <th>CO2_std</th>\n",
       "      <th>MO2_std</th>\n",
       "    </tr>\n",
       "  </thead>\n",
       "  <tbody>\n",
       "    <tr>\n",
       "      <th>0</th>\n",
       "      <td>1bwv</td>\n",
       "      <td>lsu</td>\n",
       "      <td>3.743741e-05</td>\n",
       "      <td>5.918860</td>\n",
       "      <td>151.195860</td>\n",
       "      <td>80.341561</td>\n",
       "      <td>29.638804</td>\n",
       "      <td>11.165331</td>\n",
       "    </tr>\n",
       "    <tr>\n",
       "      <th>1</th>\n",
       "      <td>1bwv</td>\n",
       "      <td>ssu</td>\n",
       "      <td>4.911744e-07</td>\n",
       "      <td>8.726068</td>\n",
       "      <td>224.338768</td>\n",
       "      <td>107.461957</td>\n",
       "      <td>26.707048</td>\n",
       "      <td>23.292168</td>\n",
       "    </tr>\n",
       "    <tr>\n",
       "      <th>2</th>\n",
       "      <td>3zxw</td>\n",
       "      <td>lsu</td>\n",
       "      <td>7.057424e-01</td>\n",
       "      <td>0.385388</td>\n",
       "      <td>92.095302</td>\n",
       "      <td>90.169546</td>\n",
       "      <td>10.176548</td>\n",
       "      <td>8.439385</td>\n",
       "    </tr>\n",
       "    <tr>\n",
       "      <th>3</th>\n",
       "      <td>3zxw</td>\n",
       "      <td>ssu</td>\n",
       "      <td>4.354644e-02</td>\n",
       "      <td>2.218684</td>\n",
       "      <td>161.247312</td>\n",
       "      <td>121.448925</td>\n",
       "      <td>35.651384</td>\n",
       "      <td>31.326362</td>\n",
       "    </tr>\n",
       "    <tr>\n",
       "      <th>4</th>\n",
       "      <td>6ftl</td>\n",
       "      <td>lsu</td>\n",
       "      <td>2.252889e-01</td>\n",
       "      <td>1.268552</td>\n",
       "      <td>113.438990</td>\n",
       "      <td>88.359895</td>\n",
       "      <td>43.265987</td>\n",
       "      <td>29.393619</td>\n",
       "    </tr>\n",
       "    <tr>\n",
       "      <th>5</th>\n",
       "      <td>6ftl</td>\n",
       "      <td>ssu</td>\n",
       "      <td>9.456860e-01</td>\n",
       "      <td>-0.069357</td>\n",
       "      <td>94.805955</td>\n",
       "      <td>95.856404</td>\n",
       "      <td>22.333092</td>\n",
       "      <td>33.270436</td>\n",
       "    </tr>\n",
       "    <tr>\n",
       "      <th>6</th>\n",
       "      <td>8ruc</td>\n",
       "      <td>lsu</td>\n",
       "      <td>1.921438e-01</td>\n",
       "      <td>1.370376</td>\n",
       "      <td>107.193222</td>\n",
       "      <td>87.545939</td>\n",
       "      <td>31.058771</td>\n",
       "      <td>21.776803</td>\n",
       "    </tr>\n",
       "    <tr>\n",
       "      <th>7</th>\n",
       "      <td>8ruc</td>\n",
       "      <td>ssu</td>\n",
       "      <td>5.372848e-01</td>\n",
       "      <td>0.632452</td>\n",
       "      <td>111.565130</td>\n",
       "      <td>101.808040</td>\n",
       "      <td>35.006969</td>\n",
       "      <td>20.989200</td>\n",
       "    </tr>\n",
       "    <tr>\n",
       "      <th>8</th>\n",
       "      <td>anci</td>\n",
       "      <td>lsu</td>\n",
       "      <td>9.137338e-01</td>\n",
       "      <td>0.110304</td>\n",
       "      <td>93.750801</td>\n",
       "      <td>92.862714</td>\n",
       "      <td>16.104403</td>\n",
       "      <td>13.943023</td>\n",
       "    </tr>\n",
       "    <tr>\n",
       "      <th>9</th>\n",
       "      <td>anci</td>\n",
       "      <td>ssu</td>\n",
       "      <td>2.538669e-02</td>\n",
       "      <td>2.501628</td>\n",
       "      <td>136.598039</td>\n",
       "      <td>109.665441</td>\n",
       "      <td>18.353668</td>\n",
       "      <td>21.782893</td>\n",
       "    </tr>\n",
       "    <tr>\n",
       "      <th>10</th>\n",
       "      <td>ancia</td>\n",
       "      <td>lsu</td>\n",
       "      <td>6.442361e-02</td>\n",
       "      <td>2.007307</td>\n",
       "      <td>94.824893</td>\n",
       "      <td>75.593017</td>\n",
       "      <td>19.247335</td>\n",
       "      <td>16.495466</td>\n",
       "    </tr>\n",
       "    <tr>\n",
       "      <th>11</th>\n",
       "      <td>ancia</td>\n",
       "      <td>ssu</td>\n",
       "      <td>4.736344e-03</td>\n",
       "      <td>3.352923</td>\n",
       "      <td>151.660560</td>\n",
       "      <td>101.903017</td>\n",
       "      <td>32.794653</td>\n",
       "      <td>21.589362</td>\n",
       "    </tr>\n",
       "    <tr>\n",
       "      <th>12</th>\n",
       "      <td>anciab</td>\n",
       "      <td>lsu</td>\n",
       "      <td>8.125261e-01</td>\n",
       "      <td>0.241688</td>\n",
       "      <td>96.081370</td>\n",
       "      <td>94.057548</td>\n",
       "      <td>14.982387</td>\n",
       "      <td>16.320532</td>\n",
       "    </tr>\n",
       "    <tr>\n",
       "      <th>13</th>\n",
       "      <td>anciab</td>\n",
       "      <td>ssu</td>\n",
       "      <td>7.252118e-04</td>\n",
       "      <td>4.305906</td>\n",
       "      <td>142.660880</td>\n",
       "      <td>98.234954</td>\n",
       "      <td>21.172347</td>\n",
       "      <td>17.230172</td>\n",
       "    </tr>\n",
       "    <tr>\n",
       "      <th>14</th>\n",
       "      <td>ancib</td>\n",
       "      <td>lsu</td>\n",
       "      <td>8.079016e-01</td>\n",
       "      <td>0.247780</td>\n",
       "      <td>87.272581</td>\n",
       "      <td>86.224194</td>\n",
       "      <td>9.105067</td>\n",
       "      <td>6.512615</td>\n",
       "    </tr>\n",
       "    <tr>\n",
       "      <th>15</th>\n",
       "      <td>ancib</td>\n",
       "      <td>ssu</td>\n",
       "      <td>4.835733e-01</td>\n",
       "      <td>0.719665</td>\n",
       "      <td>115.031250</td>\n",
       "      <td>108.722222</td>\n",
       "      <td>13.942463</td>\n",
       "      <td>18.536003</td>\n",
       "    </tr>\n",
       "    <tr>\n",
       "      <th>16</th>\n",
       "      <td>ancicd</td>\n",
       "      <td>lsu</td>\n",
       "      <td>6.133833e-01</td>\n",
       "      <td>-0.516770</td>\n",
       "      <td>73.713002</td>\n",
       "      <td>76.883192</td>\n",
       "      <td>13.328356</td>\n",
       "      <td>9.262319</td>\n",
       "    </tr>\n",
       "    <tr>\n",
       "      <th>17</th>\n",
       "      <td>ancicd</td>\n",
       "      <td>ssu</td>\n",
       "      <td>6.962165e-01</td>\n",
       "      <td>0.398578</td>\n",
       "      <td>135.556481</td>\n",
       "      <td>130.163889</td>\n",
       "      <td>30.895309</td>\n",
       "      <td>18.078275</td>\n",
       "    </tr>\n",
       "  </tbody>\n",
       "</table>\n",
       "</div>"
      ],
      "text/plain": [
       "gas    code subunit  t_test_pvalue  t_test_statistic    CO2_mean    MO2_mean  \\\n",
       "0      1bwv     lsu   3.743741e-05          5.918860  151.195860   80.341561   \n",
       "1      1bwv     ssu   4.911744e-07          8.726068  224.338768  107.461957   \n",
       "2      3zxw     lsu   7.057424e-01          0.385388   92.095302   90.169546   \n",
       "3      3zxw     ssu   4.354644e-02          2.218684  161.247312  121.448925   \n",
       "4      6ftl     lsu   2.252889e-01          1.268552  113.438990   88.359895   \n",
       "5      6ftl     ssu   9.456860e-01         -0.069357   94.805955   95.856404   \n",
       "6      8ruc     lsu   1.921438e-01          1.370376  107.193222   87.545939   \n",
       "7      8ruc     ssu   5.372848e-01          0.632452  111.565130  101.808040   \n",
       "8      anci     lsu   9.137338e-01          0.110304   93.750801   92.862714   \n",
       "9      anci     ssu   2.538669e-02          2.501628  136.598039  109.665441   \n",
       "10    ancia     lsu   6.442361e-02          2.007307   94.824893   75.593017   \n",
       "11    ancia     ssu   4.736344e-03          3.352923  151.660560  101.903017   \n",
       "12   anciab     lsu   8.125261e-01          0.241688   96.081370   94.057548   \n",
       "13   anciab     ssu   7.252118e-04          4.305906  142.660880   98.234954   \n",
       "14    ancib     lsu   8.079016e-01          0.247780   87.272581   86.224194   \n",
       "15    ancib     ssu   4.835733e-01          0.719665  115.031250  108.722222   \n",
       "16   ancicd     lsu   6.133833e-01         -0.516770   73.713002   76.883192   \n",
       "17   ancicd     ssu   6.962165e-01          0.398578  135.556481  130.163889   \n",
       "\n",
       "gas    CO2_std    MO2_std  \n",
       "0    29.638804  11.165331  \n",
       "1    26.707048  23.292168  \n",
       "2    10.176548   8.439385  \n",
       "3    35.651384  31.326362  \n",
       "4    43.265987  29.393619  \n",
       "5    22.333092  33.270436  \n",
       "6    31.058771  21.776803  \n",
       "7    35.006969  20.989200  \n",
       "8    16.104403  13.943023  \n",
       "9    18.353668  21.782893  \n",
       "10   19.247335  16.495466  \n",
       "11   32.794653  21.589362  \n",
       "12   14.982387  16.320532  \n",
       "13   21.172347  17.230172  \n",
       "14    9.105067   6.512615  \n",
       "15   13.942463  18.536003  \n",
       "16   13.328356   9.262319  \n",
       "17   30.895309  18.078275  "
      ]
     },
     "execution_count": 12,
     "metadata": {},
     "output_type": "execute_result"
    }
   ],
   "source": [
    "u = avergage_gas_per_indvidual_subunit_contacts.groupby(['code', 'subunit', 'gas']).apply(lambda x: list(x['contacts'])).reset_index().rename(columns={0:'contacts'}).pivot(\n",
    "    index=['code', 'subunit'], columns='gas', values='contacts'\n",
    ")\n",
    "# t_stat = ttest_ind(cc[cc.code.isin([var])]['value']\n",
    "u['t_test_pvalue'] = u.apply(\n",
    "    lambda x: ttest_ind(x['CO2'], x['MO2']).pvalue, axis=1\n",
    ")\n",
    "u\n",
    "u['t_test_statistic'] = u.apply(\n",
    "    lambda x: ttest_ind(x['CO2'], x['MO2']).statistic, axis=1\n",
    ")\n",
    "\n",
    "u['CO2_mean'] = u['CO2'].apply(np.mean)\n",
    "u['MO2_mean'] = u['MO2'].apply(np.mean)\n",
    "u['CO2_std'] = u['CO2'].apply(np.std)\n",
    "u['MO2_std'] = u['MO2'].apply(np.std)\n",
    "\n",
    "u.reset_index()[['code', 'subunit', 't_test_pvalue', 't_test_statistic', 'CO2_mean', 'MO2_mean', 'CO2_std', 'MO2_std']]"
   ]
  }
 ],
 "metadata": {
  "interpreter": {
   "hash": "31308ec8134b1b7699017ca6d9032a2147384e07e46424fffb4eaac307ef9720"
  },
  "kernelspec": {
   "display_name": "Python 3 (ipykernel)",
   "language": "python",
   "name": "python3"
  },
  "language_info": {
   "codemirror_mode": {
    "name": "ipython",
    "version": 3
   },
   "file_extension": ".py",
   "mimetype": "text/x-python",
   "name": "python",
   "nbconvert_exporter": "python",
   "pygments_lexer": "ipython3",
   "version": "3.10.6"
  },
  "papermill": {
   "duration": 4581.71017,
   "end_time": "2024-07-07T22:46:23.253947",
   "exception": null,
   "input_path": "/tmp/tmp2p0w31l1.ipynb",
   "output_path": "/mnt/researchdrive/bCuevas/r23/github_repo/RuBisCO_evolution/analysis/output/out-05-R23-gas-contacts.ipynb",
   "parameters": {
    "code_palette": {
     "1bwv": "#75eda7",
     "3zxw": "#976cd2",
     "6ftl": "#5e93f5",
     "6ura": "#91da48",
     "8ruc": "#976cd2",
     "anci": "gray",
     "ancia": "gray",
     "anciab": "gray",
     "ancib": "gray",
     "ancicd": "gray",
     "anciip": "gray",
     "ancip": "gray"
    },
    "md_reference_data": [
     {
      "code": "1bwv",
      "concentration": "400mM",
      "dry_dcd": "1bwv.exp02.md01.dry.dcd",
      "dry_pdb": "1bwv.exp02.md01.dry.pdb",
      "gas": "CO2",
      "time": "extant"
     },
     {
      "code": "1bwv",
      "concentration": "400mM",
      "dry_dcd": "1bwv.exp04.md01.dry.dcd",
      "dry_pdb": "1bwv.exp04.md01.dry.pdb",
      "gas": "MO2",
      "time": "extant"
     },
     {
      "code": "3zxw",
      "concentration": "400mM",
      "dry_dcd": "3zxw.exp02.md01.dry.dcd",
      "dry_pdb": "3zxw.exp02.md01.dry.pdb",
      "gas": "CO2",
      "time": "extant"
     },
     {
      "code": "3zxw",
      "concentration": "400mM",
      "dry_dcd": "3zxw.exp04.md01.dry.dcd",
      "dry_pdb": "3zxw.exp04.md01.dry.pdb",
      "gas": "MO2",
      "time": "extant"
     },
     {
      "code": "6ftl",
      "concentration": "400mM",
      "dry_dcd": "6ftl.exp02.md01.dry.dcd",
      "dry_pdb": "6ftl.exp02.md01.dry.pdb",
      "gas": "CO2",
      "time": "extant"
     },
     {
      "code": "6ftl",
      "concentration": "400mM",
      "dry_dcd": "6ftl.exp04.md01.dry.dcd",
      "dry_pdb": "6ftl.exp04.md01.dry.pdb",
      "gas": "MO2",
      "time": "extant"
     },
     {
      "code": "8ruc",
      "concentration": "400mM",
      "dry_dcd": "8ruc.exp02.md01.dry.dcd",
      "dry_pdb": "8ruc.exp02.md01.dry.pdb",
      "gas": "CO2",
      "time": "extant"
     },
     {
      "code": "8ruc",
      "concentration": "400mM",
      "dry_dcd": "8ruc.exp04.md01.dry.dcd",
      "dry_pdb": "8ruc.exp04.md01.dry.pdb",
      "gas": "MO2",
      "time": "extant"
     },
     {
      "code": "anci",
      "concentration": "400mM",
      "dry_dcd": "anci.exp02.md01.dry.dcd",
      "dry_pdb": "anci.exp02.md01.dry.pdb",
      "gas": "CO2",
      "time": "ancient"
     },
     {
      "code": "anci",
      "concentration": "400mM",
      "dry_dcd": "anci.exp04.md01.dry.dcd",
      "dry_pdb": "anci.exp04.md01.dry.pdb",
      "gas": "MO2",
      "time": "ancient"
     },
     {
      "code": "ancia",
      "concentration": "400mM",
      "dry_dcd": "ancia.exp02.md01.dry.dcd",
      "dry_pdb": "ancia.exp02.md01.dry.pdb",
      "gas": "CO2",
      "time": "ancient"
     },
     {
      "code": "ancia",
      "concentration": "400mM",
      "dry_dcd": "ancia.exp04.md01.dry.dcd",
      "dry_pdb": "ancia.exp04.md01.dry.pdb",
      "gas": "MO2",
      "time": "ancient"
     },
     {
      "code": "ancib",
      "concentration": "400mM",
      "dry_dcd": "ancib.exp02.md01.dry.dcd",
      "dry_pdb": "ancib.exp02.md01.dry.pdb",
      "gas": "CO2",
      "time": "ancient"
     },
     {
      "code": "ancib",
      "concentration": "400mM",
      "dry_dcd": "ancib.exp04.md01.dry.dcd",
      "dry_pdb": "ancib.exp04.md01.dry.pdb",
      "gas": "MO2",
      "time": "ancient"
     },
     {
      "code": "ancicd",
      "concentration": "400mM",
      "dry_dcd": "ancicd.exp02.md01.dry.dcd",
      "dry_pdb": "ancicd.exp02.md01.dry.pdb",
      "gas": "CO2",
      "time": "ancient"
     },
     {
      "code": "ancicd",
      "concentration": "400mM",
      "dry_dcd": "ancicd.exp04.md01.dry.dcd",
      "dry_pdb": "ancicd.exp04.md01.dry.pdb",
      "gas": "MO2",
      "time": "ancient"
     },
     {
      "code": "anciab",
      "concentration": "400mM",
      "dry_dcd": "anciab.exp02.md01.dry.dcd",
      "dry_pdb": "anciab.exp02.md01.dry.pdb",
      "gas": "CO2",
      "time": "ancient"
     },
     {
      "code": "anciab",
      "concentration": "400mM",
      "dry_dcd": "anciab.exp04.md01.dry.dcd",
      "dry_pdb": "anciab.exp04.md01.dry.pdb",
      "gas": "MO2",
      "time": "ancient"
     }
    ],
    "product": {
     "contacts_per_subunit": "/mnt/researchdrive/bCuevas/r23/github_repo/RuBisCO_evolution/analysis/output/contacts.csv",
     "nb": "/mnt/researchdrive/bCuevas/r23/github_repo/RuBisCO_evolution/analysis/output/out-05-R23-gas-contacts.ipynb"
    }
   },
   "start_time": "2024-07-07T21:30:01.543777"
  }
 },
 "nbformat": 4,
 "nbformat_minor": 5
}