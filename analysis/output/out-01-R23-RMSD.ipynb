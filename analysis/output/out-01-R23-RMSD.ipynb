{
 "cells": [
  {
   "cell_type": "code",
   "execution_count": 1,
   "id": "5253438f",
   "metadata": {
    "execution": {
     "iopub.execute_input": "2024-07-07T18:39:13.494819Z",
     "iopub.status.busy": "2024-07-07T18:39:13.494305Z",
     "iopub.status.idle": "2024-07-07T18:39:13.503033Z",
     "shell.execute_reply": "2024-07-07T18:39:13.501551Z"
    },
    "papermill": {
     "duration": 0.060276,
     "end_time": "2024-07-07T18:39:13.506553",
     "exception": false,
     "start_time": "2024-07-07T18:39:13.446277",
     "status": "completed"
    },
    "tags": [
     "parameters"
    ]
   },
   "outputs": [],
   "source": [
    "md_reference_data = None\n",
    "upstream = None\n",
    "product = None"
   ]
  },
  {
   "cell_type": "code",
   "execution_count": 2,
   "id": "3a07d999",
   "metadata": {
    "execution": {
     "iopub.execute_input": "2024-07-07T18:39:13.562675Z",
     "iopub.status.busy": "2024-07-07T18:39:13.562265Z",
     "iopub.status.idle": "2024-07-07T18:39:13.577127Z",
     "shell.execute_reply": "2024-07-07T18:39:13.575645Z"
    },
    "papermill": {
     "duration": 0.041458,
     "end_time": "2024-07-07T18:39:13.580032",
     "exception": false,
     "start_time": "2024-07-07T18:39:13.538574",
     "status": "completed"
    },
    "tags": [
     "injected-parameters"
    ]
   },
   "outputs": [],
   "source": [
    "# Parameters\n",
    "md_reference_data = {\n",
    "    \"1bwv\": {\n",
    "        \"dry_dcd\": \"1bwv.exp01.md01.dry.dcd\",\n",
    "        \"dry_pdb\": \"1bwv.exp01.md01.dry.pdb\",\n",
    "        \"time\": \"extant\",\n",
    "    },\n",
    "    \"3zxw\": {\n",
    "        \"dry_dcd\": \"3zxw.exp01.md01.dry.dcd\",\n",
    "        \"dry_pdb\": \"3zxw.exp01.md01.dry.pdb\",\n",
    "        \"time\": \"extant\",\n",
    "    },\n",
    "    \"6ftl\": {\n",
    "        \"dry_dcd\": \"6ftl.exp01.md01.dry.dcd\",\n",
    "        \"dry_pdb\": \"6ftl.exp01.md01.dry.pdb\",\n",
    "        \"time\": \"extant\",\n",
    "    },\n",
    "    \"6ura\": {\n",
    "        \"dry_dcd\": \"6ura.exp01.md01.dry.dcd\",\n",
    "        \"dry_pdb\": \"6ura.exp01.md01.dry.pdb\",\n",
    "        \"time\": \"extant\",\n",
    "    },\n",
    "    \"8ruc\": {\n",
    "        \"dry_dcd\": \"8ruc.exp01.md01.dry.dcd\",\n",
    "        \"dry_pdb\": \"8ruc.exp01.md01.dry.pdb\",\n",
    "        \"time\": \"extant\",\n",
    "    },\n",
    "    \"anci\": {\n",
    "        \"dry_dcd\": \"anci.exp01.md01.dry.dcd\",\n",
    "        \"dry_pdb\": \"anci.exp01.md01.dry.pdb\",\n",
    "        \"time\": \"ancient\",\n",
    "    },\n",
    "    \"anciab\": {\n",
    "        \"dry_dcd\": \"anciab.exp01.md01.dry.dcd\",\n",
    "        \"dry_pdb\": \"anciab.exp01.md01.dry.pdb\",\n",
    "        \"time\": \"ancient\",\n",
    "    },\n",
    "    \"ancicd\": {\n",
    "        \"dry_dcd\": \"ancicd.exp01.md01.dry.dcd\",\n",
    "        \"dry_pdb\": \"ancicd.exp01.md01.dry.pdb\",\n",
    "        \"time\": \"ancient\",\n",
    "    },\n",
    "    \"ancia\": {\n",
    "        \"dry_dcd\": \"ancia.exp01.md01.dry.dcd\",\n",
    "        \"dry_pdb\": \"ancia.exp01.md01.dry.pdb\",\n",
    "        \"time\": \"ancient\",\n",
    "    },\n",
    "    \"ancib\": {\n",
    "        \"dry_dcd\": \"ancib.exp01.md01.dry.dcd\",\n",
    "        \"dry_pdb\": \"ancib.exp01.md01.dry.pdb\",\n",
    "        \"time\": \"ancient\",\n",
    "    },\n",
    "    \"anciip\": {\n",
    "        \"dry_dcd\": \"anciip.exp01.md01.dry.dcd\",\n",
    "        \"dry_pdb\": \"anciip.exp01.md01.dry.pdb\",\n",
    "        \"time\": \"ancient\",\n",
    "    },\n",
    "    \"ancip\": {\n",
    "        \"dry_dcd\": \"ancip.exp01.md01.dry.dcd\",\n",
    "        \"dry_pdb\": \"ancip.exp01.md01.dry.realigned.pdb\",\n",
    "        \"time\": \"ancient\",\n",
    "    },\n",
    "}\n",
    "product = {\n",
    "    \"nb\": \"/mnt/researchdrive/bCuevas/r23/github_repo/RuBisCO_evolution/analysis/output/out-01-R23-RMSD.ipynb\",\n",
    "    \"rmsd\": \"/mnt/researchdrive/bCuevas/r23/github_repo/RuBisCO_evolution/analysis/output/exp01-rmsd.csv\",\n",
    "    \"avg_rmsd\": \"/mnt/researchdrive/bCuevas/r23/github_repo/RuBisCO_evolution/analysis/output/exp01-avg-rmsd.csv\",\n",
    "}\n"
   ]
  },
  {
   "attachments": {},
   "cell_type": "markdown",
   "id": "66bf099e",
   "metadata": {
    "papermill": {
     "duration": 0.028199,
     "end_time": "2024-07-07T18:39:13.635896",
     "exception": false,
     "start_time": "2024-07-07T18:39:13.607697",
     "status": "completed"
    },
    "tags": []
   },
   "source": [
    "# R23 - MD alignment and RMSD extraction \n",
    "\n",
    "## Contents\n",
    "\n",
    "1. Alignment\n",
    "2. RMSD\n",
    "3. RMSD against average structure\n",
    "4. RMSD over subunit\n",
    "5. RMSF"
   ]
  },
  {
   "cell_type": "markdown",
   "id": "76351736",
   "metadata": {
    "papermill": {
     "duration": 0.018226,
     "end_time": "2024-07-07T18:39:13.680761",
     "exception": false,
     "start_time": "2024-07-07T18:39:13.662535",
     "status": "completed"
    },
    "tags": []
   },
   "source": [
    "## Alignment and preparation"
   ]
  },
  {
   "cell_type": "code",
   "execution_count": 3,
   "id": "3b2a69de",
   "metadata": {
    "execution": {
     "iopub.execute_input": "2024-07-07T18:39:13.734869Z",
     "iopub.status.busy": "2024-07-07T18:39:13.734465Z",
     "iopub.status.idle": "2024-07-07T18:39:14.188343Z",
     "shell.execute_reply": "2024-07-07T18:39:14.187856Z"
    },
    "papermill": {
     "duration": 0.485775,
     "end_time": "2024-07-07T18:39:14.189476",
     "exception": false,
     "start_time": "2024-07-07T18:39:13.703701",
     "status": "completed"
    },
    "tags": []
   },
   "outputs": [
    {
     "name": "stderr",
     "output_type": "stream",
     "text": [
      "/home/kaustubh/miniconda3/envs/md-analysis/lib/python3.10/site-packages/Bio/pairwise2.py:278: BiopythonDeprecationWarning: Bio.pairwise2 has been deprecated, and we intend to remove it in a future release of Biopython. As an alternative, please consider using Bio.Align.PairwiseAligner as a replacement, and contact the Biopython developers if you still need the Bio.pairwise2 module.\n",
      "  warnings.warn(\n"
     ]
    }
   ],
   "source": [
    "from mdtools.mapping import map_alignment_to_structure, align_structure_sequences\n",
    "import MDAnalysis as mda\n",
    "from MDAnalysis.analysis import rms, align\n",
    "from pyfamsa import Aligner, Sequence\n",
    "import json\n",
    "import pandas as pd\n",
    "import prody as pdy\n",
    "#matplotlib.rcParams['fontname'] = \"Arial\""
   ]
  },
  {
   "cell_type": "code",
   "execution_count": 4,
   "id": "883ce8df",
   "metadata": {
    "execution": {
     "iopub.execute_input": "2024-07-07T18:39:14.228424Z",
     "iopub.status.busy": "2024-07-07T18:39:14.228026Z",
     "iopub.status.idle": "2024-07-07T18:39:14.236056Z",
     "shell.execute_reply": "2024-07-07T18:39:14.235246Z"
    },
    "papermill": {
     "duration": 0.028675,
     "end_time": "2024-07-07T18:39:14.238265",
     "exception": false,
     "start_time": "2024-07-07T18:39:14.209590",
     "status": "completed"
    },
    "tags": []
   },
   "outputs": [],
   "source": [
    "def load_trajectory(code, data, path):\n",
    "    \n",
    "    \"\"\"\n",
    "    loads the following files\n",
    "    - an MDAnalysis trajectory with the dried (water-removed) dcd\n",
    "    - an MDAnalysis Universe with the starting PDB (jic)\n",
    "    - an prody with the starting PDB (pretty useful when MDAnalysis fails)\n",
    "    \"\"\"\n",
    "    return dict(\n",
    "        code=code,\n",
    "        trajectory_dry = mda.Universe(\n",
    "            path + data['dry_pdb'], \n",
    "            path + data['dry_dcd'], \n",
    "            frames='all', in_memory=True\n",
    "        ),\n",
    "        reference_pdy=pdy.parsePDB(path + data['dry_pdb']),\n",
    "        reference=mda.Universe(\n",
    "            path + data['dry_pdb']\n",
    "        ),\n",
    "        time=data['time']\n",
    "    )\n"
   ]
  },
  {
   "cell_type": "markdown",
   "id": "c00429a7",
   "metadata": {
    "papermill": {
     "duration": 0.016643,
     "end_time": "2024-07-07T18:39:14.268492",
     "exception": false,
     "start_time": "2024-07-07T18:39:14.251849",
     "status": "completed"
    },
    "tags": []
   },
   "source": [
    "Loading all the simulations."
   ]
  },
  {
   "cell_type": "code",
   "execution_count": 5,
   "id": "a27a0847",
   "metadata": {
    "execution": {
     "iopub.execute_input": "2024-07-07T18:39:14.305097Z",
     "iopub.status.busy": "2024-07-07T18:39:14.304669Z",
     "iopub.status.idle": "2024-07-07T19:31:12.100518Z",
     "shell.execute_reply": "2024-07-07T19:31:12.100030Z"
    },
    "papermill": {
     "duration": 3117.815726,
     "end_time": "2024-07-07T19:31:12.101381",
     "exception": false,
     "start_time": "2024-07-07T18:39:14.285655",
     "status": "completed"
    },
    "tags": []
   },
   "outputs": [
    {
     "name": "stdout",
     "output_type": "stream",
     "text": [
      "-- code 1bwv"
     ]
    },
    {
     "name": "stderr",
     "output_type": "stream",
     "text": [
      "/home/kaustubh/miniconda3/envs/md-analysis/lib/python3.10/site-packages/MDAnalysis/topology/PDBParser.py:328: UserWarning: Element information is missing, elements attribute will not be populated. If needed these can be guessed using MDAnalysis.topology.guessers.\n",
      "  warnings.warn(\"Element information is missing, elements attribute \"\n"
     ]
    },
    {
     "name": "stderr",
     "output_type": "stream",
     "text": [
      "@> 77672 atoms and 1 coordinate set(s) were parsed in 2.27s.\n"
     ]
    },
    {
     "name": "stdout",
     "output_type": "stream",
     "text": [
      " loaded\n",
      "-- code 3zxw"
     ]
    },
    {
     "name": "stderr",
     "output_type": "stream",
     "text": [
      "@> 69984 atoms and 1 coordinate set(s) were parsed in 2.31s.\n"
     ]
    },
    {
     "name": "stdout",
     "output_type": "stream",
     "text": [
      " loaded\n",
      "-- code 6ftl"
     ]
    },
    {
     "name": "stderr",
     "output_type": "stream",
     "text": [
      "@> 77416 atoms and 1 coordinate set(s) were parsed in 1.09s.\n"
     ]
    },
    {
     "name": "stdout",
     "output_type": "stream",
     "text": [
      " loaded\n",
      "-- code 6ura"
     ]
    },
    {
     "name": "stderr",
     "output_type": "stream",
     "text": [
      "@> 54648 atoms and 1 coordinate set(s) were parsed in 1.97s.\n"
     ]
    },
    {
     "name": "stdout",
     "output_type": "stream",
     "text": [
      " loaded\n",
      "-- code 8ruc"
     ]
    },
    {
     "name": "stderr",
     "output_type": "stream",
     "text": [
      "@> 74224 atoms and 1 coordinate set(s) were parsed in 0.77s.\n"
     ]
    },
    {
     "name": "stdout",
     "output_type": "stream",
     "text": [
      " loaded\n",
      "-- code anci"
     ]
    },
    {
     "name": "stderr",
     "output_type": "stream",
     "text": [
      "@> 72128 atoms and 1 coordinate set(s) were parsed in 0.49s.\n"
     ]
    },
    {
     "name": "stdout",
     "output_type": "stream",
     "text": [
      " loaded\n",
      "-- code anciab"
     ]
    },
    {
     "name": "stderr",
     "output_type": "stream",
     "text": [
      "@> 72640 atoms and 1 coordinate set(s) were parsed in 0.91s.\n"
     ]
    },
    {
     "name": "stdout",
     "output_type": "stream",
     "text": [
      " loaded\n",
      "-- code ancicd"
     ]
    },
    {
     "name": "stderr",
     "output_type": "stream",
     "text": [
      "@> 76208 atoms and 1 coordinate set(s) were parsed in 2.46s.\n"
     ]
    },
    {
     "name": "stdout",
     "output_type": "stream",
     "text": [
      " loaded\n",
      "-- code ancia"
     ]
    },
    {
     "name": "stderr",
     "output_type": "stream",
     "text": [
      "@> 73536 atoms and 1 coordinate set(s) were parsed in 2.95s.\n"
     ]
    },
    {
     "name": "stdout",
     "output_type": "stream",
     "text": [
      " loaded\n",
      "-- code ancib"
     ]
    },
    {
     "name": "stderr",
     "output_type": "stream",
     "text": [
      "@> 72352 atoms and 1 coordinate set(s) were parsed in 2.99s.\n"
     ]
    },
    {
     "name": "stdout",
     "output_type": "stream",
     "text": [
      " loaded\n",
      "-- code anciip"
     ]
    },
    {
     "name": "stderr",
     "output_type": "stream",
     "text": [
      "@> 55120 atoms and 1 coordinate set(s) were parsed in 2.24s.\n"
     ]
    },
    {
     "name": "stdout",
     "output_type": "stream",
     "text": [
      " loaded\n",
      "-- code ancip"
     ]
    },
    {
     "name": "stderr",
     "output_type": "stream",
     "text": [
      "@> 54768 atoms and 1 coordinate set(s) were parsed in 1.63s.\n"
     ]
    },
    {
     "name": "stdout",
     "output_type": "stream",
     "text": [
      " loaded\n"
     ]
    }
   ],
   "source": [
    "path = '../../../simulations/'\n",
    "exp01_md = []\n",
    "for key, items in md_reference_data.items():\n",
    "    print(f\"-- code {key}\", end='')\n",
    "    exp01_md.append(load_trajectory(\n",
    "        code=key, data=items, path=path\n",
    "    ))\n",
    "    print(f\" loaded\")\n",
    "exp01_md = pd.DataFrame.from_records(exp01_md).set_index('code')"
   ]
  },
  {
   "attachments": {},
   "cell_type": "markdown",
   "id": "fc012c5b",
   "metadata": {
    "papermill": {
     "duration": 0.01136,
     "end_time": "2024-07-07T19:31:12.127088",
     "exception": false,
     "start_time": "2024-07-07T19:31:12.115728",
     "status": "completed"
    },
    "tags": []
   },
   "source": [
    "## RMSD calculations\n",
    "\n",
    "We compute the RMSD of:\n",
    "- All the alpha carbons.\n",
    "- Large subunit alpha carbons\n",
    "- Small subunit alpha carbons\n",
    "- Upper and lower large subunit alpha carbons\n",
    "- Upper and lower small subunit alpha carbons"
   ]
  },
  {
   "cell_type": "code",
   "execution_count": 6,
   "id": "4f049a5f",
   "metadata": {
    "execution": {
     "iopub.execute_input": "2024-07-07T19:31:12.186668Z",
     "iopub.status.busy": "2024-07-07T19:31:12.186280Z",
     "iopub.status.idle": "2024-07-07T19:31:34.493830Z",
     "shell.execute_reply": "2024-07-07T19:31:34.493446Z"
    },
    "papermill": {
     "duration": 22.346254,
     "end_time": "2024-07-07T19:31:34.494841",
     "exception": false,
     "start_time": "2024-07-07T19:31:12.148587",
     "status": "completed"
    },
    "tags": []
   },
   "outputs": [
    {
     "name": "stdout",
     "output_type": "stream",
     "text": [
      "-- code 1bwv"
     ]
    },
    {
     "name": "stderr",
     "output_type": "stream",
     "text": [
      "/home/kaustubh/miniconda3/envs/md-analysis/lib/python3.10/site-packages/MDAnalysis/analysis/rms.py:718: DeprecationWarning: The `rmsd` attribute was deprecated in MDAnalysis 2.0.0 and will be removed in MDAnalysis 3.0.0. Please use `results.rmsd` instead.\n",
      "  warnings.warn(wmsg, DeprecationWarning)\n"
     ]
    },
    {
     "name": "stdout",
     "output_type": "stream",
     "text": [
      " aligned\n",
      "-- code 3zxw"
     ]
    },
    {
     "name": "stderr",
     "output_type": "stream",
     "text": [
      "/home/kaustubh/miniconda3/envs/md-analysis/lib/python3.10/site-packages/MDAnalysis/analysis/rms.py:718: DeprecationWarning: The `rmsd` attribute was deprecated in MDAnalysis 2.0.0 and will be removed in MDAnalysis 3.0.0. Please use `results.rmsd` instead.\n",
      "  warnings.warn(wmsg, DeprecationWarning)\n"
     ]
    },
    {
     "name": "stdout",
     "output_type": "stream",
     "text": [
      " aligned\n",
      "-- code 6ftl"
     ]
    },
    {
     "name": "stderr",
     "output_type": "stream",
     "text": [
      "/home/kaustubh/miniconda3/envs/md-analysis/lib/python3.10/site-packages/MDAnalysis/analysis/rms.py:718: DeprecationWarning: The `rmsd` attribute was deprecated in MDAnalysis 2.0.0 and will be removed in MDAnalysis 3.0.0. Please use `results.rmsd` instead.\n",
      "  warnings.warn(wmsg, DeprecationWarning)\n"
     ]
    },
    {
     "name": "stdout",
     "output_type": "stream",
     "text": [
      " aligned\n",
      "-- code 6ura"
     ]
    },
    {
     "name": "stderr",
     "output_type": "stream",
     "text": [
      "/home/kaustubh/miniconda3/envs/md-analysis/lib/python3.10/site-packages/MDAnalysis/analysis/rms.py:279: RuntimeWarning: invalid value encountered in double_scalars\n",
      "  return np.sqrt(np.sum((a - b) ** 2) / N)\n"
     ]
    },
    {
     "name": "stderr",
     "output_type": "stream",
     "text": [
      "/home/kaustubh/miniconda3/envs/md-analysis/lib/python3.10/site-packages/MDAnalysis/analysis/rms.py:718: DeprecationWarning: The `rmsd` attribute was deprecated in MDAnalysis 2.0.0 and will be removed in MDAnalysis 3.0.0. Please use `results.rmsd` instead.\n",
      "  warnings.warn(wmsg, DeprecationWarning)\n"
     ]
    },
    {
     "name": "stdout",
     "output_type": "stream",
     "text": [
      " aligned\n",
      "-- code 8ruc"
     ]
    },
    {
     "name": "stderr",
     "output_type": "stream",
     "text": [
      "/home/kaustubh/miniconda3/envs/md-analysis/lib/python3.10/site-packages/MDAnalysis/analysis/rms.py:718: DeprecationWarning: The `rmsd` attribute was deprecated in MDAnalysis 2.0.0 and will be removed in MDAnalysis 3.0.0. Please use `results.rmsd` instead.\n",
      "  warnings.warn(wmsg, DeprecationWarning)\n"
     ]
    },
    {
     "name": "stdout",
     "output_type": "stream",
     "text": [
      " aligned\n",
      "-- code anci"
     ]
    },
    {
     "name": "stderr",
     "output_type": "stream",
     "text": [
      "/home/kaustubh/miniconda3/envs/md-analysis/lib/python3.10/site-packages/MDAnalysis/analysis/rms.py:718: DeprecationWarning: The `rmsd` attribute was deprecated in MDAnalysis 2.0.0 and will be removed in MDAnalysis 3.0.0. Please use `results.rmsd` instead.\n",
      "  warnings.warn(wmsg, DeprecationWarning)\n"
     ]
    },
    {
     "name": "stdout",
     "output_type": "stream",
     "text": [
      " aligned\n",
      "-- code anciab"
     ]
    },
    {
     "name": "stderr",
     "output_type": "stream",
     "text": [
      "/home/kaustubh/miniconda3/envs/md-analysis/lib/python3.10/site-packages/MDAnalysis/analysis/rms.py:718: DeprecationWarning: The `rmsd` attribute was deprecated in MDAnalysis 2.0.0 and will be removed in MDAnalysis 3.0.0. Please use `results.rmsd` instead.\n",
      "  warnings.warn(wmsg, DeprecationWarning)\n"
     ]
    },
    {
     "name": "stdout",
     "output_type": "stream",
     "text": [
      " aligned\n",
      "-- code ancicd"
     ]
    },
    {
     "name": "stderr",
     "output_type": "stream",
     "text": [
      "/home/kaustubh/miniconda3/envs/md-analysis/lib/python3.10/site-packages/MDAnalysis/analysis/rms.py:718: DeprecationWarning: The `rmsd` attribute was deprecated in MDAnalysis 2.0.0 and will be removed in MDAnalysis 3.0.0. Please use `results.rmsd` instead.\n",
      "  warnings.warn(wmsg, DeprecationWarning)\n"
     ]
    },
    {
     "name": "stdout",
     "output_type": "stream",
     "text": [
      " aligned\n",
      "-- code ancia"
     ]
    },
    {
     "name": "stderr",
     "output_type": "stream",
     "text": [
      "/home/kaustubh/miniconda3/envs/md-analysis/lib/python3.10/site-packages/MDAnalysis/analysis/rms.py:718: DeprecationWarning: The `rmsd` attribute was deprecated in MDAnalysis 2.0.0 and will be removed in MDAnalysis 3.0.0. Please use `results.rmsd` instead.\n",
      "  warnings.warn(wmsg, DeprecationWarning)\n"
     ]
    },
    {
     "name": "stdout",
     "output_type": "stream",
     "text": [
      " aligned\n",
      "-- code ancib"
     ]
    },
    {
     "name": "stderr",
     "output_type": "stream",
     "text": [
      "/home/kaustubh/miniconda3/envs/md-analysis/lib/python3.10/site-packages/MDAnalysis/analysis/rms.py:718: DeprecationWarning: The `rmsd` attribute was deprecated in MDAnalysis 2.0.0 and will be removed in MDAnalysis 3.0.0. Please use `results.rmsd` instead.\n",
      "  warnings.warn(wmsg, DeprecationWarning)\n"
     ]
    },
    {
     "name": "stdout",
     "output_type": "stream",
     "text": [
      " aligned\n",
      "-- code anciip"
     ]
    },
    {
     "name": "stderr",
     "output_type": "stream",
     "text": [
      "/home/kaustubh/miniconda3/envs/md-analysis/lib/python3.10/site-packages/MDAnalysis/analysis/rms.py:279: RuntimeWarning: invalid value encountered in double_scalars\n",
      "  return np.sqrt(np.sum((a - b) ** 2) / N)\n"
     ]
    },
    {
     "name": "stderr",
     "output_type": "stream",
     "text": [
      "/home/kaustubh/miniconda3/envs/md-analysis/lib/python3.10/site-packages/MDAnalysis/analysis/rms.py:718: DeprecationWarning: The `rmsd` attribute was deprecated in MDAnalysis 2.0.0 and will be removed in MDAnalysis 3.0.0. Please use `results.rmsd` instead.\n",
      "  warnings.warn(wmsg, DeprecationWarning)\n",
      "/home/kaustubh/miniconda3/envs/md-analysis/lib/python3.10/site-packages/MDAnalysis/analysis/rms.py:279: RuntimeWarning: invalid value encountered in double_scalars\n",
      "  return np.sqrt(np.sum((a - b) ** 2) / N)\n"
     ]
    },
    {
     "name": "stdout",
     "output_type": "stream",
     "text": [
      " aligned\n",
      "-- code ancip"
     ]
    },
    {
     "name": "stdout",
     "output_type": "stream",
     "text": [
      " aligned\n"
     ]
    },
    {
     "name": "stderr",
     "output_type": "stream",
     "text": [
      "/home/kaustubh/miniconda3/envs/md-analysis/lib/python3.10/site-packages/MDAnalysis/analysis/rms.py:718: DeprecationWarning: The `rmsd` attribute was deprecated in MDAnalysis 2.0.0 and will be removed in MDAnalysis 3.0.0. Please use `results.rmsd` instead.\n",
      "  warnings.warn(wmsg, DeprecationWarning)\n"
     ]
    }
   ],
   "source": [
    "exp01_rmsd = []\n",
    "\n",
    "upper_ssu = 'name CA and (segid B or segid F or segid J or segid N)'\n",
    "lower_ssu = 'name CA and (segid D or segid H or segid L or segid P)'\n",
    "ssu = 'name CA and (segid B or segid F or segid J or segid N or segid D or segid H or segid L or segid P)'\n",
    "upper_lsu = 'name CA and (segid A or segid E or segid I or segid M)'\n",
    "lower_lsu = 'name CA and (segid C or segid G or segid K or segid O)'\n",
    "lsu = 'name CA and (segid A or segid E or segid I or segid M or segid C or segid G or segid K or segid O)'\n",
    "\n",
    "\n",
    "for key, item in exp01_md.iterrows():\n",
    "    print(f\"-- code {key}\", end='')\n",
    "    R = rms.RMSD(item['trajectory_dry'], item['reference'], select='name CA', groupselections=[upper_ssu, lower_ssu, ssu, upper_lsu, lower_lsu, lsu], superposition=False)\n",
    "    results = R.run()\n",
    "    tmp = pd.DataFrame(results.rmsd, columns=['frame', 'time', 'CA', 'upperSSU', 'lowerSSU', 'ssu', 'upperLSU', 'lowerLSU', 'lsu'])\n",
    "    tmp['code'] = key\n",
    "    exp01_rmsd.append(tmp)\n",
    "    print(f\" aligned\")\n",
    "    \n",
    "exp01_rmsd = pd.concat(exp01_rmsd)\n",
    "exp01_rmsd.index = pd.MultiIndex.from_arrays([exp01_rmsd['code'], exp01_rmsd['frame']])\n",
    "exp01_rmsd['frame'] = exp01_rmsd['frame'].astype(int)\n",
    "exp01_rmsd['time'] = exp01_rmsd['time'].astype(float)\n",
    "exp01_rmsd['time_ns'] = exp01_rmsd['time'] / 10"
   ]
  },
  {
   "cell_type": "markdown",
   "id": "3ba13872",
   "metadata": {
    "papermill": {
     "duration": 0.012285,
     "end_time": "2024-07-07T19:31:34.529441",
     "exception": false,
     "start_time": "2024-07-07T19:31:34.517156",
     "status": "completed"
    },
    "tags": []
   },
   "source": [
    "We only make measurements using the last 50ns of each simulation, counting the previous 25 to 50ns as burn-in time."
   ]
  },
  {
   "cell_type": "code",
   "execution_count": 7,
   "id": "ef476078",
   "metadata": {
    "execution": {
     "iopub.execute_input": "2024-07-07T19:31:34.555523Z",
     "iopub.status.busy": "2024-07-07T19:31:34.555368Z",
     "iopub.status.idle": "2024-07-07T19:31:34.571184Z",
     "shell.execute_reply": "2024-07-07T19:31:34.570854Z"
    },
    "papermill": {
     "duration": 0.030363,
     "end_time": "2024-07-07T19:31:34.572081",
     "exception": false,
     "start_time": "2024-07-07T19:31:34.541718",
     "status": "completed"
    },
    "tags": []
   },
   "outputs": [
    {
     "data": {
      "text/plain": [
       "code   frame\n",
       "1bwv   500.0    50.000002\n",
       "       501.0    50.100002\n",
       "       502.0    50.200002\n",
       "       503.0    50.300002\n",
       "       504.0    50.400002\n",
       "                  ...    \n",
       "ancip  995.0    99.500003\n",
       "       996.0    99.600003\n",
       "       997.0    99.700003\n",
       "       998.0    99.800003\n",
       "       999.0    99.900003\n",
       "Name: time_ns, Length: 6000, dtype: float64"
      ]
     },
     "execution_count": 7,
     "metadata": {},
     "output_type": "execute_result"
    }
   ],
   "source": [
    "exp01_rmsd['time_to_end'] = exp01_rmsd.groupby(level='code')['time_ns'].transform(\n",
    "    lambda x: x.max() - x\n",
    ")\n",
    "exp01_rmsd.query('time_to_end < 50')['time_ns']"
   ]
  },
  {
   "cell_type": "markdown",
   "id": "76b7e090",
   "metadata": {
    "papermill": {
     "duration": 0.011999,
     "end_time": "2024-07-07T19:31:34.596413",
     "exception": false,
     "start_time": "2024-07-07T19:31:34.584414",
     "status": "completed"
    },
    "tags": []
   },
   "source": [
    "Dumping values to file."
   ]
  },
  {
   "cell_type": "code",
   "execution_count": 8,
   "id": "7f50829e",
   "metadata": {
    "execution": {
     "iopub.execute_input": "2024-07-07T19:31:34.622420Z",
     "iopub.status.busy": "2024-07-07T19:31:34.622283Z",
     "iopub.status.idle": "2024-07-07T19:31:34.766260Z",
     "shell.execute_reply": "2024-07-07T19:31:34.765622Z"
    },
    "papermill": {
     "duration": 0.158976,
     "end_time": "2024-07-07T19:31:34.767773",
     "exception": false,
     "start_time": "2024-07-07T19:31:34.608797",
     "status": "completed"
    },
    "tags": []
   },
   "outputs": [],
   "source": [
    "exp01_rmsd.to_csv(product['rmsd'], index=None)"
   ]
  },
  {
   "attachments": {},
   "cell_type": "markdown",
   "id": "29a372ce",
   "metadata": {
    "papermill": {
     "duration": 0.027252,
     "end_time": "2024-07-07T19:31:34.812650",
     "exception": false,
     "start_time": "2024-07-07T19:31:34.785398",
     "status": "completed"
    },
    "tags": []
   },
   "source": [
    "### RMSD over subunits\n",
    "\n",
    "We compute the average structure RMSD by subunits.\n",
    "\n",
    "First, we need to generate all the average subunits."
   ]
  },
  {
   "cell_type": "code",
   "execution_count": 9,
   "id": "b5999217",
   "metadata": {
    "execution": {
     "iopub.execute_input": "2024-07-07T19:31:34.854759Z",
     "iopub.status.busy": "2024-07-07T19:31:34.854395Z",
     "iopub.status.idle": "2024-07-07T19:45:03.058117Z",
     "shell.execute_reply": "2024-07-07T19:45:03.057716Z"
    },
    "papermill": {
     "duration": 808.247896,
     "end_time": "2024-07-07T19:45:03.079881",
     "exception": false,
     "start_time": "2024-07-07T19:31:34.831985",
     "status": "completed"
    },
    "tags": []
   },
   "outputs": [
    {
     "name": "stdout",
     "output_type": "stream",
     "text": [
      "-- code 1bwv"
     ]
    },
    {
     "name": "stdout",
     "output_type": "stream",
     "text": [
      " aligned\n",
      "-- code 3zxw"
     ]
    },
    {
     "name": "stdout",
     "output_type": "stream",
     "text": [
      " aligned\n",
      "-- code 6ftl"
     ]
    },
    {
     "name": "stdout",
     "output_type": "stream",
     "text": [
      " aligned\n",
      "-- code 6ura"
     ]
    },
    {
     "name": "stdout",
     "output_type": "stream",
     "text": [
      " aligned\n",
      "-- code 8ruc"
     ]
    },
    {
     "name": "stdout",
     "output_type": "stream",
     "text": [
      " aligned\n",
      "-- code anci"
     ]
    },
    {
     "name": "stdout",
     "output_type": "stream",
     "text": [
      " aligned\n",
      "-- code anciab"
     ]
    },
    {
     "name": "stdout",
     "output_type": "stream",
     "text": [
      " aligned\n",
      "-- code ancicd"
     ]
    },
    {
     "name": "stdout",
     "output_type": "stream",
     "text": [
      " aligned\n",
      "-- code ancia"
     ]
    },
    {
     "name": "stdout",
     "output_type": "stream",
     "text": [
      " aligned\n",
      "-- code ancib"
     ]
    },
    {
     "name": "stdout",
     "output_type": "stream",
     "text": [
      " aligned\n",
      "-- code anciip"
     ]
    },
    {
     "name": "stdout",
     "output_type": "stream",
     "text": [
      " aligned\n",
      "-- code ancip"
     ]
    },
    {
     "name": "stdout",
     "output_type": "stream",
     "text": [
      " aligned\n"
     ]
    }
   ],
   "source": [
    "lsu_A = 'name CA and segid A'\n",
    "lsu_E = 'name CA and segid E'\n",
    "lsu_I = 'name CA and segid I'\n",
    "lsu_M = 'name CA and segid M'\n",
    "lsu_C = 'name CA and segid C'\n",
    "lsu_G = 'name CA and segid G'\n",
    "lsu_K = 'name CA and segid K'\n",
    "lsu_O = 'name CA and segid O'\n",
    "\n",
    "ssu_B = 'name CA and segid B'\n",
    "ssu_F = 'name CA and segid F'\n",
    "ssu_J = 'name CA and segid J'\n",
    "ssu_N = 'name CA and segid N'\n",
    "ssu_D = 'name CA and segid D'\n",
    "ssu_H = 'name CA and segid H'\n",
    "ssu_L = 'name CA and segid L'\n",
    "ssu_P = 'name CA and segid P'\n",
    "\n",
    "lsu = 'name CA and (segid A or segid E or segid I or segid M or segid C or segid G or segid K or segid O)'\n",
    "ssu = 'name CA and (segid B or segid F or segid J or segid N or segid D or segid H or segid L or segid P)'\n",
    "\n",
    "selection_strings = dict(\n",
    "    overall = 'name CA',\n",
    "    ssu=ssu, \n",
    "    lsu=lsu,\n",
    "    lsu_A = lsu_A,\n",
    "    lsu_E = lsu_E,\n",
    "    lsu_I = lsu_I,\n",
    "    lsu_M = lsu_M,\n",
    "    lsu_C = lsu_C,\n",
    "    lsu_G = lsu_G,\n",
    "    lsu_K = lsu_K,\n",
    "    lsu_O = lsu_O,\n",
    "    ssu_B = ssu_B,\n",
    "    ssu_F = ssu_F,\n",
    "    ssu_J = ssu_J,\n",
    "    ssu_N = ssu_N,\n",
    "    ssu_D = ssu_D,\n",
    "    ssu_H = ssu_H,\n",
    "    ssu_L = ssu_L,\n",
    "    ssu_P = ssu_P\n",
    ")\n",
    "average_structures = dict(\n",
    "    overall=[],\n",
    "    ssu=[],\n",
    "    lsu=[],\n",
    "    lsu_A=[],\n",
    "    lsu_E=[],\n",
    "    lsu_I=[],\n",
    "    lsu_M=[],\n",
    "    lsu_C=[],\n",
    "    lsu_G=[],\n",
    "    lsu_K=[],\n",
    "    lsu_O=[],\n",
    "    ssu_B=[],\n",
    "    ssu_F=[],\n",
    "    ssu_J=[],\n",
    "    ssu_N=[],\n",
    "    ssu_D=[],\n",
    "    ssu_H=[],\n",
    "    ssu_L=[],\n",
    "    ssu_P=[]\n",
    ")\n",
    "\n",
    "for key, item in exp01_md.iterrows():\n",
    "    print(f\"-- code {key}\", end='')\n",
    "    for selection_key, selection_string in selection_strings.items():\n",
    "        try:\n",
    "            average = align.AverageStructure(\n",
    "                item['trajectory_dry'], item['trajectory_dry'], \n",
    "                select=selection_string, ref_frame=0\n",
    "            ).run()\n",
    "        except ValueError:\n",
    "            average_structures[selection_key].append(None)\n",
    "            continue\n",
    "\n",
    "        ref = average.results.universe\n",
    "        average_structures[selection_key].append(ref)\n",
    "    print(\" aligned\")\n",
    "\n",
    "exp01_md['overall_avg'] = average_structures['overall']\n",
    "exp01_md['ssu_avg'] = average_structures['ssu']\n",
    "exp01_md['lsu_avg'] = average_structures['lsu']\n",
    "\n",
    "exp01_md['lsu_A'] = average_structures['lsu_A']\n",
    "exp01_md['lsu_E'] = average_structures['lsu_E']\n",
    "exp01_md['lsu_I'] = average_structures['lsu_I']\n",
    "exp01_md['lsu_M'] = average_structures['lsu_M']\n",
    "exp01_md['lsu_C'] = average_structures['lsu_C']\n",
    "exp01_md['lsu_G'] = average_structures['lsu_G']\n",
    "exp01_md['lsu_K'] = average_structures['lsu_K']\n",
    "exp01_md['lsu_O'] = average_structures['lsu_O']\n",
    "\n",
    "exp01_md['ssu_B'] = average_structures['ssu_B']\n",
    "exp01_md['ssu_F'] = average_structures['ssu_F']\n",
    "exp01_md['ssu_J'] = average_structures['ssu_J']\n",
    "exp01_md['ssu_N'] = average_structures['ssu_N']\n",
    "exp01_md['ssu_D'] = average_structures['ssu_D']\n",
    "exp01_md['ssu_H'] = average_structures['ssu_H']\n",
    "exp01_md['ssu_L'] = average_structures['ssu_L']\n",
    "exp01_md['ssu_P'] = average_structures['ssu_P']"
   ]
  },
  {
   "cell_type": "markdown",
   "id": "10077f94",
   "metadata": {
    "papermill": {
     "duration": 0.011797,
     "end_time": "2024-07-07T19:45:03.105024",
     "exception": false,
     "start_time": "2024-07-07T19:45:03.093227",
     "status": "completed"
    },
    "tags": []
   },
   "source": [
    "Computing the RMSD over the different subunit structures."
   ]
  },
  {
   "cell_type": "code",
   "execution_count": 10,
   "id": "98c011ba",
   "metadata": {
    "execution": {
     "iopub.execute_input": "2024-07-07T19:45:03.128794Z",
     "iopub.status.busy": "2024-07-07T19:45:03.128638Z",
     "iopub.status.idle": "2024-07-07T19:45:23.647063Z",
     "shell.execute_reply": "2024-07-07T19:45:23.646766Z"
    },
    "papermill": {
     "duration": 20.531605,
     "end_time": "2024-07-07T19:45:23.647944",
     "exception": false,
     "start_time": "2024-07-07T19:45:03.116339",
     "status": "completed"
    },
    "tags": []
   },
   "outputs": [
    {
     "name": "stdout",
     "output_type": "stream",
     "text": [
      "-- code 1bwv"
     ]
    },
    {
     "name": "stderr",
     "output_type": "stream",
     "text": [
      "/home/kaustubh/miniconda3/envs/md-analysis/lib/python3.10/site-packages/MDAnalysis/analysis/rms.py:718: DeprecationWarning: The `rmsd` attribute was deprecated in MDAnalysis 2.0.0 and will be removed in MDAnalysis 3.0.0. Please use `results.rmsd` instead.\n",
      "  warnings.warn(wmsg, DeprecationWarning)\n"
     ]
    },
    {
     "name": "stdout",
     "output_type": "stream",
     "text": [
      " aligned\n",
      "-- code 3zxw"
     ]
    },
    {
     "name": "stderr",
     "output_type": "stream",
     "text": [
      "/home/kaustubh/miniconda3/envs/md-analysis/lib/python3.10/site-packages/MDAnalysis/analysis/rms.py:718: DeprecationWarning: The `rmsd` attribute was deprecated in MDAnalysis 2.0.0 and will be removed in MDAnalysis 3.0.0. Please use `results.rmsd` instead.\n",
      "  warnings.warn(wmsg, DeprecationWarning)\n"
     ]
    },
    {
     "name": "stdout",
     "output_type": "stream",
     "text": [
      " aligned\n",
      "-- code 6ftl"
     ]
    },
    {
     "name": "stderr",
     "output_type": "stream",
     "text": [
      "/home/kaustubh/miniconda3/envs/md-analysis/lib/python3.10/site-packages/MDAnalysis/analysis/rms.py:718: DeprecationWarning: The `rmsd` attribute was deprecated in MDAnalysis 2.0.0 and will be removed in MDAnalysis 3.0.0. Please use `results.rmsd` instead.\n",
      "  warnings.warn(wmsg, DeprecationWarning)\n",
      "/home/kaustubh/miniconda3/envs/md-analysis/lib/python3.10/site-packages/MDAnalysis/analysis/rms.py:279: RuntimeWarning: invalid value encountered in double_scalars\n",
      "  return np.sqrt(np.sum((a - b) ** 2) / N)\n"
     ]
    },
    {
     "name": "stdout",
     "output_type": "stream",
     "text": [
      " aligned\n",
      "-- code 6ura"
     ]
    },
    {
     "name": "stderr",
     "output_type": "stream",
     "text": [
      "/home/kaustubh/miniconda3/envs/md-analysis/lib/python3.10/site-packages/MDAnalysis/analysis/rms.py:718: DeprecationWarning: The `rmsd` attribute was deprecated in MDAnalysis 2.0.0 and will be removed in MDAnalysis 3.0.0. Please use `results.rmsd` instead.\n",
      "  warnings.warn(wmsg, DeprecationWarning)\n"
     ]
    },
    {
     "name": "stdout",
     "output_type": "stream",
     "text": [
      " aligned\n",
      "-- code 8ruc"
     ]
    },
    {
     "name": "stderr",
     "output_type": "stream",
     "text": [
      "/home/kaustubh/miniconda3/envs/md-analysis/lib/python3.10/site-packages/MDAnalysis/analysis/rms.py:718: DeprecationWarning: The `rmsd` attribute was deprecated in MDAnalysis 2.0.0 and will be removed in MDAnalysis 3.0.0. Please use `results.rmsd` instead.\n",
      "  warnings.warn(wmsg, DeprecationWarning)\n"
     ]
    },
    {
     "name": "stdout",
     "output_type": "stream",
     "text": [
      " aligned\n",
      "-- code anci"
     ]
    },
    {
     "name": "stderr",
     "output_type": "stream",
     "text": [
      "/home/kaustubh/miniconda3/envs/md-analysis/lib/python3.10/site-packages/MDAnalysis/analysis/rms.py:718: DeprecationWarning: The `rmsd` attribute was deprecated in MDAnalysis 2.0.0 and will be removed in MDAnalysis 3.0.0. Please use `results.rmsd` instead.\n",
      "  warnings.warn(wmsg, DeprecationWarning)\n"
     ]
    },
    {
     "name": "stdout",
     "output_type": "stream",
     "text": [
      " aligned\n",
      "-- code anciab"
     ]
    },
    {
     "name": "stderr",
     "output_type": "stream",
     "text": [
      "/home/kaustubh/miniconda3/envs/md-analysis/lib/python3.10/site-packages/MDAnalysis/analysis/rms.py:718: DeprecationWarning: The `rmsd` attribute was deprecated in MDAnalysis 2.0.0 and will be removed in MDAnalysis 3.0.0. Please use `results.rmsd` instead.\n",
      "  warnings.warn(wmsg, DeprecationWarning)\n"
     ]
    },
    {
     "name": "stdout",
     "output_type": "stream",
     "text": [
      " aligned\n",
      "-- code ancicd"
     ]
    },
    {
     "name": "stderr",
     "output_type": "stream",
     "text": [
      "/home/kaustubh/miniconda3/envs/md-analysis/lib/python3.10/site-packages/MDAnalysis/analysis/rms.py:718: DeprecationWarning: The `rmsd` attribute was deprecated in MDAnalysis 2.0.0 and will be removed in MDAnalysis 3.0.0. Please use `results.rmsd` instead.\n",
      "  warnings.warn(wmsg, DeprecationWarning)\n"
     ]
    },
    {
     "name": "stdout",
     "output_type": "stream",
     "text": [
      " aligned\n",
      "-- code ancia"
     ]
    },
    {
     "name": "stderr",
     "output_type": "stream",
     "text": [
      "/home/kaustubh/miniconda3/envs/md-analysis/lib/python3.10/site-packages/MDAnalysis/analysis/rms.py:718: DeprecationWarning: The `rmsd` attribute was deprecated in MDAnalysis 2.0.0 and will be removed in MDAnalysis 3.0.0. Please use `results.rmsd` instead.\n",
      "  warnings.warn(wmsg, DeprecationWarning)\n"
     ]
    },
    {
     "name": "stdout",
     "output_type": "stream",
     "text": [
      " aligned\n",
      "-- code ancib"
     ]
    },
    {
     "name": "stderr",
     "output_type": "stream",
     "text": [
      "/home/kaustubh/miniconda3/envs/md-analysis/lib/python3.10/site-packages/MDAnalysis/analysis/rms.py:718: DeprecationWarning: The `rmsd` attribute was deprecated in MDAnalysis 2.0.0 and will be removed in MDAnalysis 3.0.0. Please use `results.rmsd` instead.\n",
      "  warnings.warn(wmsg, DeprecationWarning)\n",
      "/home/kaustubh/miniconda3/envs/md-analysis/lib/python3.10/site-packages/MDAnalysis/analysis/rms.py:279: RuntimeWarning: invalid value encountered in double_scalars\n",
      "  return np.sqrt(np.sum((a - b) ** 2) / N)\n"
     ]
    },
    {
     "name": "stdout",
     "output_type": "stream",
     "text": [
      " aligned\n",
      "-- code anciip"
     ]
    },
    {
     "name": "stderr",
     "output_type": "stream",
     "text": [
      "/home/kaustubh/miniconda3/envs/md-analysis/lib/python3.10/site-packages/MDAnalysis/analysis/rms.py:718: DeprecationWarning: The `rmsd` attribute was deprecated in MDAnalysis 2.0.0 and will be removed in MDAnalysis 3.0.0. Please use `results.rmsd` instead.\n",
      "  warnings.warn(wmsg, DeprecationWarning)\n",
      "/home/kaustubh/miniconda3/envs/md-analysis/lib/python3.10/site-packages/MDAnalysis/analysis/rms.py:279: RuntimeWarning: invalid value encountered in double_scalars\n",
      "  return np.sqrt(np.sum((a - b) ** 2) / N)\n"
     ]
    },
    {
     "name": "stdout",
     "output_type": "stream",
     "text": [
      " aligned\n",
      "-- code ancip"
     ]
    },
    {
     "name": "stdout",
     "output_type": "stream",
     "text": [
      " aligned\n"
     ]
    },
    {
     "name": "stderr",
     "output_type": "stream",
     "text": [
      "/home/kaustubh/miniconda3/envs/md-analysis/lib/python3.10/site-packages/MDAnalysis/analysis/rms.py:718: DeprecationWarning: The `rmsd` attribute was deprecated in MDAnalysis 2.0.0 and will be removed in MDAnalysis 3.0.0. Please use `results.rmsd` instead.\n",
      "  warnings.warn(wmsg, DeprecationWarning)\n"
     ]
    },
    {
     "data": {
      "text/plain": [
       "code   frame\n",
       "1bwv   500.0    50.000002\n",
       "       501.0    50.100002\n",
       "       502.0    50.200002\n",
       "       503.0    50.300002\n",
       "       504.0    50.400002\n",
       "                  ...    \n",
       "ancip  995.0    99.500003\n",
       "       996.0    99.600003\n",
       "       997.0    99.700003\n",
       "       998.0    99.800003\n",
       "       999.0    99.900003\n",
       "Name: time_ns, Length: 6000, dtype: float64"
      ]
     },
     "execution_count": 10,
     "metadata": {},
     "output_type": "execute_result"
    }
   ],
   "source": [
    "exp01_rmsd_avg = []\n",
    "overall = 'name CA'\n",
    "\n",
    "for key, item in exp01_md.iterrows():\n",
    "    print(f\"-- code {key}\", end='')\n",
    "    R = rms.RMSD(item['trajectory_dry'], item['overall_avg'], select='name CA', groupselections=[ssu, lsu, lsu_A, lsu_E, lsu_I, lsu_M, lsu_C, lsu_G, lsu_K, lsu_O, ssu_B, ssu_F, ssu_J, ssu_N, ssu_D, ssu_H, ssu_L, ssu_P], superposition=True)\n",
    "    results = R.run()\n",
    "    tmp = pd.DataFrame(results.rmsd, columns=['frame', 'time', 'CA', 'ssu', 'lsu', 'lsu_A', 'lsu_E', 'lsu_I', 'lsu_M', 'lsu_C', 'lsu_G', 'lsu_K', 'lsu_O', 'ssu_B', 'ssu_F', 'ssu_J', 'ssu_N', 'ssu_D', 'ssu_H', 'ssu_L', 'ssu_P'])\n",
    "    tmp['code'] = key\n",
    "    \n",
    "    exp01_rmsd_avg.append(tmp)\n",
    "    print(\" aligned\")\n",
    "    \n",
    "exp01_rmsd_avg = pd.concat(exp01_rmsd_avg)\n",
    "exp01_rmsd_avg.index = pd.MultiIndex.from_arrays([exp01_rmsd_avg['code'], exp01_rmsd_avg['frame']])\n",
    "exp01_rmsd_avg['frame'] = exp01_rmsd_avg['frame'].astype(int)\n",
    "exp01_rmsd_avg['time'] = exp01_rmsd_avg['time'].astype(float)\n",
    "exp01_rmsd_avg['time_ns'] = exp01_rmsd_avg['time'] / 10\n",
    "exp01_rmsd_avg['time_to_end'] = exp01_rmsd_avg.groupby(level='code')['time_ns'].transform(\n",
    "    lambda x: x.max() - x\n",
    ")\n",
    "exp01_rmsd_avg.query('time_to_end < 50')['time_ns']"
   ]
  },
  {
   "cell_type": "code",
   "execution_count": 11,
   "id": "06bb72a6",
   "metadata": {
    "execution": {
     "iopub.execute_input": "2024-07-07T19:45:23.687070Z",
     "iopub.status.busy": "2024-07-07T19:45:23.686941Z",
     "iopub.status.idle": "2024-07-07T19:45:23.869311Z",
     "shell.execute_reply": "2024-07-07T19:45:23.867835Z"
    },
    "papermill": {
     "duration": 0.200312,
     "end_time": "2024-07-07T19:45:23.872633",
     "exception": false,
     "start_time": "2024-07-07T19:45:23.672321",
     "status": "completed"
    },
    "tags": []
   },
   "outputs": [],
   "source": [
    "exp01_rmsd_avg.to_csv(\n",
    "    product['avg_rmsd'], index=None\n",
    ")"
   ]
  }
 ],
 "metadata": {
  "kernelspec": {
   "display_name": "Python 3 (ipykernel)",
   "language": "python",
   "name": "python3"
  },
  "language_info": {
   "codemirror_mode": {
    "name": "ipython",
    "version": 3
   },
   "file_extension": ".py",
   "mimetype": "text/x-python",
   "name": "python",
   "nbconvert_exporter": "python",
   "pygments_lexer": "ipython3",
   "version": "3.10.6"
  },
  "papermill": {
   "duration": 3971.655793,
   "end_time": "2024-07-07T19:45:24.539908",
   "exception": null,
   "input_path": "/tmp/tmpwh4_zgrj.ipynb",
   "output_path": "/mnt/researchdrive/bCuevas/r23/github_repo/RuBisCO_evolution/analysis/output/out-01-R23-RMSD.ipynb",
   "parameters": {
    "md_reference_data": {
     "1bwv": {
      "dry_dcd": "1bwv.exp01.md01.dry.dcd",
      "dry_pdb": "1bwv.exp01.md01.dry.pdb",
      "time": "extant"
     },
     "3zxw": {
      "dry_dcd": "3zxw.exp01.md01.dry.dcd",
      "dry_pdb": "3zxw.exp01.md01.dry.pdb",
      "time": "extant"
     },
     "6ftl": {
      "dry_dcd": "6ftl.exp01.md01.dry.dcd",
      "dry_pdb": "6ftl.exp01.md01.dry.pdb",
      "time": "extant"
     },
     "6ura": {
      "dry_dcd": "6ura.exp01.md01.dry.dcd",
      "dry_pdb": "6ura.exp01.md01.dry.pdb",
      "time": "extant"
     },
     "8ruc": {
      "dry_dcd": "8ruc.exp01.md01.dry.dcd",
      "dry_pdb": "8ruc.exp01.md01.dry.pdb",
      "time": "extant"
     },
     "anci": {
      "dry_dcd": "anci.exp01.md01.dry.dcd",
      "dry_pdb": "anci.exp01.md01.dry.pdb",
      "time": "ancient"
     },
     "ancia": {
      "dry_dcd": "ancia.exp01.md01.dry.dcd",
      "dry_pdb": "ancia.exp01.md01.dry.pdb",
      "time": "ancient"
     },
     "anciab": {
      "dry_dcd": "anciab.exp01.md01.dry.dcd",
      "dry_pdb": "anciab.exp01.md01.dry.pdb",
      "time": "ancient"
     },
     "ancib": {
      "dry_dcd": "ancib.exp01.md01.dry.dcd",
      "dry_pdb": "ancib.exp01.md01.dry.pdb",
      "time": "ancient"
     },
     "ancicd": {
      "dry_dcd": "ancicd.exp01.md01.dry.dcd",
      "dry_pdb": "ancicd.exp01.md01.dry.pdb",
      "time": "ancient"
     },
     "anciip": {
      "dry_dcd": "anciip.exp01.md01.dry.dcd",
      "dry_pdb": "anciip.exp01.md01.dry.pdb",
      "time": "ancient"
     },
     "ancip": {
      "dry_dcd": "ancip.exp01.md01.dry.dcd",
      "dry_pdb": "ancip.exp01.md01.dry.realigned.pdb",
      "time": "ancient"
     }
    },
    "product": {
     "avg_rmsd": "/mnt/researchdrive/bCuevas/r23/github_repo/RuBisCO_evolution/analysis/output/exp01-avg-rmsd.csv",
     "nb": "/mnt/researchdrive/bCuevas/r23/github_repo/RuBisCO_evolution/analysis/output/out-01-R23-RMSD.ipynb",
     "rmsd": "/mnt/researchdrive/bCuevas/r23/github_repo/RuBisCO_evolution/analysis/output/exp01-rmsd.csv"
    }
   },
   "start_time": "2024-07-07T18:39:12.884115"
  },
  "vscode": {
   "interpreter": {
    "hash": "ed49d9dc8263e20f82ef1c732e49d95838d00d7e343ec27a75bb1597d6166618"
   }
  }
 },
 "nbformat": 4,
 "nbformat_minor": 5
}