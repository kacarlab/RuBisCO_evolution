{
 "cells": [
  {
   "cell_type": "code",
   "execution_count": 1,
   "id": "ec7001eb",
   "metadata": {
    "execution": {
     "iopub.execute_input": "2024-07-07T19:45:25.406391Z",
     "iopub.status.busy": "2024-07-07T19:45:25.405920Z",
     "iopub.status.idle": "2024-07-07T19:45:25.413810Z",
     "shell.execute_reply": "2024-07-07T19:45:25.413389Z"
    },
    "papermill": {
     "duration": 0.041512,
     "end_time": "2024-07-07T19:45:25.414697",
     "exception": false,
     "start_time": "2024-07-07T19:45:25.373185",
     "status": "completed"
    },
    "tags": [
     "parameters"
    ]
   },
   "outputs": [],
   "source": [
    "md_reference_data = None\n",
    "upstream = None\n",
    "product = None"
   ]
  },
  {
   "cell_type": "code",
   "execution_count": 2,
   "id": "71f3f392",
   "metadata": {
    "execution": {
     "iopub.execute_input": "2024-07-07T19:45:25.456213Z",
     "iopub.status.busy": "2024-07-07T19:45:25.455838Z",
     "iopub.status.idle": "2024-07-07T19:45:25.470182Z",
     "shell.execute_reply": "2024-07-07T19:45:25.468703Z"
    },
    "papermill": {
     "duration": 0.03971,
     "end_time": "2024-07-07T19:45:25.473311",
     "exception": false,
     "start_time": "2024-07-07T19:45:25.433601",
     "status": "completed"
    },
    "tags": [
     "injected-parameters"
    ]
   },
   "outputs": [],
   "source": [
    "# Parameters\n",
    "md_reference_data = {\n",
    "    \"1bwv\": {\n",
    "        \"dry_dcd\": \"1bwv.exp01.md01.dry.dcd\",\n",
    "        \"dry_pdb\": \"1bwv.exp01.md01.dry.pdb\",\n",
    "        \"time\": \"extant\",\n",
    "    },\n",
    "    \"3zxw\": {\n",
    "        \"dry_dcd\": \"3zxw.exp01.md01.dry.dcd\",\n",
    "        \"dry_pdb\": \"3zxw.exp01.md01.dry.pdb\",\n",
    "        \"time\": \"extant\",\n",
    "    },\n",
    "    \"6ftl\": {\n",
    "        \"dry_dcd\": \"6ftl.exp01.md01.dry.dcd\",\n",
    "        \"dry_pdb\": \"6ftl.exp01.md01.dry.pdb\",\n",
    "        \"time\": \"extant\",\n",
    "    },\n",
    "    \"6ura\": {\n",
    "        \"dry_dcd\": \"6ura.exp01.md01.dry.dcd\",\n",
    "        \"dry_pdb\": \"6ura.exp01.md01.dry.pdb\",\n",
    "        \"time\": \"extant\",\n",
    "    },\n",
    "    \"8ruc\": {\n",
    "        \"dry_dcd\": \"8ruc.exp01.md01.dry.dcd\",\n",
    "        \"dry_pdb\": \"8ruc.exp01.md01.dry.pdb\",\n",
    "        \"time\": \"extant\",\n",
    "    },\n",
    "    \"anci\": {\n",
    "        \"dry_dcd\": \"anci.exp01.md01.dry.dcd\",\n",
    "        \"dry_pdb\": \"anci.exp01.md01.dry.pdb\",\n",
    "        \"time\": \"ancient\",\n",
    "    },\n",
    "    \"anciab\": {\n",
    "        \"dry_dcd\": \"anciab.exp01.md01.dry.dcd\",\n",
    "        \"dry_pdb\": \"anciab.exp01.md01.dry.pdb\",\n",
    "        \"time\": \"ancient\",\n",
    "    },\n",
    "    \"ancicd\": {\n",
    "        \"dry_dcd\": \"ancicd.exp01.md01.dry.dcd\",\n",
    "        \"dry_pdb\": \"ancicd.exp01.md01.dry.pdb\",\n",
    "        \"time\": \"ancient\",\n",
    "    },\n",
    "    \"ancia\": {\n",
    "        \"dry_dcd\": \"ancia.exp01.md01.dry.dcd\",\n",
    "        \"dry_pdb\": \"ancia.exp01.md01.dry.pdb\",\n",
    "        \"time\": \"ancient\",\n",
    "    },\n",
    "    \"ancib\": {\n",
    "        \"dry_dcd\": \"ancib.exp01.md01.dry.dcd\",\n",
    "        \"dry_pdb\": \"ancib.exp01.md01.dry.pdb\",\n",
    "        \"time\": \"ancient\",\n",
    "    },\n",
    "    \"anciip\": {\n",
    "        \"dry_dcd\": \"anciip.exp01.md01.dry.dcd\",\n",
    "        \"dry_pdb\": \"anciip.exp01.md01.dry.pdb\",\n",
    "        \"time\": \"ancient\",\n",
    "    },\n",
    "    \"ancip\": {\n",
    "        \"dry_dcd\": \"ancip.exp01.md01.dry.dcd\",\n",
    "        \"dry_pdb\": \"ancip.exp01.md01.dry.realigned.pdb\",\n",
    "        \"time\": \"ancient\",\n",
    "    },\n",
    "}\n",
    "product = {\n",
    "    \"nb\": \"/mnt/researchdrive/bCuevas/r23/github_repo/RuBisCO_evolution/analysis/output/out-02-R23-RMSF.ipynb\",\n",
    "    \"pdb_bfactor_map\": \"/mnt/researchdrive/bCuevas/r23/github_repo/RuBisCO_evolution/analysis/output/1bwv-RMSF.pdb\",\n",
    "    \"rbcs_rmsf\": \"/mnt/researchdrive/bCuevas/r23/github_repo/RuBisCO_evolution/analysis/output/rbcs-rmsf.csv\",\n",
    "    \"rbcl_rmsf\": \"/mnt/researchdrive/bCuevas/r23/github_repo/RuBisCO_evolution/analysis/output/rbcl-rmsf.csv\",\n",
    "    \"rbcl_alignment\": \"/mnt/researchdrive/bCuevas/r23/github_repo/RuBisCO_evolution/analysis/output/rbcl.fasta\",\n",
    "    \"rbcs_alignment\": \"/mnt/researchdrive/bCuevas/r23/github_repo/RuBisCO_evolution/analysis/output/rbcs.fasta\",\n",
    "}\n"
   ]
  },
  {
   "attachments": {},
   "cell_type": "markdown",
   "id": "2dafa245",
   "metadata": {
    "papermill": {
     "duration": 0.01815,
     "end_time": "2024-07-07T19:45:25.508208",
     "exception": false,
     "start_time": "2024-07-07T19:45:25.490058",
     "status": "completed"
    },
    "tags": []
   },
   "source": [
    "# R23 - MD alignment and RMSD extraction \n",
    "\n",
    "## Contents\n",
    "\n",
    "1. Alignment\n",
    "2. RMSD\n",
    "3. RMSD against average structure\n",
    "4. RMSD over subunit\n",
    "5. RMSF"
   ]
  },
  {
   "cell_type": "markdown",
   "id": "2882ac23",
   "metadata": {
    "papermill": {
     "duration": 0.028223,
     "end_time": "2024-07-07T19:45:25.555842",
     "exception": false,
     "start_time": "2024-07-07T19:45:25.527619",
     "status": "completed"
    },
    "tags": []
   },
   "source": [
    "## Alignment and preparation"
   ]
  },
  {
   "cell_type": "code",
   "execution_count": 3,
   "id": "8d3fb389",
   "metadata": {
    "execution": {
     "iopub.execute_input": "2024-07-07T19:45:25.610291Z",
     "iopub.status.busy": "2024-07-07T19:45:25.609916Z",
     "iopub.status.idle": "2024-07-07T19:45:26.118826Z",
     "shell.execute_reply": "2024-07-07T19:45:26.118315Z"
    },
    "papermill": {
     "duration": 0.533373,
     "end_time": "2024-07-07T19:45:26.120079",
     "exception": false,
     "start_time": "2024-07-07T19:45:25.586706",
     "status": "completed"
    },
    "tags": []
   },
   "outputs": [
    {
     "name": "stderr",
     "output_type": "stream",
     "text": [
      "/home/kaustubh/miniconda3/envs/md-analysis/lib/python3.10/site-packages/Bio/pairwise2.py:278: BiopythonDeprecationWarning: Bio.pairwise2 has been deprecated, and we intend to remove it in a future release of Biopython. As an alternative, please consider using Bio.Align.PairwiseAligner as a replacement, and contact the Biopython developers if you still need the Bio.pairwise2 module.\n",
      "  warnings.warn(\n"
     ]
    }
   ],
   "source": [
    "from mdtools.mapping import map_alignment_to_structure, align_structure_sequences\n",
    "import MDAnalysis as mda\n",
    "from MDAnalysis.analysis import rms, align\n",
    "from pyfamsa import Aligner, Sequence\n",
    "import json\n",
    "import pandas as pd\n",
    "import prody as pdy\n",
    "#matplotlib.rcParams['fontname'] = \"Arial\""
   ]
  },
  {
   "cell_type": "code",
   "execution_count": 4,
   "id": "af636f67",
   "metadata": {
    "execution": {
     "iopub.execute_input": "2024-07-07T19:45:26.147800Z",
     "iopub.status.busy": "2024-07-07T19:45:26.147217Z",
     "iopub.status.idle": "2024-07-07T19:45:26.153176Z",
     "shell.execute_reply": "2024-07-07T19:45:26.152656Z"
    },
    "papermill": {
     "duration": 0.021669,
     "end_time": "2024-07-07T19:45:26.154720",
     "exception": false,
     "start_time": "2024-07-07T19:45:26.133051",
     "status": "completed"
    },
    "tags": []
   },
   "outputs": [],
   "source": [
    "def load_trajectory(code, data, path):\n",
    "    \n",
    "    \"\"\"\n",
    "    loads the following files\n",
    "    - an MDAnalysis trajectory with the dried (water-removed) dcd\n",
    "    - an MDAnalysis Universe with the starting PDB (jic)\n",
    "    - an prody with the starting PDB (pretty useful when MDAnalysis fails)\n",
    "    \"\"\"\n",
    "    return dict(\n",
    "        code=code,\n",
    "        trajectory_dry = mda.Universe(\n",
    "            path + data['dry_pdb'], \n",
    "            path + data['dry_dcd'], \n",
    "            frames='all', in_memory=True\n",
    "        ),\n",
    "        reference_pdy=pdy.parsePDB(path + data['dry_pdb']),\n",
    "        reference=mda.Universe(\n",
    "            path + data['dry_pdb']\n",
    "        ),\n",
    "        time=data['time']\n",
    "    )\n"
   ]
  },
  {
   "cell_type": "markdown",
   "id": "7583e6c6",
   "metadata": {
    "papermill": {
     "duration": 0.016587,
     "end_time": "2024-07-07T19:45:26.186169",
     "exception": false,
     "start_time": "2024-07-07T19:45:26.169582",
     "status": "completed"
    },
    "tags": []
   },
   "source": [
    "Loading all the simulations."
   ]
  },
  {
   "cell_type": "code",
   "execution_count": 5,
   "id": "65d8fe27",
   "metadata": {
    "execution": {
     "iopub.execute_input": "2024-07-07T19:45:26.230183Z",
     "iopub.status.busy": "2024-07-07T19:45:26.229732Z",
     "iopub.status.idle": "2024-07-07T20:37:43.044710Z",
     "shell.execute_reply": "2024-07-07T20:37:43.044240Z"
    },
    "papermill": {
     "duration": 3136.84211,
     "end_time": "2024-07-07T20:37:43.045627",
     "exception": false,
     "start_time": "2024-07-07T19:45:26.203517",
     "status": "completed"
    },
    "tags": []
   },
   "outputs": [
    {
     "name": "stdout",
     "output_type": "stream",
     "text": [
      "-- code 1bwv"
     ]
    },
    {
     "name": "stderr",
     "output_type": "stream",
     "text": [
      "/home/kaustubh/miniconda3/envs/md-analysis/lib/python3.10/site-packages/MDAnalysis/topology/PDBParser.py:328: UserWarning: Element information is missing, elements attribute will not be populated. If needed these can be guessed using MDAnalysis.topology.guessers.\n",
      "  warnings.warn(\"Element information is missing, elements attribute \"\n"
     ]
    },
    {
     "name": "stderr",
     "output_type": "stream",
     "text": [
      "@> 77672 atoms and 1 coordinate set(s) were parsed in 2.86s.\n"
     ]
    },
    {
     "name": "stdout",
     "output_type": "stream",
     "text": [
      " loaded\n",
      "-- code 3zxw"
     ]
    },
    {
     "name": "stderr",
     "output_type": "stream",
     "text": [
      "@> 69984 atoms and 1 coordinate set(s) were parsed in 0.66s.\n"
     ]
    },
    {
     "name": "stdout",
     "output_type": "stream",
     "text": [
      " loaded\n",
      "-- code 6ftl"
     ]
    },
    {
     "name": "stderr",
     "output_type": "stream",
     "text": [
      "@> 77416 atoms and 1 coordinate set(s) were parsed in 0.85s.\n"
     ]
    },
    {
     "name": "stdout",
     "output_type": "stream",
     "text": [
      " loaded\n",
      "-- code 6ura"
     ]
    },
    {
     "name": "stderr",
     "output_type": "stream",
     "text": [
      "@> 54648 atoms and 1 coordinate set(s) were parsed in 1.53s.\n"
     ]
    },
    {
     "name": "stdout",
     "output_type": "stream",
     "text": [
      " loaded\n",
      "-- code 8ruc"
     ]
    },
    {
     "name": "stderr",
     "output_type": "stream",
     "text": [
      "@> 74224 atoms and 1 coordinate set(s) were parsed in 0.85s.\n"
     ]
    },
    {
     "name": "stdout",
     "output_type": "stream",
     "text": [
      " loaded\n",
      "-- code anci"
     ]
    },
    {
     "name": "stderr",
     "output_type": "stream",
     "text": [
      "@> 72128 atoms and 1 coordinate set(s) were parsed in 1.77s.\n"
     ]
    },
    {
     "name": "stdout",
     "output_type": "stream",
     "text": [
      " loaded\n",
      "-- code anciab"
     ]
    },
    {
     "name": "stderr",
     "output_type": "stream",
     "text": [
      "@> 72640 atoms and 1 coordinate set(s) were parsed in 0.88s.\n"
     ]
    },
    {
     "name": "stdout",
     "output_type": "stream",
     "text": [
      " loaded\n",
      "-- code ancicd"
     ]
    },
    {
     "name": "stderr",
     "output_type": "stream",
     "text": [
      "@> 76208 atoms and 1 coordinate set(s) were parsed in 0.41s.\n"
     ]
    },
    {
     "name": "stdout",
     "output_type": "stream",
     "text": [
      " loaded\n",
      "-- code ancia"
     ]
    },
    {
     "name": "stderr",
     "output_type": "stream",
     "text": [
      "@> 73536 atoms and 1 coordinate set(s) were parsed in 3.55s.\n"
     ]
    },
    {
     "name": "stdout",
     "output_type": "stream",
     "text": [
      " loaded\n",
      "-- code ancib"
     ]
    },
    {
     "name": "stderr",
     "output_type": "stream",
     "text": [
      "@> 72352 atoms and 1 coordinate set(s) were parsed in 1.66s.\n"
     ]
    },
    {
     "name": "stdout",
     "output_type": "stream",
     "text": [
      " loaded\n",
      "-- code anciip"
     ]
    },
    {
     "name": "stderr",
     "output_type": "stream",
     "text": [
      "@> 55120 atoms and 1 coordinate set(s) were parsed in 5.33s.\n"
     ]
    },
    {
     "name": "stdout",
     "output_type": "stream",
     "text": [
      " loaded\n",
      "-- code ancip"
     ]
    },
    {
     "name": "stderr",
     "output_type": "stream",
     "text": [
      "@> 54768 atoms and 1 coordinate set(s) were parsed in 1.97s.\n"
     ]
    },
    {
     "name": "stdout",
     "output_type": "stream",
     "text": [
      " loaded\n"
     ]
    }
   ],
   "source": [
    "path = '../../../simulations/'\n",
    "exp01_md = []\n",
    "for key, items in md_reference_data.items():\n",
    "    print(f\"-- code {key}\", end='')\n",
    "    exp01_md.append(load_trajectory(\n",
    "        code=key, data=items, path=path\n",
    "    ))\n",
    "    print(f\" loaded\")\n",
    "exp01_md = pd.DataFrame.from_records(exp01_md).set_index('code')"
   ]
  },
  {
   "attachments": {},
   "cell_type": "markdown",
   "id": "4fc79331",
   "metadata": {
    "papermill": {
     "duration": 0.016618,
     "end_time": "2024-07-07T20:37:43.077500",
     "exception": false,
     "start_time": "2024-07-07T20:37:43.060882",
     "status": "completed"
    },
    "tags": []
   },
   "source": [
    "# Analysis of the RMSF\n",
    "\n",
    "This part is a little bit convolved because it required mapping the residues to a common alignment (otherwise, the comparison doesn't have much sense)."
   ]
  },
  {
   "cell_type": "code",
   "execution_count": 6,
   "id": "864335d9",
   "metadata": {
    "execution": {
     "iopub.execute_input": "2024-07-07T20:37:43.112116Z",
     "iopub.status.busy": "2024-07-07T20:37:43.111789Z",
     "iopub.status.idle": "2024-07-07T20:37:43.118536Z",
     "shell.execute_reply": "2024-07-07T20:37:43.117319Z"
    },
    "papermill": {
     "duration": 0.029255,
     "end_time": "2024-07-07T20:37:43.121226",
     "exception": false,
     "start_time": "2024-07-07T20:37:43.091971",
     "status": "completed"
    },
    "tags": []
   },
   "outputs": [],
   "source": [
    "def alignment_to_fasta(alignment):\n",
    "    return \"\\n\".join([f\"> {item['id']}\\n{item['sequence']}\" for item in alignment])"
   ]
  },
  {
   "cell_type": "code",
   "execution_count": 7,
   "id": "0f71ef3a",
   "metadata": {
    "execution": {
     "iopub.execute_input": "2024-07-07T20:37:43.158482Z",
     "iopub.status.busy": "2024-07-07T20:37:43.158128Z",
     "iopub.status.idle": "2024-07-07T20:37:43.284539Z",
     "shell.execute_reply": "2024-07-07T20:37:43.283877Z"
    },
    "papermill": {
     "duration": 0.148527,
     "end_time": "2024-07-07T20:37:43.286343",
     "exception": false,
     "start_time": "2024-07-07T20:37:43.137816",
     "status": "completed"
    },
    "tags": []
   },
   "outputs": [],
   "source": [
    "large_subunits_alignment = align_structure_sequences(exp01_md['reference_pdy'].to_list(), exp01_md.index.to_list(), chain='A')\n",
    "# LITTLE HACK FOR 6URA\n",
    "small_subunit_index = exp01_md.index.isin(['6ura', 'anciip', 'ancip'])\n",
    "small_subunits_alignment = align_structure_sequences(\n",
    "    exp01_md['reference_pdy'][~small_subunit_index].to_list(), \n",
    "    exp01_md[~small_subunit_index].index.to_list(), chain='B')\n",
    "\n",
    "with open(product['rbcl_alignment'], 'w') as f:\n",
    "    f.write(alignment_to_fasta(large_subunits_alignment))\n",
    "with open(product['rbcs_alignment'], 'w') as f:\n",
    "    f.write(alignment_to_fasta(small_subunits_alignment))"
   ]
  },
  {
   "cell_type": "code",
   "execution_count": 8,
   "id": "66099cf9",
   "metadata": {
    "execution": {
     "iopub.execute_input": "2024-07-07T20:37:43.334552Z",
     "iopub.status.busy": "2024-07-07T20:37:43.334136Z",
     "iopub.status.idle": "2024-07-07T20:37:51.900812Z",
     "shell.execute_reply": "2024-07-07T20:37:51.900362Z"
    },
    "papermill": {
     "duration": 8.597707,
     "end_time": "2024-07-07T20:37:51.901748",
     "exception": false,
     "start_time": "2024-07-07T20:37:43.304041",
     "status": "completed"
    },
    "tags": []
   },
   "outputs": [
    {
     "name": "stdout",
     "output_type": "stream",
     "text": [
      "-- 1bwv "
     ]
    },
    {
     "name": "stdout",
     "output_type": "stream",
     "text": [
      " done\n",
      "-- 3zxw "
     ]
    },
    {
     "name": "stdout",
     "output_type": "stream",
     "text": [
      " done\n",
      "-- 6ftl "
     ]
    },
    {
     "name": "stdout",
     "output_type": "stream",
     "text": [
      " done\n",
      "-- 6ura "
     ]
    },
    {
     "name": "stdout",
     "output_type": "stream",
     "text": [
      " done\n",
      "-- 8ruc "
     ]
    },
    {
     "name": "stdout",
     "output_type": "stream",
     "text": [
      " done\n",
      "-- anci "
     ]
    },
    {
     "name": "stdout",
     "output_type": "stream",
     "text": [
      " done\n",
      "-- anciab "
     ]
    },
    {
     "name": "stdout",
     "output_type": "stream",
     "text": [
      " done\n",
      "-- ancicd "
     ]
    },
    {
     "name": "stdout",
     "output_type": "stream",
     "text": [
      " done\n",
      "-- ancia "
     ]
    },
    {
     "name": "stdout",
     "output_type": "stream",
     "text": [
      " done\n",
      "-- ancib "
     ]
    },
    {
     "name": "stdout",
     "output_type": "stream",
     "text": [
      " done\n",
      "-- anciip "
     ]
    },
    {
     "name": "stdout",
     "output_type": "stream",
     "text": [
      " done\n",
      "-- ancip "
     ]
    },
    {
     "name": "stdout",
     "output_type": "stream",
     "text": [
      " done\n"
     ]
    }
   ],
   "source": [
    "large_subunits_alignment = pd.DataFrame(\n",
    "    large_subunits_alignment\n",
    ").set_index('id').T\n",
    "\n",
    "\n",
    "upper_lsu = 'name CA and (segid A or segid E or segid I or segid M)'\n",
    "lower_lsu = 'name CA and (segid C or segid G or segid K or segid O)'\n",
    "lsu = 'name CA and (segid A or segid E or segid I or segid M or segid C or segid G or segid K or segid O)'\n",
    "\n",
    "exp01_rbcl_rmsf = []\n",
    "\n",
    "for key, item in exp01_md.iterrows():\n",
    "    print(f\"-- {key} \", end=\"\")\n",
    "    u = item['trajectory_dry'].select_atoms(lsu)\n",
    "    R = rms.RMSF(u)\n",
    "    results = R.run()\n",
    "    rmsf_values = results.results.rmsf\n",
    "    forward_residue_map, backward_residue_map = map_alignment_to_structure(\n",
    "        structure=item['reference_pdy'], \n",
    "        aligned_sequence=large_subunits_alignment[key].to_list()[0],\n",
    "        on_chain='A'\n",
    "    )\n",
    "    try:\n",
    "        reference_pdy = item['reference_pdy'].select('(chain A or chain C or chain E or chain G or chain I or chain K or chain M or chain O) and name CA')\n",
    "    except TypeError:\n",
    "        reference_pdy = item['reference_pdy'].select('(chain A or chain C or chain E or chain G or chain I or chain K or chain M or chain O) and name CA')\n",
    "    for i, (res, res_pdy) in enumerate(zip(u.residues, reference_pdy.getHierView().iterResidues())):\n",
    "        try:\n",
    "            resnum = backward_residue_map.index(res.resnum)\n",
    "        \n",
    "\n",
    "            exp01_rbcl_rmsf.append(\n",
    "                dict(\n",
    "                    rmsf=rmsf_values[i], resnum=resnum, chain=res_pdy.getChid(), code=key\n",
    "\n",
    "                )\n",
    "            )    \n",
    "        except:\n",
    "            continue\n",
    "    print(\" done\")\n",
    "\n",
    "            \n",
    "exp01_rbcl_rmsf = pd.DataFrame.from_records(exp01_rbcl_rmsf)"
   ]
  },
  {
   "cell_type": "code",
   "execution_count": 9,
   "id": "45c41f7d",
   "metadata": {
    "execution": {
     "iopub.execute_input": "2024-07-07T20:37:51.957747Z",
     "iopub.status.busy": "2024-07-07T20:37:51.957396Z",
     "iopub.status.idle": "2024-07-07T20:37:57.700199Z",
     "shell.execute_reply": "2024-07-07T20:37:57.699843Z"
    },
    "papermill": {
     "duration": 5.763111,
     "end_time": "2024-07-07T20:37:57.701106",
     "exception": false,
     "start_time": "2024-07-07T20:37:51.937995",
     "status": "completed"
    },
    "tags": []
   },
   "outputs": [
    {
     "name": "stdout",
     "output_type": "stream",
     "text": [
      "-- 1bwv "
     ]
    },
    {
     "name": "stdout",
     "output_type": "stream",
     "text": [
      " done\n",
      "-- 3zxw "
     ]
    },
    {
     "name": "stdout",
     "output_type": "stream",
     "text": [
      " done\n",
      "-- 6ftl "
     ]
    },
    {
     "name": "stdout",
     "output_type": "stream",
     "text": [
      " done\n",
      "-- 6ura  skipped\n",
      "-- 8ruc "
     ]
    },
    {
     "name": "stdout",
     "output_type": "stream",
     "text": [
      " done\n",
      "-- anci "
     ]
    },
    {
     "name": "stdout",
     "output_type": "stream",
     "text": [
      " done\n",
      "-- anciab "
     ]
    },
    {
     "name": "stdout",
     "output_type": "stream",
     "text": [
      " done\n",
      "-- ancicd "
     ]
    },
    {
     "name": "stdout",
     "output_type": "stream",
     "text": [
      " done\n",
      "-- ancia "
     ]
    },
    {
     "name": "stdout",
     "output_type": "stream",
     "text": [
      " done\n",
      "-- ancib "
     ]
    },
    {
     "name": "stdout",
     "output_type": "stream",
     "text": [
      " done\n",
      "-- anciip  skipped\n",
      "-- ancip  skipped\n"
     ]
    }
   ],
   "source": [
    "small_subunits_alignment = pd.DataFrame(\n",
    "    small_subunits_alignment\n",
    ").set_index('id').T\n",
    "\n",
    "upper_ssu = 'name CA and (segid B or segid F or segid J or segid N)'\n",
    "lower_ssu = 'name CA and (segid D or segid H or segid L or segid P)'\n",
    "ssu = 'name CA and (segid B or segid F or segid J or segid N or segid D or segid H or segid L or segid P)'\n",
    "\n",
    "\n",
    "exp01_rbcs_rmsf = []\n",
    "\n",
    "for key, item in exp01_md.iterrows():\n",
    "    print(f\"-- {key} \", end=\"\")\n",
    "    if key in ['6ura', 'anciip', 'ancip']: \n",
    "        print(\" skipped\")\n",
    "        continue\n",
    "    u = item['trajectory_dry'].select_atoms('(chainID B or chainID D or chainID F or chainID H or chainID J or chainID L or chainID N or chainID P) and name CA')\n",
    "    R = rms.RMSF(u)\n",
    "    results = R.run()\n",
    "    rmsf_values = results.results.rmsf\n",
    "    forward_residue_map, backward_residue_map = map_alignment_to_structure(\n",
    "        structure=item['reference_pdy'], \n",
    "        aligned_sequence=small_subunits_alignment[key].to_list()[0],\n",
    "        on_chain='B'\n",
    "    )\n",
    "    try:\n",
    "        reference_pdy = item['reference_pdy'].select('(chain B or chain D or chain F or chain H or chain J or chain L or chain N or chain P) and name CA')\n",
    "    except KeyError:\n",
    "        reference_pdy = item['reference_pdy'].select('(chain B or chain D or chain F or chain H or chain J or chain L or chain N or chain P) and name CA')\n",
    "\n",
    "    for i, (res, res_pdy) in enumerate(zip(u.residues, reference_pdy.getHierView().iterResidues())):\n",
    "        try:\n",
    "            resnum = backward_residue_map.index(res.resnum)\n",
    "        \n",
    "\n",
    "            exp01_rbcs_rmsf.append(\n",
    "                dict(\n",
    "                    rmsf=rmsf_values[i], resnum=resnum, chain=res_pdy.getChid(), code=key,\n",
    "                    time=item['time']\n",
    "\n",
    "                )\n",
    "            )    \n",
    "        except:\n",
    "            print(f\"error with {res.resnum}\")\n",
    "            continue\n",
    "    print(f\" done\")\n",
    "\n",
    "exp01_rbcs_rmsf = pd.DataFrame.from_records(exp01_rbcs_rmsf)\n"
   ]
  },
  {
   "cell_type": "markdown",
   "id": "497c10ab",
   "metadata": {
    "papermill": {
     "duration": 0.025316,
     "end_time": "2024-07-07T20:37:57.759840",
     "exception": false,
     "start_time": "2024-07-07T20:37:57.734524",
     "status": "completed"
    },
    "tags": []
   },
   "source": [
    "We finally map the RMSFs into a protein structure to visualize the RMSF spacially."
   ]
  },
  {
   "cell_type": "code",
   "execution_count": 10,
   "id": "07da1886",
   "metadata": {
    "execution": {
     "iopub.execute_input": "2024-07-07T20:37:57.824637Z",
     "iopub.status.busy": "2024-07-07T20:37:57.824278Z",
     "iopub.status.idle": "2024-07-07T20:37:57.966382Z",
     "shell.execute_reply": "2024-07-07T20:37:57.965914Z"
    },
    "papermill": {
     "duration": 0.175335,
     "end_time": "2024-07-07T20:37:57.967701",
     "exception": false,
     "start_time": "2024-07-07T20:37:57.792366",
     "status": "completed"
    },
    "tags": []
   },
   "outputs": [],
   "source": [
    "exp01_rbcs_rmsf.to_csv(product['rbcs_rmsf'])\n",
    "exp01_rbcl_rmsf.to_csv(product['rbcl_rmsf'])"
   ]
  },
  {
   "cell_type": "code",
   "execution_count": 11,
   "id": "6bda8d7b",
   "metadata": {
    "execution": {
     "iopub.execute_input": "2024-07-07T20:37:58.038657Z",
     "iopub.status.busy": "2024-07-07T20:37:58.038279Z",
     "iopub.status.idle": "2024-07-07T20:37:58.413759Z",
     "shell.execute_reply": "2024-07-07T20:37:58.413353Z"
    },
    "papermill": {
     "duration": 0.41113,
     "end_time": "2024-07-07T20:37:58.414612",
     "exception": false,
     "start_time": "2024-07-07T20:37:58.003482",
     "status": "completed"
    },
    "tags": []
   },
   "outputs": [
    {
     "data": {
      "text/plain": [
       "'/mnt/researchdrive/bCuevas/r23/github_repo/RuBisCO_evolution/analysis/output/1bwv-RMSF.pdb'"
      ]
     },
     "execution_count": 11,
     "metadata": {},
     "output_type": "execute_result"
    }
   ],
   "source": [
    "for residue, rmsf in zip(\n",
    "    exp01_md['reference_pdy'].loc['1bwv'].select('chain B').getHierView().iterResidues(), \n",
    "    exp01_rbcs_rmsf.query('code == \"1bwv\"').groupby('resnum')['rmsf'].mean().tolist()\n",
    "):\n",
    "    residue.setBetas(rmsf)\n",
    "pdy.writePDB(product['pdb_bfactor_map'], exp01_md['reference_pdy'].loc['1bwv'].select('chain B'))"
   ]
  }
 ],
 "metadata": {
  "kernelspec": {
   "display_name": "Python 3 (ipykernel)",
   "language": "python",
   "name": "python3"
  },
  "language_info": {
   "codemirror_mode": {
    "name": "ipython",
    "version": 3
   },
   "file_extension": ".py",
   "mimetype": "text/x-python",
   "name": "python",
   "nbconvert_exporter": "python",
   "pygments_lexer": "ipython3",
   "version": "3.10.6"
  },
  "papermill": {
   "duration": 3154.353036,
   "end_time": "2024-07-07T20:37:58.956928",
   "exception": null,
   "input_path": "/tmp/tmpgz9ycwn7.ipynb",
   "output_path": "/mnt/researchdrive/bCuevas/r23/github_repo/RuBisCO_evolution/analysis/output/out-02-R23-RMSF.ipynb",
   "parameters": {
    "md_reference_data": {
     "1bwv": {
      "dry_dcd": "1bwv.exp01.md01.dry.dcd",
      "dry_pdb": "1bwv.exp01.md01.dry.pdb",
      "time": "extant"
     },
     "3zxw": {
      "dry_dcd": "3zxw.exp01.md01.dry.dcd",
      "dry_pdb": "3zxw.exp01.md01.dry.pdb",
      "time": "extant"
     },
     "6ftl": {
      "dry_dcd": "6ftl.exp01.md01.dry.dcd",
      "dry_pdb": "6ftl.exp01.md01.dry.pdb",
      "time": "extant"
     },
     "6ura": {
      "dry_dcd": "6ura.exp01.md01.dry.dcd",
      "dry_pdb": "6ura.exp01.md01.dry.pdb",
      "time": "extant"
     },
     "8ruc": {
      "dry_dcd": "8ruc.exp01.md01.dry.dcd",
      "dry_pdb": "8ruc.exp01.md01.dry.pdb",
      "time": "extant"
     },
     "anci": {
      "dry_dcd": "anci.exp01.md01.dry.dcd",
      "dry_pdb": "anci.exp01.md01.dry.pdb",
      "time": "ancient"
     },
     "ancia": {
      "dry_dcd": "ancia.exp01.md01.dry.dcd",
      "dry_pdb": "ancia.exp01.md01.dry.pdb",
      "time": "ancient"
     },
     "anciab": {
      "dry_dcd": "anciab.exp01.md01.dry.dcd",
      "dry_pdb": "anciab.exp01.md01.dry.pdb",
      "time": "ancient"
     },
     "ancib": {
      "dry_dcd": "ancib.exp01.md01.dry.dcd",
      "dry_pdb": "ancib.exp01.md01.dry.pdb",
      "time": "ancient"
     },
     "ancicd": {
      "dry_dcd": "ancicd.exp01.md01.dry.dcd",
      "dry_pdb": "ancicd.exp01.md01.dry.pdb",
      "time": "ancient"
     },
     "anciip": {
      "dry_dcd": "anciip.exp01.md01.dry.dcd",
      "dry_pdb": "anciip.exp01.md01.dry.pdb",
      "time": "ancient"
     },
     "ancip": {
      "dry_dcd": "ancip.exp01.md01.dry.dcd",
      "dry_pdb": "ancip.exp01.md01.dry.realigned.pdb",
      "time": "ancient"
     }
    },
    "product": {
     "nb": "/mnt/researchdrive/bCuevas/r23/github_repo/RuBisCO_evolution/analysis/output/out-02-R23-RMSF.ipynb",
     "pdb_bfactor_map": "/mnt/researchdrive/bCuevas/r23/github_repo/RuBisCO_evolution/analysis/output/1bwv-RMSF.pdb",
     "rbcl_alignment": "/mnt/researchdrive/bCuevas/r23/github_repo/RuBisCO_evolution/analysis/output/rbcl.fasta",
     "rbcl_rmsf": "/mnt/researchdrive/bCuevas/r23/github_repo/RuBisCO_evolution/analysis/output/rbcl-rmsf.csv",
     "rbcs_alignment": "/mnt/researchdrive/bCuevas/r23/github_repo/RuBisCO_evolution/analysis/output/rbcs.fasta",
     "rbcs_rmsf": "/mnt/researchdrive/bCuevas/r23/github_repo/RuBisCO_evolution/analysis/output/rbcs-rmsf.csv"
    }
   },
   "start_time": "2024-07-07T19:45:24.603892"
  },
  "vscode": {
   "interpreter": {
    "hash": "ed49d9dc8263e20f82ef1c732e49d95838d00d7e343ec27a75bb1597d6166618"
   }
  }
 },
 "nbformat": 4,
 "nbformat_minor": 5
}